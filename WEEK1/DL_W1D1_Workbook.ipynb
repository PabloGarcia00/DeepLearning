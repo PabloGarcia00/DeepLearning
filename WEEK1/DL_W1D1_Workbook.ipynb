{
 "cells": [
  {
   "cell_type": "markdown",
   "metadata": {
    "id": "PNydeyBeEypQ"
   },
   "source": [
    "# Deep Learning Labs\n",
    "## Week 1, Day 1 - Introduction\n",
    "\n",
    "Wageningen University, Edition 2021a"
   ]
  },
  {
   "cell_type": "markdown",
   "metadata": {
    "id": "CxFXcIS3FRVZ"
   },
   "source": [
    "Welcome to the first notebook of this course!\n",
    "Today, we will go through three parts:\n",
    "\n",
    "\n",
    "1.   Basics of Google Colab and setup of the environment (this Workbook)\n",
    "2.   Introducing Tensors (Additional  workbooks from the book: 2.1, 2.2\n",
    "3.   Linear Algebra with Pytorch (Additional workbook from the book: 2.3)\n",
    "\n",
    "For parts 2 and 3 there are suggestions for book exercises, and there are some extra questions at the end of this workbook.\n",
    "\n"
   ]
  },
  {
   "cell_type": "markdown",
   "metadata": {
    "id": "xzLwsiDuI5cv"
   },
   "source": [
    "### 1) Basics of Google Colab and setup of the environment\n",
    "#### 1.1) What is Google Colab, and how to use it\n",
    "Google Colab is a Jupyter notebook environment, which runs on Google's servers. It has two advantages:\n",
    "\n",
    "1. It is very simple to use\n",
    "2. It gives you access to a good amount of computing power for free.\n",
    "\n",
    "The first thing that you want to do is to save a copy in your own Google drive so that you can edit it. To do so, click \"File\" then \"Save a copy in Drive...\"\n",
    "\n",
    "Once you have done that, you can edit the whole notebook. For instance click \"+ Code\" above. It should add a \"Code block\". In the block, you can type a piece of Python code, click on the play button on the left (or shift + enter) and the code will be executed, leading to an output with the potential result. For instance type \"21 * 2\" and then press enter."
   ]
  },
  {
   "cell_type": "markdown",
   "metadata": {
    "id": "lmLFyJgGQYN2"
   },
   "source": [
    "#### 1.2) Enabling GPU support\n",
    "You might have heard that GPUs (Graphical Processing Units) are important when it comes to training deep learning models. As said before, Colab offers some computing power for free, including a GPU. However, it is not enabled by default. To enable it, click \"Runtime\" then \"Change runtime type\" and select \"GPU\" as hardware accelerator."
   ]
  },
  {
   "cell_type": "markdown",
   "metadata": {
    "id": "Ja7UVnnYFhtp"
   },
   "source": [
    "#### 1.3) Installing the essentials\n",
    "During this course, we will use one important library: **PyTorch**. It is the Deep Learning framework that we will use, so we do not have to code everything from scratch. \n",
    "\n",
    "PyTorch is an option, but keep in mind that other choices are available (e.g. Keras, Apache's MXNet or Google's Tensorflow). As this course focuses on theory, it should not be hard to switch between frameworks in the future, if you need to.\n",
    "\n",
    "PyTorch is already pre-installed on google colab environment. \n",
    "\n",
    "To install the libraries of the book, execute the following command:"
   ]
  },
  {
   "cell_type": "code",
   "execution_count": 2,
   "metadata": {
    "id": "T1pG1J9OEr3L"
   },
   "outputs": [
    {
     "name": "stdout",
     "output_type": "stream",
     "text": [
      "Requirement already satisfied: d2l in /home/llan/miniconda3/envs/pytorch/lib/python3.11/site-packages (1.0.3)\n",
      "Requirement already satisfied: jupyter==1.0.0 in /home/llan/miniconda3/envs/pytorch/lib/python3.11/site-packages (from d2l) (1.0.0)\n",
      "Requirement already satisfied: numpy==1.23.5 in /home/llan/miniconda3/envs/pytorch/lib/python3.11/site-packages (from d2l) (1.23.5)\n",
      "Requirement already satisfied: matplotlib==3.7.2 in /home/llan/miniconda3/envs/pytorch/lib/python3.11/site-packages (from d2l) (3.7.2)\n",
      "Requirement already satisfied: matplotlib-inline==0.1.6 in /home/llan/miniconda3/envs/pytorch/lib/python3.11/site-packages (from d2l) (0.1.6)\n",
      "Requirement already satisfied: requests==2.31.0 in /home/llan/miniconda3/envs/pytorch/lib/python3.11/site-packages (from d2l) (2.31.0)\n",
      "Requirement already satisfied: pandas==2.0.3 in /home/llan/miniconda3/envs/pytorch/lib/python3.11/site-packages (from d2l) (2.0.3)\n",
      "Requirement already satisfied: scipy==1.10.1 in /home/llan/miniconda3/envs/pytorch/lib/python3.11/site-packages (from d2l) (1.10.1)\n",
      "Requirement already satisfied: notebook in /home/llan/miniconda3/envs/pytorch/lib/python3.11/site-packages (from jupyter==1.0.0->d2l) (7.1.1)\n",
      "Requirement already satisfied: qtconsole in /home/llan/miniconda3/envs/pytorch/lib/python3.11/site-packages (from jupyter==1.0.0->d2l) (5.5.1)\n",
      "Requirement already satisfied: jupyter-console in /home/llan/miniconda3/envs/pytorch/lib/python3.11/site-packages (from jupyter==1.0.0->d2l) (6.6.3)\n",
      "Requirement already satisfied: nbconvert in /home/llan/miniconda3/envs/pytorch/lib/python3.11/site-packages (from jupyter==1.0.0->d2l) (7.16.2)\n",
      "Requirement already satisfied: ipykernel in /home/llan/miniconda3/envs/pytorch/lib/python3.11/site-packages (from jupyter==1.0.0->d2l) (6.29.3)\n",
      "Requirement already satisfied: ipywidgets in /home/llan/miniconda3/envs/pytorch/lib/python3.11/site-packages (from jupyter==1.0.0->d2l) (8.1.2)\n",
      "Requirement already satisfied: contourpy>=1.0.1 in /home/llan/miniconda3/envs/pytorch/lib/python3.11/site-packages (from matplotlib==3.7.2->d2l) (1.2.0)\n",
      "Requirement already satisfied: cycler>=0.10 in /home/llan/miniconda3/envs/pytorch/lib/python3.11/site-packages (from matplotlib==3.7.2->d2l) (0.12.1)\n",
      "Requirement already satisfied: fonttools>=4.22.0 in /home/llan/miniconda3/envs/pytorch/lib/python3.11/site-packages (from matplotlib==3.7.2->d2l) (4.49.0)\n",
      "Requirement already satisfied: kiwisolver>=1.0.1 in /home/llan/miniconda3/envs/pytorch/lib/python3.11/site-packages (from matplotlib==3.7.2->d2l) (1.4.5)\n",
      "Requirement already satisfied: packaging>=20.0 in /home/llan/miniconda3/envs/pytorch/lib/python3.11/site-packages (from matplotlib==3.7.2->d2l) (23.2)\n",
      "Requirement already satisfied: pillow>=6.2.0 in /home/llan/miniconda3/envs/pytorch/lib/python3.11/site-packages (from matplotlib==3.7.2->d2l) (10.2.0)\n",
      "Requirement already satisfied: pyparsing<3.1,>=2.3.1 in /home/llan/miniconda3/envs/pytorch/lib/python3.11/site-packages (from matplotlib==3.7.2->d2l) (3.0.9)\n",
      "Requirement already satisfied: python-dateutil>=2.7 in /home/llan/miniconda3/envs/pytorch/lib/python3.11/site-packages (from matplotlib==3.7.2->d2l) (2.8.2)\n",
      "Requirement already satisfied: traitlets in /home/llan/miniconda3/envs/pytorch/lib/python3.11/site-packages (from matplotlib-inline==0.1.6->d2l) (5.14.1)\n",
      "Requirement already satisfied: pytz>=2020.1 in /home/llan/miniconda3/envs/pytorch/lib/python3.11/site-packages (from pandas==2.0.3->d2l) (2024.1)\n",
      "Requirement already satisfied: tzdata>=2022.1 in /home/llan/miniconda3/envs/pytorch/lib/python3.11/site-packages (from pandas==2.0.3->d2l) (2024.1)\n",
      "Requirement already satisfied: charset-normalizer<4,>=2 in /home/llan/miniconda3/envs/pytorch/lib/python3.11/site-packages (from requests==2.31.0->d2l) (2.0.4)\n",
      "Requirement already satisfied: idna<4,>=2.5 in /home/llan/miniconda3/envs/pytorch/lib/python3.11/site-packages (from requests==2.31.0->d2l) (3.4)\n",
      "Requirement already satisfied: urllib3<3,>=1.21.1 in /home/llan/miniconda3/envs/pytorch/lib/python3.11/site-packages (from requests==2.31.0->d2l) (1.26.16)\n",
      "Requirement already satisfied: certifi>=2017.4.17 in /home/llan/miniconda3/envs/pytorch/lib/python3.11/site-packages (from requests==2.31.0->d2l) (2023.5.7)\n",
      "Requirement already satisfied: six>=1.5 in /home/llan/miniconda3/envs/pytorch/lib/python3.11/site-packages (from python-dateutil>=2.7->matplotlib==3.7.2->d2l) (1.16.0)\n",
      "Requirement already satisfied: comm>=0.1.1 in /home/llan/miniconda3/envs/pytorch/lib/python3.11/site-packages (from ipykernel->jupyter==1.0.0->d2l) (0.2.1)\n",
      "Requirement already satisfied: debugpy>=1.6.5 in /home/llan/miniconda3/envs/pytorch/lib/python3.11/site-packages (from ipykernel->jupyter==1.0.0->d2l) (1.8.1)\n",
      "Requirement already satisfied: ipython>=7.23.1 in /home/llan/miniconda3/envs/pytorch/lib/python3.11/site-packages (from ipykernel->jupyter==1.0.0->d2l) (8.22.2)\n",
      "Requirement already satisfied: jupyter-client>=6.1.12 in /home/llan/miniconda3/envs/pytorch/lib/python3.11/site-packages (from ipykernel->jupyter==1.0.0->d2l) (8.6.0)\n",
      "Requirement already satisfied: jupyter-core!=5.0.*,>=4.12 in /home/llan/miniconda3/envs/pytorch/lib/python3.11/site-packages (from ipykernel->jupyter==1.0.0->d2l) (5.7.1)\n",
      "Requirement already satisfied: nest-asyncio in /home/llan/miniconda3/envs/pytorch/lib/python3.11/site-packages (from ipykernel->jupyter==1.0.0->d2l) (1.6.0)\n",
      "Requirement already satisfied: psutil in /home/llan/miniconda3/envs/pytorch/lib/python3.11/site-packages (from ipykernel->jupyter==1.0.0->d2l) (5.9.8)\n",
      "Requirement already satisfied: pyzmq>=24 in /home/llan/miniconda3/envs/pytorch/lib/python3.11/site-packages (from ipykernel->jupyter==1.0.0->d2l) (25.1.2)\n",
      "Requirement already satisfied: tornado>=6.1 in /home/llan/miniconda3/envs/pytorch/lib/python3.11/site-packages (from ipykernel->jupyter==1.0.0->d2l) (6.4)\n",
      "Requirement already satisfied: widgetsnbextension~=4.0.10 in /home/llan/miniconda3/envs/pytorch/lib/python3.11/site-packages (from ipywidgets->jupyter==1.0.0->d2l) (4.0.10)\n",
      "Requirement already satisfied: jupyterlab-widgets~=3.0.10 in /home/llan/miniconda3/envs/pytorch/lib/python3.11/site-packages (from ipywidgets->jupyter==1.0.0->d2l) (3.0.10)\n",
      "Requirement already satisfied: prompt-toolkit>=3.0.30 in /home/llan/miniconda3/envs/pytorch/lib/python3.11/site-packages (from jupyter-console->jupyter==1.0.0->d2l) (3.0.43)\n",
      "Requirement already satisfied: pygments in /home/llan/miniconda3/envs/pytorch/lib/python3.11/site-packages (from jupyter-console->jupyter==1.0.0->d2l) (2.17.2)\n",
      "Requirement already satisfied: beautifulsoup4 in /home/llan/miniconda3/envs/pytorch/lib/python3.11/site-packages (from nbconvert->jupyter==1.0.0->d2l) (4.12.3)\n",
      "Requirement already satisfied: bleach!=5.0.0 in /home/llan/miniconda3/envs/pytorch/lib/python3.11/site-packages (from nbconvert->jupyter==1.0.0->d2l) (6.1.0)\n",
      "Requirement already satisfied: defusedxml in /home/llan/miniconda3/envs/pytorch/lib/python3.11/site-packages (from nbconvert->jupyter==1.0.0->d2l) (0.7.1)\n",
      "Requirement already satisfied: jinja2>=3.0 in /home/llan/miniconda3/envs/pytorch/lib/python3.11/site-packages (from nbconvert->jupyter==1.0.0->d2l) (3.1.2)\n",
      "Requirement already satisfied: jupyterlab-pygments in /home/llan/miniconda3/envs/pytorch/lib/python3.11/site-packages (from nbconvert->jupyter==1.0.0->d2l) (0.3.0)\n",
      "Requirement already satisfied: markupsafe>=2.0 in /home/llan/miniconda3/envs/pytorch/lib/python3.11/site-packages (from nbconvert->jupyter==1.0.0->d2l) (2.1.1)\n",
      "Requirement already satisfied: mistune<4,>=2.0.3 in /home/llan/miniconda3/envs/pytorch/lib/python3.11/site-packages (from nbconvert->jupyter==1.0.0->d2l) (3.0.2)\n",
      "Requirement already satisfied: nbclient>=0.5.0 in /home/llan/miniconda3/envs/pytorch/lib/python3.11/site-packages (from nbconvert->jupyter==1.0.0->d2l) (0.9.0)\n",
      "Requirement already satisfied: nbformat>=5.7 in /home/llan/miniconda3/envs/pytorch/lib/python3.11/site-packages (from nbconvert->jupyter==1.0.0->d2l) (5.9.2)\n",
      "Requirement already satisfied: pandocfilters>=1.4.1 in /home/llan/miniconda3/envs/pytorch/lib/python3.11/site-packages (from nbconvert->jupyter==1.0.0->d2l) (1.5.1)\n",
      "Requirement already satisfied: tinycss2 in /home/llan/miniconda3/envs/pytorch/lib/python3.11/site-packages (from nbconvert->jupyter==1.0.0->d2l) (1.2.1)\n",
      "Requirement already satisfied: jupyter-server<3,>=2.4.0 in /home/llan/miniconda3/envs/pytorch/lib/python3.11/site-packages (from notebook->jupyter==1.0.0->d2l) (2.13.0)\n",
      "Requirement already satisfied: jupyterlab-server<3,>=2.22.1 in /home/llan/miniconda3/envs/pytorch/lib/python3.11/site-packages (from notebook->jupyter==1.0.0->d2l) (2.25.3)\n",
      "Requirement already satisfied: jupyterlab<4.2,>=4.1.1 in /home/llan/miniconda3/envs/pytorch/lib/python3.11/site-packages (from notebook->jupyter==1.0.0->d2l) (4.1.4)\n",
      "Requirement already satisfied: notebook-shim<0.3,>=0.2 in /home/llan/miniconda3/envs/pytorch/lib/python3.11/site-packages (from notebook->jupyter==1.0.0->d2l) (0.2.4)\n",
      "Requirement already satisfied: qtpy>=2.4.0 in /home/llan/miniconda3/envs/pytorch/lib/python3.11/site-packages (from qtconsole->jupyter==1.0.0->d2l) (2.4.1)\n",
      "Requirement already satisfied: webencodings in /home/llan/miniconda3/envs/pytorch/lib/python3.11/site-packages (from bleach!=5.0.0->nbconvert->jupyter==1.0.0->d2l) (0.5.1)\n",
      "Requirement already satisfied: decorator in /home/llan/miniconda3/envs/pytorch/lib/python3.11/site-packages (from ipython>=7.23.1->ipykernel->jupyter==1.0.0->d2l) (5.1.1)\n",
      "Requirement already satisfied: jedi>=0.16 in /home/llan/miniconda3/envs/pytorch/lib/python3.11/site-packages (from ipython>=7.23.1->ipykernel->jupyter==1.0.0->d2l) (0.19.1)\n",
      "Requirement already satisfied: stack-data in /home/llan/miniconda3/envs/pytorch/lib/python3.11/site-packages (from ipython>=7.23.1->ipykernel->jupyter==1.0.0->d2l) (0.6.3)\n",
      "Requirement already satisfied: pexpect>4.3 in /home/llan/miniconda3/envs/pytorch/lib/python3.11/site-packages (from ipython>=7.23.1->ipykernel->jupyter==1.0.0->d2l) (4.9.0)\n",
      "Requirement already satisfied: platformdirs>=2.5 in /home/llan/miniconda3/envs/pytorch/lib/python3.11/site-packages (from jupyter-core!=5.0.*,>=4.12->ipykernel->jupyter==1.0.0->d2l) (4.2.0)\n",
      "Requirement already satisfied: anyio>=3.1.0 in /home/llan/miniconda3/envs/pytorch/lib/python3.11/site-packages (from jupyter-server<3,>=2.4.0->notebook->jupyter==1.0.0->d2l) (4.3.0)\n",
      "Requirement already satisfied: argon2-cffi in /home/llan/miniconda3/envs/pytorch/lib/python3.11/site-packages (from jupyter-server<3,>=2.4.0->notebook->jupyter==1.0.0->d2l) (23.1.0)\n",
      "Requirement already satisfied: jupyter-events>=0.9.0 in /home/llan/miniconda3/envs/pytorch/lib/python3.11/site-packages (from jupyter-server<3,>=2.4.0->notebook->jupyter==1.0.0->d2l) (0.9.0)\n",
      "Requirement already satisfied: jupyter-server-terminals in /home/llan/miniconda3/envs/pytorch/lib/python3.11/site-packages (from jupyter-server<3,>=2.4.0->notebook->jupyter==1.0.0->d2l) (0.5.2)\n",
      "Requirement already satisfied: overrides in /home/llan/miniconda3/envs/pytorch/lib/python3.11/site-packages (from jupyter-server<3,>=2.4.0->notebook->jupyter==1.0.0->d2l) (7.7.0)\n",
      "Requirement already satisfied: prometheus-client in /home/llan/miniconda3/envs/pytorch/lib/python3.11/site-packages (from jupyter-server<3,>=2.4.0->notebook->jupyter==1.0.0->d2l) (0.20.0)\n",
      "Requirement already satisfied: send2trash>=1.8.2 in /home/llan/miniconda3/envs/pytorch/lib/python3.11/site-packages (from jupyter-server<3,>=2.4.0->notebook->jupyter==1.0.0->d2l) (1.8.2)\n",
      "Requirement already satisfied: terminado>=0.8.3 in /home/llan/miniconda3/envs/pytorch/lib/python3.11/site-packages (from jupyter-server<3,>=2.4.0->notebook->jupyter==1.0.0->d2l) (0.18.0)\n",
      "Requirement already satisfied: websocket-client in /home/llan/miniconda3/envs/pytorch/lib/python3.11/site-packages (from jupyter-server<3,>=2.4.0->notebook->jupyter==1.0.0->d2l) (1.7.0)\n",
      "Requirement already satisfied: async-lru>=1.0.0 in /home/llan/miniconda3/envs/pytorch/lib/python3.11/site-packages (from jupyterlab<4.2,>=4.1.1->notebook->jupyter==1.0.0->d2l) (2.0.4)\n",
      "Requirement already satisfied: httpx>=0.25.0 in /home/llan/miniconda3/envs/pytorch/lib/python3.11/site-packages (from jupyterlab<4.2,>=4.1.1->notebook->jupyter==1.0.0->d2l) (0.27.0)\n",
      "Requirement already satisfied: jupyter-lsp>=2.0.0 in /home/llan/miniconda3/envs/pytorch/lib/python3.11/site-packages (from jupyterlab<4.2,>=4.1.1->notebook->jupyter==1.0.0->d2l) (2.2.4)\n",
      "Requirement already satisfied: babel>=2.10 in /home/llan/miniconda3/envs/pytorch/lib/python3.11/site-packages (from jupyterlab-server<3,>=2.22.1->notebook->jupyter==1.0.0->d2l) (2.14.0)\n",
      "Requirement already satisfied: json5>=0.9.0 in /home/llan/miniconda3/envs/pytorch/lib/python3.11/site-packages (from jupyterlab-server<3,>=2.22.1->notebook->jupyter==1.0.0->d2l) (0.9.22)\n",
      "Requirement already satisfied: jsonschema>=4.18.0 in /home/llan/miniconda3/envs/pytorch/lib/python3.11/site-packages (from jupyterlab-server<3,>=2.22.1->notebook->jupyter==1.0.0->d2l) (4.21.1)\n",
      "Requirement already satisfied: fastjsonschema in /home/llan/miniconda3/envs/pytorch/lib/python3.11/site-packages (from nbformat>=5.7->nbconvert->jupyter==1.0.0->d2l) (2.19.1)\n",
      "Requirement already satisfied: wcwidth in /home/llan/miniconda3/envs/pytorch/lib/python3.11/site-packages (from prompt-toolkit>=3.0.30->jupyter-console->jupyter==1.0.0->d2l) (0.2.13)\n",
      "Requirement already satisfied: soupsieve>1.2 in /home/llan/miniconda3/envs/pytorch/lib/python3.11/site-packages (from beautifulsoup4->nbconvert->jupyter==1.0.0->d2l) (2.5)\n",
      "Requirement already satisfied: sniffio>=1.1 in /home/llan/miniconda3/envs/pytorch/lib/python3.11/site-packages (from anyio>=3.1.0->jupyter-server<3,>=2.4.0->notebook->jupyter==1.0.0->d2l) (1.3.1)\n",
      "Requirement already satisfied: httpcore==1.* in /home/llan/miniconda3/envs/pytorch/lib/python3.11/site-packages (from httpx>=0.25.0->jupyterlab<4.2,>=4.1.1->notebook->jupyter==1.0.0->d2l) (1.0.4)\n",
      "Requirement already satisfied: h11<0.15,>=0.13 in /home/llan/miniconda3/envs/pytorch/lib/python3.11/site-packages (from httpcore==1.*->httpx>=0.25.0->jupyterlab<4.2,>=4.1.1->notebook->jupyter==1.0.0->d2l) (0.14.0)\n",
      "Requirement already satisfied: parso<0.9.0,>=0.8.3 in /home/llan/miniconda3/envs/pytorch/lib/python3.11/site-packages (from jedi>=0.16->ipython>=7.23.1->ipykernel->jupyter==1.0.0->d2l) (0.8.3)\n",
      "Requirement already satisfied: attrs>=22.2.0 in /home/llan/miniconda3/envs/pytorch/lib/python3.11/site-packages (from jsonschema>=4.18.0->jupyterlab-server<3,>=2.22.1->notebook->jupyter==1.0.0->d2l) (23.2.0)\n",
      "Requirement already satisfied: jsonschema-specifications>=2023.03.6 in /home/llan/miniconda3/envs/pytorch/lib/python3.11/site-packages (from jsonschema>=4.18.0->jupyterlab-server<3,>=2.22.1->notebook->jupyter==1.0.0->d2l) (2023.12.1)\n",
      "Requirement already satisfied: referencing>=0.28.4 in /home/llan/miniconda3/envs/pytorch/lib/python3.11/site-packages (from jsonschema>=4.18.0->jupyterlab-server<3,>=2.22.1->notebook->jupyter==1.0.0->d2l) (0.33.0)\n",
      "Requirement already satisfied: rpds-py>=0.7.1 in /home/llan/miniconda3/envs/pytorch/lib/python3.11/site-packages (from jsonschema>=4.18.0->jupyterlab-server<3,>=2.22.1->notebook->jupyter==1.0.0->d2l) (0.18.0)\n",
      "Requirement already satisfied: python-json-logger>=2.0.4 in /home/llan/miniconda3/envs/pytorch/lib/python3.11/site-packages (from jupyter-events>=0.9.0->jupyter-server<3,>=2.4.0->notebook->jupyter==1.0.0->d2l) (2.0.7)\n",
      "Requirement already satisfied: pyyaml>=5.3 in /home/llan/miniconda3/envs/pytorch/lib/python3.11/site-packages (from jupyter-events>=0.9.0->jupyter-server<3,>=2.4.0->notebook->jupyter==1.0.0->d2l) (6.0.1)\n",
      "Requirement already satisfied: rfc3339-validator in /home/llan/miniconda3/envs/pytorch/lib/python3.11/site-packages (from jupyter-events>=0.9.0->jupyter-server<3,>=2.4.0->notebook->jupyter==1.0.0->d2l) (0.1.4)\n",
      "Requirement already satisfied: rfc3986-validator>=0.1.1 in /home/llan/miniconda3/envs/pytorch/lib/python3.11/site-packages (from jupyter-events>=0.9.0->jupyter-server<3,>=2.4.0->notebook->jupyter==1.0.0->d2l) (0.1.1)\n",
      "Requirement already satisfied: ptyprocess>=0.5 in /home/llan/miniconda3/envs/pytorch/lib/python3.11/site-packages (from pexpect>4.3->ipython>=7.23.1->ipykernel->jupyter==1.0.0->d2l) (0.7.0)\n",
      "Requirement already satisfied: argon2-cffi-bindings in /home/llan/miniconda3/envs/pytorch/lib/python3.11/site-packages (from argon2-cffi->jupyter-server<3,>=2.4.0->notebook->jupyter==1.0.0->d2l) (21.2.0)\n",
      "Requirement already satisfied: executing>=1.2.0 in /home/llan/miniconda3/envs/pytorch/lib/python3.11/site-packages (from stack-data->ipython>=7.23.1->ipykernel->jupyter==1.0.0->d2l) (2.0.1)\n",
      "Requirement already satisfied: asttokens>=2.1.0 in /home/llan/miniconda3/envs/pytorch/lib/python3.11/site-packages (from stack-data->ipython>=7.23.1->ipykernel->jupyter==1.0.0->d2l) (2.4.1)\n",
      "Requirement already satisfied: pure-eval in /home/llan/miniconda3/envs/pytorch/lib/python3.11/site-packages (from stack-data->ipython>=7.23.1->ipykernel->jupyter==1.0.0->d2l) (0.2.2)\n",
      "Requirement already satisfied: fqdn in /home/llan/miniconda3/envs/pytorch/lib/python3.11/site-packages (from jsonschema>=4.18.0->jupyterlab-server<3,>=2.22.1->notebook->jupyter==1.0.0->d2l) (1.5.1)\n",
      "Requirement already satisfied: isoduration in /home/llan/miniconda3/envs/pytorch/lib/python3.11/site-packages (from jsonschema>=4.18.0->jupyterlab-server<3,>=2.22.1->notebook->jupyter==1.0.0->d2l) (20.11.0)\n",
      "Requirement already satisfied: jsonpointer>1.13 in /home/llan/miniconda3/envs/pytorch/lib/python3.11/site-packages (from jsonschema>=4.18.0->jupyterlab-server<3,>=2.22.1->notebook->jupyter==1.0.0->d2l) (2.4)\n",
      "Requirement already satisfied: uri-template in /home/llan/miniconda3/envs/pytorch/lib/python3.11/site-packages (from jsonschema>=4.18.0->jupyterlab-server<3,>=2.22.1->notebook->jupyter==1.0.0->d2l) (1.3.0)\n",
      "Requirement already satisfied: webcolors>=1.11 in /home/llan/miniconda3/envs/pytorch/lib/python3.11/site-packages (from jsonschema>=4.18.0->jupyterlab-server<3,>=2.22.1->notebook->jupyter==1.0.0->d2l) (1.13)\n",
      "Requirement already satisfied: cffi>=1.0.1 in /home/llan/miniconda3/envs/pytorch/lib/python3.11/site-packages (from argon2-cffi-bindings->argon2-cffi->jupyter-server<3,>=2.4.0->notebook->jupyter==1.0.0->d2l) (1.15.1)\n",
      "Requirement already satisfied: pycparser in /home/llan/miniconda3/envs/pytorch/lib/python3.11/site-packages (from cffi>=1.0.1->argon2-cffi-bindings->argon2-cffi->jupyter-server<3,>=2.4.0->notebook->jupyter==1.0.0->d2l) (2.21)\n",
      "Requirement already satisfied: arrow>=0.15.0 in /home/llan/miniconda3/envs/pytorch/lib/python3.11/site-packages (from isoduration->jsonschema>=4.18.0->jupyterlab-server<3,>=2.22.1->notebook->jupyter==1.0.0->d2l) (1.3.0)\n",
      "Requirement already satisfied: types-python-dateutil>=2.8.10 in /home/llan/miniconda3/envs/pytorch/lib/python3.11/site-packages (from arrow>=0.15.0->isoduration->jsonschema>=4.18.0->jupyterlab-server<3,>=2.22.1->notebook->jupyter==1.0.0->d2l) (2.8.19.20240311)\n"
     ]
    }
   ],
   "source": [
    "! pip install -U d2l"
   ]
  },
  {
   "cell_type": "markdown",
   "metadata": {
    "id": "Hw0SbRxRRNVZ"
   },
   "source": [
    "#### 1.4) Connecting to Google Drive\n",
    "The last thing that we want to learn in this short tutorial is to connect to your GDrive. You can use this connection to load/save your data.\n",
    "\n",
    "To access your GDrive, use the following command. You will need to click on a link, select your account, get a code and paste it below!"
   ]
  },
  {
   "cell_type": "code",
   "execution_count": null,
   "metadata": {
    "id": "EenWhn-QR2Y0"
   },
   "outputs": [],
   "source": [
    "from google.colab import drive\n",
    "drive.mount('/content/drive')"
   ]
  },
  {
   "cell_type": "code",
   "execution_count": 5,
   "metadata": {},
   "outputs": [
    {
     "data": {
      "text/plain": [
       "True"
      ]
     },
     "execution_count": 5,
     "metadata": {},
     "output_type": "execute_result"
    }
   ],
   "source": [
    "import torch \n",
    "torch.cuda.is_available()"
   ]
  },
  {
   "cell_type": "markdown",
   "metadata": {
    "id": "P5zlc0-LSBhR"
   },
   "source": [
    "If everything was successful, you should get a message saying \"Mounted at /content/drive\". Just check that it works by displaying what is on your drive:"
   ]
  },
  {
   "cell_type": "code",
   "execution_count": 6,
   "metadata": {
    "id": "0kGTv54MSRF5"
   },
   "outputs": [
    {
     "name": "stdout",
     "output_type": "stream",
     "text": [
      "ls: cannot access '/content/drive/My Drive/': No such file or directory\n"
     ]
    }
   ],
   "source": [
    "ls /content/drive/My\\ Drive/"
   ]
  },
  {
   "cell_type": "markdown",
   "metadata": {
    "id": "sBMaf0FiSgAm"
   },
   "source": [
    "### 2) Introducing Tensors (section [2.1](http://d2l.ai/chapter_preliminaries/ndarray.html) and [2.2](http://d2l.ai/chapter_preliminaries/pandas.html) of the book)\n",
    "\n",
    "\n",
    "- First explore the basics of tensors from the book. Work in colab with the [first  notebook on tensors from the book](https://colab.research.google.com/github/d2l-ai/d2l-pytorch-colab/blob/master/chapter_preliminaries/ndarray.ipynb) (Section 2.1). \n",
    "    Read well the chapter and work through the notebook. We will be working with tensors during the whole course. Add your own code elements, as you go, and practice a bit.  \n",
    "    Answer questions 1 and 2, at the end of the book notebook. \n",
    "    \n",
    "- Once you are done with the tensors section (2.1), you can quickly explore [the second notebook on pandas](https://colab.research.google.com/github/d2l-ai/d2l-pytorch-colab/blob/master/chapter_preliminaries/pandas.ipynb). It explains how to use pandas, which implements various datastructures in Python, for loading data as tensors.\n"
   ]
  },
  {
   "cell_type": "code",
   "execution_count": null,
   "metadata": {},
   "outputs": [],
   "source": []
  },
  {
   "cell_type": "markdown",
   "metadata": {
    "id": "-k0C8Hf2TDtj"
   },
   "source": [
    "### 3) Linear Algebra (section [2.3](https://d2l.ai/chapter_preliminaries/linear-algebra.html) of the book)\n",
    "\n",
    "Now that you have seen how to manipulate data with tensors, we can have a  reminder of linear algebra, and how to make simple operations with tensors. Go to the [linear algebra notebook of the book](https://colab.research.google.com/github/d2l-ai/d2l-pytorch-colab/blob/master/chapter_preliminaries/linear-algebra.ipynb), study it and execute all code blocks.\n",
    "\n",
    "- From the book, do the exercises 4, 5, 8\n",
    "- Optional: Try the book exercise 9, after consulting the documentation for [`torch.linalg.norm`](https://pytorch.org/docs/stable/linalg.html#torch.linalg.norm)\n",
    "\n",
    "And once you are done with this section... and still have time, there are some extra questions below!  \n",
    "Otherwise, see you tomorrow! \n",
    "\n",
    "If you did not have time to finish, the great thing with colab is that you can access it from anywhere (including home!). \n",
    "\n",
    "We strongly recommend you to finish the three notebooks of today exercises, before tomorrow's class.\n",
    "\n"
   ]
  },
  {
   "cell_type": "markdown",
   "metadata": {
    "id": "2rk5PGBSpxop"
   },
   "source": [
    "### Tip: Working with D2l functions\n",
    "We will make use of the notebooks included in the D2L book. For the sake of brevity, code for these notebooks is often wrapped in functions in early sections and then used without further mention in following sections. These can be conveniently looked up at their [github page](https://github.com/d2l-ai/d2l-en/blob/master/d2l/torch.py)."
   ]
  },
  {
   "cell_type": "markdown",
   "metadata": {},
   "source": [
    "### Extra questions for [2.1](http://d2l.ai/chapter_preliminaries/ndarray.html)\n",
    "\n",
    "\n",
    "1. What are the \"killer features\" of `tensor` class implementation in Pytorch, when compared with NumPy `ndarray` class?  \n",
    "  Not sure? Check again [data manipulation](http://d2l.ai/chapter_preliminaries/ndarray.html#data-manipulation)\n",
    "\n",
    "2. PyTorch tensors supports *elementwise* operations. What does this mean?   \n",
    "Note sure? Check again [tensor operations](http://d2l.ai/chapter_preliminaries/ndarray.html#operations)\n",
    "\n",
    "3. In the figure below, fillin the gaps for implementing the broadcasting mechanism.  \n",
    "Then verify the solution by implementing it in Pytorch.    \n",
    "\n",
    "![figure_broadcasting.jpg](data:image/jpeg;base64,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)  \n",
    "Note sure? Check again the [broadcasting mechanism](http://d2l.ai/chapter_preliminaries/ndarray.html#broadcasting-mechanism)\n",
    "\n",
    "\n"
   ]
  },
  {
   "cell_type": "markdown",
   "metadata": {},
   "source": [
    "### Extra Questions for 2.3\n",
    "\n",
    "1. What what is the relationship between a dot product of two matrices, and elementwise multiplication?  \n",
    "   Note sure? Check again the [dot products](http://d2l.ai/chapter_preliminaries/linear-algebra.html#dot-products)\n"
   ]
  }
 ],
 "metadata": {
  "colab": {
   "collapsed_sections": [],
   "name": "DL course WUR - W1D1.ipynb",
   "provenance": []
  },
  "kernelspec": {
   "display_name": "Python [conda env:pytorch]",
   "language": "python",
   "name": "conda-env-pytorch-py"
  },
  "language_info": {
   "codemirror_mode": {
    "name": "ipython",
    "version": 3
   },
   "file_extension": ".py",
   "mimetype": "text/x-python",
   "name": "python",
   "nbconvert_exporter": "python",
   "pygments_lexer": "ipython3",
   "version": "3.11.3"
  }
 },
 "nbformat": 4,
 "nbformat_minor": 4
}
