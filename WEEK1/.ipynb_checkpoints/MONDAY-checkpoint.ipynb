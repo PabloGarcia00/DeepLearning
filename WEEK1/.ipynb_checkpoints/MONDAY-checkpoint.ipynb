{
 "cells": [
  {
   "cell_type": "markdown",
   "id": "2cf2cbb8-e56f-4a48-a4e7-a1cf67e28924",
   "metadata": {},
   "source": [
    "# MONDAY: Data manipulation, data preprocessing, and linear algebra"
   ]
  },
  {
   "cell_type": "code",
   "execution_count": null,
   "id": "4003a02e-9e67-4745-af8e-7fc1fd2ce0b4",
   "metadata": {},
   "outputs": [],
   "source": []
  }
 ],
 "metadata": {
  "kernelspec": {
   "display_name": "Python [conda env:pytorch]",
   "language": "python",
   "name": "conda-env-pytorch-py"
  },
  "language_info": {
   "codemirror_mode": {
    "name": "ipython",
    "version": 3
   },
   "file_extension": ".py",
   "mimetype": "text/x-python",
   "name": "python",
   "nbconvert_exporter": "python",
   "pygments_lexer": "ipython3",
   "version": "3.11.3"
  }
 },
 "nbformat": 4,
 "nbformat_minor": 5
}
