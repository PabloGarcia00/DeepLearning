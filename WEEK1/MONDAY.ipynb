{
 "cells": [
  {
   "cell_type": "markdown",
   "id": "2cf2cbb8-e56f-4a48-a4e7-a1cf67e28924",
   "metadata": {},
   "source": [
    "# MONDAY: Data manipulation, data preprocessing, and linear algebra"
   ]
  },
  {
   "cell_type": "code",
   "execution_count": 3,
   "id": "f6b38b71-a5ad-42e0-b5d7-e131b3a1627c",
   "metadata": {},
   "outputs": [],
   "source": [
    "import torch \n",
    "import numpy as np\n",
    "import matplotlib.pyplot as plt"
   ]
  },
  {
   "cell_type": "markdown",
   "id": "979740df-d4d1-49e2-b2fc-1869be43adc1",
   "metadata": {},
   "source": [
    "not forget:\n",
    "* for some reason when pytorch isn't build with numpy support dtypes can't be mixed so use for ease of use float\n",
    "  "
   ]
  },
  {
   "cell_type": "markdown",
   "id": "012f8063-9edd-4383-adc0-9100f6a94264",
   "metadata": {},
   "source": [
    "## Data manipulation"
   ]
  },
  {
   "cell_type": "code",
   "execution_count": 9,
   "id": "37ac13d5-a7aa-45eb-b1ad-9935e3b516c6",
   "metadata": {},
   "outputs": [
    {
     "name": "stdout",
     "output_type": "stream",
     "text": [
      "tensor([ 1.,  2.,  3.,  4.,  5.,  6.,  7.,  8.,  9., 10.])\n"
     ]
    }
   ],
   "source": [
    "# making a tensor\n",
    "x = torch.arange(1, 11, 1, dtype=torch.float32)\n",
    "print(x)"
   ]
  },
  {
   "cell_type": "code",
   "execution_count": 11,
   "id": "c8d0dc0b-3aeb-474e-880e-21c7e744326c",
   "metadata": {},
   "outputs": [
    {
     "name": "stdout",
     "output_type": "stream",
     "text": [
      "10\n"
     ]
    }
   ],
   "source": [
    "# vector length\n",
    "print(x.numel())"
   ]
  },
  {
   "cell_type": "code",
   "execution_count": 19,
   "id": "512b5d8c-e675-4972-9edd-5858c78de83c",
   "metadata": {},
   "outputs": [
    {
     "name": "stdout",
     "output_type": "stream",
     "text": [
      "torch.Size([10])\n"
     ]
    }
   ],
   "source": [
    "# vector shape only one element just like a vector ! \n",
    "print(x.shape)"
   ]
  },
  {
   "cell_type": "code",
   "execution_count": 20,
   "id": "c3660a9d-545a-4897-a6d2-086354a13c87",
   "metadata": {},
   "outputs": [],
   "source": [
    "# reshaping the vector \n",
    "y = x.reshape(2,5)"
   ]
  },
  {
   "cell_type": "code",
   "execution_count": 21,
   "id": "a132196a-6a50-4886-815f-76d41e84f304",
   "metadata": {},
   "outputs": [
    {
     "name": "stdout",
     "output_type": "stream",
     "text": [
      "tensor([[ 1.,  2.,  3.,  4.,  5.],\n",
      "        [ 6.,  7.,  8.,  9., 10.]])\n"
     ]
    }
   ],
   "source": [
    "print(y)"
   ]
  },
  {
   "cell_type": "code",
   "execution_count": 22,
   "id": "58319d8b-65c3-4b3d-aa7a-38827138f8f2",
   "metadata": {},
   "outputs": [],
   "source": [
    "# the width or the rows are always known when the other is known \n",
    "# so we can give the -1 sign to have torch decide what's the other one \n",
    "z = y.reshape(-1, 2)"
   ]
  },
  {
   "cell_type": "code",
   "execution_count": 23,
   "id": "5210f75e-e36a-48fa-9f0c-7e3c370e4661",
   "metadata": {},
   "outputs": [
    {
     "name": "stdout",
     "output_type": "stream",
     "text": [
      "tensor([[ 1.,  2.],\n",
      "        [ 3.,  4.],\n",
      "        [ 5.,  6.],\n",
      "        [ 7.,  8.],\n",
      "        [ 9., 10.]])\n"
     ]
    }
   ],
   "source": [
    "print(z)"
   ]
  },
  {
   "cell_type": "code",
   "execution_count": 24,
   "id": "b978b6ca-0f5e-46ce-b863-183e4fc0379d",
   "metadata": {},
   "outputs": [],
   "source": [
    "# making a tensor with all 1s \n",
    "\n",
    "a = torch.ones(3, 3, 3)"
   ]
  },
  {
   "cell_type": "code",
   "execution_count": 25,
   "id": "7528ace7-9854-4c69-8d32-a02d70ca4f7a",
   "metadata": {},
   "outputs": [
    {
     "name": "stdout",
     "output_type": "stream",
     "text": [
      "tensor([[[1., 1., 1.],\n",
      "         [1., 1., 1.],\n",
      "         [1., 1., 1.]],\n",
      "\n",
      "        [[1., 1., 1.],\n",
      "         [1., 1., 1.],\n",
      "         [1., 1., 1.]],\n",
      "\n",
      "        [[1., 1., 1.],\n",
      "         [1., 1., 1.],\n",
      "         [1., 1., 1.]]])\n"
     ]
    }
   ],
   "source": [
    "print(a)"
   ]
  },
  {
   "cell_type": "code",
   "execution_count": 28,
   "id": "a1c28773-1699-4916-b745-26d444703893",
   "metadata": {},
   "outputs": [
    {
     "name": "stdout",
     "output_type": "stream",
     "text": [
      "tensor([[ 0.5113,  1.6393, -0.3460],\n",
      "        [-1.1671, -0.7248,  0.1154],\n",
      "        [-1.3050,  1.7252, -0.5763]])\n"
     ]
    }
   ],
   "source": [
    "# or random numbers \n",
    "b = torch.randn(3,3)\n",
    "print(b)"
   ]
  },
  {
   "cell_type": "code",
   "execution_count": 30,
   "id": "1db704d8-3aa2-4720-b990-b66a3e39ca6a",
   "metadata": {},
   "outputs": [
    {
     "name": "stdout",
     "output_type": "stream",
     "text": [
      "tensor([[10, 10, 10],\n",
      "        [20, 20, 20],\n",
      "        [30, 30, 30]])\n"
     ]
    }
   ],
   "source": [
    "# building a tensor using python lists \n",
    "c = torch.tensor([[10, 10, 10], \n",
    "              [20,20,20], \n",
    "              [30, 30, 30] ])\n",
    "print(c)"
   ]
  },
  {
   "cell_type": "code",
   "execution_count": 44,
   "id": "d6ad42e3-83f2-4141-b248-265283b1008b",
   "metadata": {},
   "outputs": [
    {
     "name": "stdout",
     "output_type": "stream",
     "text": [
      "tensor(10.)\n",
      "tensor(1.)\n",
      "tensor(30)\n",
      "tensor([ 2.,  4.,  6.,  8., 10.])\n"
     ]
    }
   ],
   "source": [
    "# selecting elements \n",
    "\n",
    "print(x[-1], x[0], c[2,0], z[:, 1],sep=\"\\n\")"
   ]
  },
  {
   "cell_type": "code",
   "execution_count": 52,
   "id": "3607d548-ed9c-44d4-806a-c644e3ade4fc",
   "metadata": {},
   "outputs": [
    {
     "name": "stdout",
     "output_type": "stream",
     "text": [
      "tensor([2.7183e+00, 7.3891e+00, 2.0086e+01, 5.4598e+01, 1.4841e+02, 4.0343e+02,\n",
      "        1.0966e+03, 2.9810e+03, 8.1031e+03, 2.2026e+04])\n",
      "\n",
      "tensor([2.7183e+00, 7.3891e+00, 2.0086e+01, 5.4598e+01, 1.4841e+02, 4.0343e+02,\n",
      "        1.0966e+03, 2.9810e+03, 8.1031e+03, 2.2026e+04])\n"
     ]
    }
   ],
   "source": [
    "# performing math operations on a tensor \n",
    "\n",
    "print(torch.exp(x), x.exp(), sep=\"\\n\\n\")"
   ]
  },
  {
   "cell_type": "code",
   "execution_count": 69,
   "id": "e2ae9716-ee5f-464b-be93-83756564f325",
   "metadata": {},
   "outputs": [
    {
     "name": "stdout",
     "output_type": "stream",
     "text": [
      "tensor([ 2.,  4.,  8., 16.])\n",
      "\n",
      "tensor([0.5000, 1.0000, 2.0000, 4.0000])\n",
      "\n",
      "tensor([-1.,  0.,  2.,  6.])\n",
      "\n",
      "tensor([ 3.,  4.,  6., 10.])\n",
      "\n",
      "tensor([ 1.,  4., 16., 64.])\n"
     ]
    }
   ],
   "source": [
    "# vector multiplications\n",
    "l = torch.tensor([1, 2, 4, 8])\n",
    "m = torch.ones(4) * 2\n",
    "\n",
    "print(m*l, l/m, l-m, l+m, l**m, sep = \"\\n\\n\")"
   ]
  },
  {
   "cell_type": "code",
   "execution_count": 83,
   "id": "05d10765-8739-4a63-a88b-1fe9ab2a518f",
   "metadata": {},
   "outputs": [
    {
     "name": "stdout",
     "output_type": "stream",
     "text": [
      "tensor([1., 2., 4., 8., 2., 2., 2., 2.])\n",
      "\n",
      "tensor([[1., 2., 4., 8.],\n",
      "        [2., 2., 2., 2.]])\n"
     ]
    }
   ],
   "source": [
    "# concat and stack\n",
    "print(torch.cat((l,m), dim = 0))\n",
    "print()\n",
    "print(torch.stack((l,m)))"
   ]
  },
  {
   "cell_type": "code",
   "execution_count": 84,
   "id": "e2c584dd-d43b-4138-b9e2-a50e0f990410",
   "metadata": {},
   "outputs": [
    {
     "data": {
      "text/plain": [
       "tensor([False,  True, False, False])"
      ]
     },
     "execution_count": 84,
     "metadata": {},
     "output_type": "execute_result"
    }
   ],
   "source": [
    "# performing logic operations \n",
    "\n",
    "l == m"
   ]
  },
  {
   "cell_type": "code",
   "execution_count": 85,
   "id": "56518c2e-f8b4-4f62-8eca-b5e6ef74bea5",
   "metadata": {},
   "outputs": [
    {
     "data": {
      "text/plain": [
       "tensor(8.)"
      ]
     },
     "execution_count": 85,
     "metadata": {},
     "output_type": "execute_result"
    }
   ],
   "source": [
    "m.sum()"
   ]
  },
  {
   "cell_type": "code",
   "execution_count": 91,
   "id": "7cdb3a05-8150-4fac-85ea-a84dd8018600",
   "metadata": {},
   "outputs": [
    {
     "data": {
      "text/plain": [
       "(tensor([[0],\n",
       "         [1],\n",
       "         [2]]),\n",
       " tensor([[0, 1]]))"
      ]
     },
     "execution_count": 91,
     "metadata": {},
     "output_type": "execute_result"
    }
   ],
   "source": [
    "# broadcastin: when matrices do not match with respect to their shape broadcasting happens. \n",
    "# --> expand the martices and perform the operation with the new matrices of equal width and length\n",
    "\n",
    "o = torch.arange(3).reshape(3,1)\n",
    "p = torch.arange(2).reshape(1,2)\n",
    "\n",
    "o, p"
   ]
  },
  {
   "cell_type": "code",
   "execution_count": 95,
   "id": "15a3aeef-e24b-4ec7-a736-2b21b8a4ba62",
   "metadata": {},
   "outputs": [
    {
     "data": {
      "text/plain": [
       "tensor([[0, 1],\n",
       "        [1, 2],\n",
       "        [2, 3]])"
      ]
     },
     "execution_count": 95,
     "metadata": {},
     "output_type": "execute_result"
    }
   ],
   "source": [
    "# look what happens when we perform additions, both matrices were expanded to have length 3 and width 2 and were then added.\n",
    "\n",
    "o + p"
   ]
  },
  {
   "cell_type": "code",
   "execution_count": 99,
   "id": "24eb71e4-6e3c-4a2d-83d8-0b95541bf50e",
   "metadata": {},
   "outputs": [
    {
     "data": {
      "text/plain": [
       "False"
      ]
     },
     "execution_count": 99,
     "metadata": {},
     "output_type": "execute_result"
    }
   ],
   "source": [
    "# reducing memory: when assigning a new value to a vector the old value is overwritten, as the variable points to another place in memory.\n",
    "\n",
    "before = id(m)\n",
    "m = l + m \n",
    "id(y) == before\n",
    "\n"
   ]
  },
  {
   "cell_type": "code",
   "execution_count": 103,
   "id": "9204b9c1-037f-4765-a368-2ca25ffdd848",
   "metadata": {},
   "outputs": [
    {
     "name": "stdout",
     "output_type": "stream",
     "text": [
      "id(m): 139663706583792\n",
      "id(m): 139663706583792\n"
     ]
    }
   ],
   "source": [
    "# As we often don't want reallocate memory everytime we can stop this behaviour by using slice notation \n",
    "\n",
    "m = torch.ones(4) * 2 \n",
    "print(\"id(m):\", id(m))\n",
    "m[:] = l + m\n",
    "print(\"id(m):\", id(m))"
   ]
  },
  {
   "cell_type": "code",
   "execution_count": 111,
   "id": "e4bb2675-0777-4db8-aa22-4c9eef166ff4",
   "metadata": {},
   "outputs": [
    {
     "data": {
      "text/plain": [
       "True"
      ]
     },
     "execution_count": 111,
     "metadata": {},
     "output_type": "execute_result"
    }
   ],
   "source": [
    "# the += notation also does not reallocate memory\n",
    "before = id(l)\n",
    "m+=l\n",
    "id(l) == before"
   ]
  },
  {
   "cell_type": "code",
   "execution_count": 115,
   "id": "2e0a7c01-589c-4b8e-8055-2a842486f8fb",
   "metadata": {},
   "outputs": [
    {
     "name": "stdout",
     "output_type": "stream",
     "text": [
      "[ 1.  2.  3.  4.  5.  6.  7.  8.  9. 10.]\n"
     ]
    },
    {
     "data": {
      "text/plain": [
       "numpy.ndarray"
      ]
     },
     "execution_count": 115,
     "metadata": {},
     "output_type": "execute_result"
    }
   ],
   "source": [
    "# conversion to numpy \n",
    "\n",
    "print(x.numpy())\n",
    "type(x.numpy())"
   ]
  },
  {
   "cell_type": "code",
   "execution_count": 131,
   "id": "f17a7549-0c65-45b1-83ce-f5b60a1ae358",
   "metadata": {},
   "outputs": [
    {
     "ename": "RuntimeError",
     "evalue": "The size of tensor a (5) must match the size of tensor b (2) at non-singleton dimension 1",
     "output_type": "error",
     "traceback": [
      "\u001b[0;31m---------------------------------------------------------------------------\u001b[0m",
      "\u001b[0;31mRuntimeError\u001b[0m                              Traceback (most recent call last)",
      "Cell \u001b[0;32mIn[131], line 6\u001b[0m\n\u001b[1;32m      3\u001b[0m e \u001b[38;5;241m=\u001b[39m torch\u001b[38;5;241m.\u001b[39marange(\u001b[38;5;241m1\u001b[39m, \u001b[38;5;241m26\u001b[39m, \u001b[38;5;241m1\u001b[39m)\u001b[38;5;241m.\u001b[39mreshape(\u001b[38;5;241m5\u001b[39m,\u001b[38;5;241m-\u001b[39m\u001b[38;5;241m1\u001b[39m)\n\u001b[1;32m      4\u001b[0m f \u001b[38;5;241m=\u001b[39m torch\u001b[38;5;241m.\u001b[39marange(\u001b[38;5;241m1\u001b[39m, \u001b[38;5;241m4\u001b[39m, \u001b[38;5;241m2\u001b[39m)\n\u001b[0;32m----> 6\u001b[0m \u001b[43me\u001b[49m\u001b[38;5;241;43m*\u001b[39;49m\u001b[43mf\u001b[49m\n",
      "\u001b[0;31mRuntimeError\u001b[0m: The size of tensor a (5) must match the size of tensor b (2) at non-singleton dimension 1"
     ]
    }
   ],
   "source": [
    "# broadcasting doesn't work because there is no community with respect to length and size between the two vectors \n",
    "\n",
    "e = torch.arange(1, 26, 1).reshape(5,-1)\n",
    "f = torch.arange(1, 4, 2)\n",
    "\n",
    "e*f"
   ]
  },
  {
   "cell_type": "markdown",
   "id": "ad8134fd-6395-45db-a133-b576cc4ad1e1",
   "metadata": {},
   "source": [
    "## Data preprocessing "
   ]
  },
  {
   "cell_type": "code",
   "execution_count": 132,
   "id": "8e7790d9-de5e-42db-b992-3c05d478f6f3",
   "metadata": {},
   "outputs": [],
   "source": [
    "# first convert to numpy float and then to tensor \n",
    "# the rest was about pandas "
   ]
  },
  {
   "cell_type": "markdown",
   "id": "e56efaab-662d-43d6-b411-6d7e31bf0c30",
   "metadata": {},
   "source": [
    "## Linear algebra"
   ]
  },
  {
   "cell_type": "markdown",
   "id": "4586fab1-be0a-4055-98bd-6b3f2b456125",
   "metadata": {},
   "source": [
    "* We can denote column vector like\n",
    "$ \\Large \\mathbf{\\vec{y}}=\n",
    "\\begin{pmatrix}\n",
    "x_1\\\\x_2\\\\x_2\n",
    "\\end{pmatrix}\n",
    "$\n",
    "and a row vector like:\n",
    "$\\Large \\mathbf{\\vec{y}} =\n",
    "\\begin{pmatrix}\n",
    "x_1, x_2, x_3\n",
    "\\end{pmatrix}\n",
    "$\n",
    "\n",
    "\n",
    "* to denote that a vector contain only reel numbers (i.e. no fractions): $x \\in \\mathbb{R}$\n",
    "* vectors are denoted by a small bold letter\n",
    "* to denote the number of dimension of a vector we add the $n$ like $x \\in \\mathbb{R}^n$\n",
    "* matrices are denoted by capital letter in bold: $\\mathbf{Y}=\\begin{pmatrix}x_1, x_2, x_3\\end{pmatrix}$ or $\\large x \\in \\mathbb{R}^{m*n}$\n",
    "* A transposed matrix is denoted as $\\large \\mathbf{Y}^\\intercal$\n"
   ]
  },
  {
   "cell_type": "markdown",
   "id": "2e4ecfc9-3745-4018-85dd-d1de572c0498",
   "metadata": {},
   "source": [
    "element wise operations have the same dimensions as their input vector or matrix. "
   ]
  },
  {
   "cell_type": "code",
   "execution_count": 137,
   "id": "0c6e92e6-7109-4169-8120-2b5b107ee880",
   "metadata": {},
   "outputs": [
    {
     "data": {
      "text/plain": [
       "(tensor([ 1.,  2.,  3.,  4.,  5.,  6.,  7.,  8.,  9., 10.]),\n",
       " tensor([ 2.,  4.,  6.,  8., 10., 12., 14., 16., 18., 20.]),\n",
       " tensor([  1.,   4.,   9.,  16.,  25.,  36.,  49.,  64.,  81., 100.]))"
      ]
     },
     "execution_count": 137,
     "metadata": {},
     "output_type": "execute_result"
    }
   ],
   "source": [
    "# using vectors \n",
    "x, x + x, x *x"
   ]
  },
  {
   "cell_type": "markdown",
   "id": "102dbde7-d843-48a9-a4dd-2ef4477d5d6f",
   "metadata": {},
   "source": [
    "multiplication of two matrices is called \"Hadamard product\" and denoted by $\\circ$ like $\\mathbf{Y} \\circ \\mathbf{Y}$"
   ]
  },
  {
   "cell_type": "code",
   "execution_count": 142,
   "id": "b33daa20-7b3e-4186-8e46-29caeb88a25e",
   "metadata": {},
   "outputs": [
    {
     "data": {
      "text/plain": [
       "(tensor([[10, 10, 10],\n",
       "         [20, 20, 20],\n",
       "         [30, 30, 30]]),\n",
       " tensor([[100, 100, 100],\n",
       "         [400, 400, 400],\n",
       "         [900, 900, 900]]))"
      ]
     },
     "execution_count": 142,
     "metadata": {},
     "output_type": "execute_result"
    }
   ],
   "source": [
    "# using matrices \n",
    "c, c * c"
   ]
  },
  {
   "cell_type": "code",
   "execution_count": 172,
   "id": "f5f6ad80-2dc4-4b24-9837-fa087eec85e2",
   "metadata": {},
   "outputs": [
    {
     "name": "stdout",
     "output_type": "stream",
     "text": [
      "tensor(180.)\n",
      "tensor([60., 60., 60.])\n",
      "tensor([30., 60., 90.])\n",
      "tensor(20.)\n",
      "tensor([20., 20., 20.])\n",
      "tensor([10., 20., 30.])\n"
     ]
    },
    {
     "name": "stderr",
     "output_type": "stream",
     "text": [
      "/tmp/ipykernel_22965/3526106115.py:1: UserWarning: To copy construct from a tensor, it is recommended to use sourceTensor.clone().detach() or sourceTensor.clone().detach().requires_grad_(True), rather than torch.tensor(sourceTensor).\n",
      "  c = torch.tensor(c, dtype = torch.float32)\n"
     ]
    }
   ],
   "source": [
    "c = torch.tensor(c, dtype = torch.float32)\n",
    "# summing matrices \n",
    "print(c.sum())\n",
    "\n",
    "# over the axis \n",
    "print(c.sum(axis=0))\n",
    "print(c.sum(axis=1))\n",
    "\n",
    "# taking the mean\n",
    "print(c.mean(),\n",
    "c.mean(axis=0),\n",
    "c.mean(axis=1),\n",
    "     sep=\"\\n\")"
   ]
  },
  {
   "cell_type": "code",
   "execution_count": 168,
   "id": "2b0daee1-824a-4efc-8ea0-8eb4dadd9a84",
   "metadata": {},
   "outputs": [
    {
     "data": {
      "text/plain": [
       "tensor([10., 20., 30.])"
      ]
     },
     "execution_count": 168,
     "metadata": {},
     "output_type": "execute_result"
    }
   ],
   "source": [
    "c.mean(axis=1)"
   ]
  },
  {
   "cell_type": "markdown",
   "id": "311c9bb0-faa8-4908-b77e-6282721609ac",
   "metadata": {},
   "source": [
    "The dot product or inproduct of two vectors is denoted as $\\langle a, b \\rangle$ and represent the sum over the element wise multiplication. "
   ]
  },
  {
   "cell_type": "code",
   "execution_count": 175,
   "id": "165406ae-90d3-4d79-b21d-6087fc6caef8",
   "metadata": {},
   "outputs": [
    {
     "data": {
      "text/plain": [
       "tensor(385.)"
      ]
     },
     "execution_count": 175,
     "metadata": {},
     "output_type": "execute_result"
    }
   ],
   "source": [
    "torch.dot(x, x)"
   ]
  },
  {
   "cell_type": "markdown",
   "id": "9c2cabf4-59a2-4152-95f7-330c8aac055c",
   "metadata": {},
   "source": [
    "The matrix vector product is used to perform the dot product calculation with a single value from the vector on all the items in the items in the i'th row of the matrix. "
   ]
  },
  {
   "cell_type": "code",
   "execution_count": 207,
   "id": "7704e84c-f762-41ab-9ce9-cb61abd440f8",
   "metadata": {},
   "outputs": [],
   "source": [
    "d = torch.tensor([2,1,0], dtype=torch.float32)\n",
    "E = torch.tensor([[1, -1, 2], [0, -3, 1]], dtype=torch.float32)"
   ]
  },
  {
   "cell_type": "code",
   "execution_count": 210,
   "id": "1215fd5b-cc90-4ddf-9608-6ef17431b662",
   "metadata": {},
   "outputs": [
    {
     "data": {
      "text/plain": [
       "(tensor([ 1., -3.]), tensor([ 1., -3.]))"
      ]
     },
     "execution_count": 210,
     "metadata": {},
     "output_type": "execute_result"
    }
   ],
   "source": [
    "E@d, torch.mv(E,d)"
   ]
  },
  {
   "attachments": {
    "b08f213c-98bc-4f03-9be0-71f7bb305966.png": {
     "image/png": "[encoded data removed]"
    }
   },
   "cell_type": "markdown",
   "id": "50ddfe55-820d-4b80-865f-4b71b7ad37a9",
   "metadata": {},
   "source": [
    "![image.png](attachment:b08f213c-98bc-4f03-9be0-71f7bb305966.png)"
   ]
  },
  {
   "attachments": {
    "7950eb95-fca0-402b-bd55-eb95f2c53a26.png": {
     "image/png": "[encoded data removed]"
    }
   },
   "cell_type": "markdown",
   "id": "7d441581-b4c4-4905-af74-557f69c37dca",
   "metadata": {},
   "source": [
    "Matrix-matrix prodcut is only defined when the number of rows is the same as the number of columns or vice versa among the matrices\n",
    "![image.png](attachment:7950eb95-fca0-402b-bd55-eb95f2c53a26.png)"
   ]
  },
  {
   "cell_type": "code",
   "execution_count": 211,
   "id": "36df5336-34d4-4061-a58b-d27e4194d985",
   "metadata": {},
   "outputs": [],
   "source": [
    "A = torch.tensor([[0, 4, -2], [-4, -3, 0]], dtype=torch.float32)\n",
    "B = torch.tensor([[0,1], [1, -1], [2,3]], dtype=torch.float32)"
   ]
  },
  {
   "cell_type": "code",
   "execution_count": 213,
   "id": "3cef76df-f6e8-4500-a0fa-aed962dbc7c4",
   "metadata": {},
   "outputs": [
    {
     "data": {
      "text/plain": [
       "(tensor([[  0., -10.],\n",
       "         [ -3.,  -1.]]),\n",
       " tensor([[  0., -10.],\n",
       "         [ -3.,  -1.]]))"
      ]
     },
     "execution_count": 213,
     "metadata": {},
     "output_type": "execute_result"
    }
   ],
   "source": [
    "A@B, torch.mm(A, B)"
   ]
  },
  {
   "cell_type": "markdown",
   "id": "581e91d0-7a75-40ba-ad4a-a328ce77c887",
   "metadata": {},
   "source": [
    "The **norm** of a vector tells us how big it is e.g. the $l_2$ norm measure the euclidean length of a vector. \n",
    "\n",
    "Properties of the norm are: \n",
    "* if we scale the the vector $\\mathbf{x}$ by a scalar $\\alpha \\in \\mathbb{R}$, the norm changes accordingly.\n",
    "* for any vectors $\\mathbf{x,y}$: norms satisfy the triangle inequality i.e. the sum of any two sides is bigger than the thirs side. \n",
    "* The norm of a vector is nonnegative and it only vanishes if the vector is zero\n"
   ]
  },
  {
   "cell_type": "code",
   "execution_count": 221,
   "id": "3698d83d-51a2-4323-b5b1-0b4c61ebdd3b",
   "metadata": {},
   "outputs": [],
   "source": [
    "xy = torch.tensor([3,4], dtype=torch.float32)"
   ]
  },
  {
   "cell_type": "code",
   "execution_count": 222,
   "id": "60efbe19-ae2b-499d-b379-da6a652d049d",
   "metadata": {},
   "outputs": [
    {
     "data": {
      "text/plain": [
       "tensor(5.)"
      ]
     },
     "execution_count": 222,
     "metadata": {},
     "output_type": "execute_result"
    }
   ],
   "source": [
    "torch.norm(xy)"
   ]
  },
  {
   "cell_type": "code",
   "execution_count": 241,
   "id": "58da962d-ba25-48bd-8494-878ebdabd24c",
   "metadata": {},
   "outputs": [],
   "source": [
    "xyz= torch.arange(24).reshape(2,3,4)"
   ]
  },
  {
   "cell_type": "code",
   "execution_count": 245,
   "id": "c84fbaa6-842c-40c7-b0ad-e750cd4bf635",
   "metadata": {},
   "outputs": [
    {
     "data": {
      "text/plain": [
       "tensor([[ 6, 22, 38],\n",
       "        [54, 70, 86]])"
      ]
     },
     "execution_count": 245,
     "metadata": {},
     "output_type": "execute_result"
    }
   ],
   "source": [
    "xyz.sum(axis=2)"
   ]
  },
  {
   "cell_type": "code",
   "execution_count": 243,
   "id": "5730b924-79a7-44a0-b5ba-e7da34158e39",
   "metadata": {},
   "outputs": [
    {
     "data": {
      "text/plain": [
       "tensor([[[ 0,  1,  2,  3],\n",
       "         [ 4,  5,  6,  7],\n",
       "         [ 8,  9, 10, 11]],\n",
       "\n",
       "        [[12, 13, 14, 15],\n",
       "         [16, 17, 18, 19],\n",
       "         [20, 21, 22, 23]]])"
      ]
     },
     "execution_count": 243,
     "metadata": {},
     "output_type": "execute_result"
    }
   ],
   "source": [
    "xyz"
   ]
  },
  {
   "cell_type": "code",
   "execution_count": null,
   "id": "2207f88f-c84c-44f1-8b61-40c0e3c91671",
   "metadata": {},
   "outputs": [],
   "source": []
  },
  {
   "cell_type": "code",
   "execution_count": null,
   "id": "3c044331-0f7a-4f48-a2d5-d446f78035af",
   "metadata": {},
   "outputs": [],
   "source": []
  }
 ],
 "metadata": {
  "kernelspec": {
   "display_name": "Python [conda env:pytorch]",
   "language": "python",
   "name": "conda-env-pytorch-py"
  },
  "language_info": {
   "codemirror_mode": {
    "name": "ipython",
    "version": 3
   },
   "file_extension": ".py",
   "mimetype": "text/x-python",
   "name": "python",
   "nbconvert_exporter": "python",
   "pygments_lexer": "ipython3",
   "version": "3.11.3"
  }
 },
 "nbformat": 4,
 "nbformat_minor": 5
}
