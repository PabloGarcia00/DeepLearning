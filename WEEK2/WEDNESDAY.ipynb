{
 "cells": [
  {
   "cell_type": "markdown",
   "id": "249fcab6-3d92-48a8-af83-40794ffbfffa",
   "metadata": {},
   "source": [
    "# Wednesday: how to deal with small datasets \n",
    "\n",
    "it is often difficult to get a big dataset for your specific problem you want to solve. there are two general ways for dealing with this problem of having a small dataset: *data augmentation* and *transfer learning and fine tuning*."
   ]
  },
  {
   "cell_type": "markdown",
   "id": "a13eacf6-cb2e-4b5c-91c0-0575a01efbbd",
   "metadata": {},
   "source": [
    "## Data augmentation \n",
    "Alter the images to reduce overfitting risk using realistic alterations.\n",
    "### Geometric\n",
    "* cropping, rotating and stretching \n",
    "\n",
    "### Photometric \n",
    "* changing colors, adding noise\n",
    "\n",
    "### distortion \n",
    "Data augmentation can change the target data for instance:\n",
    "* in the case of bounding boxes, a rotation will change the actual bounding box.\n",
    "\n",
    "Another risk is distorting important features, for instance:\n",
    "* the blurring of the fur of a cat\n",
    "\n",
    "When adding augmented you might overload the system as your training for relationships that aren't grounded in reality. \n"
   ]
  },
  {
   "cell_type": "markdown",
   "id": "0820588f-8233-4baa-a944-d4e74e59b812",
   "metadata": {},
   "source": [
    "## Transfer learning and fine tuning\n",
    "\n",
    "* train images on general datasets to reduce the risk of overfitting \n",
    "&rarr; then taking this model and train it on our own specific dataset\n",
    "\n",
    "During the *pre-training* the simple features are extracted in the proces called *feature extraction*. The layers of the model we are working with are the convolutional layers, the pre-learned relationships between the features can then be exported/extracted and fine tuned on our own model. The final fully connected layers are tuned on our own data. \n",
    "\n"
   ]
  },
  {
   "cell_type": "code",
   "execution_count": null,
   "id": "3faec12e-fcbd-414e-b81f-21ee35f1b8dc",
   "metadata": {},
   "outputs": [],
   "source": []
  }
 ],
 "metadata": {
  "kernelspec": {
   "display_name": "Python [conda env:pytorch-env]",
   "language": "python",
   "name": "conda-env-pytorch-env-py"
  },
  "language_info": {
   "codemirror_mode": {
    "name": "ipython",
    "version": 3
   },
   "file_extension": ".py",
   "mimetype": "text/x-python",
   "name": "python",
   "nbconvert_exporter": "python",
   "pygments_lexer": "ipython3",
   "version": "3.10.4"
  }
 },
 "nbformat": 4,
 "nbformat_minor": 5
}
