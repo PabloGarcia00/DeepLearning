{
 "cells": [
  {
   "cell_type": "markdown",
   "metadata": {
    "id": "bqgshhvOdLMp"
   },
   "source": [
    "# Object localization with CNNs "
   ]
  },
  {
   "cell_type": "markdown",
   "metadata": {
    "id": "74Fxkvgpgi7D"
   },
   "source": [
    "**Before you start**\n",
    "* Go to Runtime > Change runtime type to make sure that the hardware accelerator is set to GPU to speed up computations\n",
    "\n",
    "In this notebook, we will apply convolutional neural networks to the problem of object localization in images. By combining topics from previous notebooks, we'll create a simple CNN that can identify and localize chickens in an image. During training of this CNN, different augmentation methods will be applied in order to improve the generalization capability of the network. This illustrates a typical approach for a real-world CNN application.\n",
    "\n",
    "After finishing this notebook, you should be able to:\n",
    "* define, train and use a CNN for object localization\n",
    "* explain how to use data augmentation for object localization\n",
    "* explain the effect of geometrical data augmentations on the bounding-box label\n",
    "* apply data augmentation to boost performance on object localization"
   ]
  },
  {
   "cell_type": "code",
   "execution_count": 1,
   "metadata": {
    "colab": {
     "base_uri": "https://localhost:8080/"
    },
    "executionInfo": {
     "elapsed": 9679,
     "status": "ok",
     "timestamp": 1679990751724,
     "user": {
      "displayName": "Gert Kootstra",
      "userId": "13607590106681261247"
     },
     "user_tz": -120
    },
    "id": "3ZRMMdy-7bRA",
    "outputId": "dab12ead-0de2-46bd-8adf-456de5cdf638",
    "tags": []
   },
   "outputs": [],
   "source": [
    "!pip install d2l==0.16.1 --quiet"
   ]
  },
  {
   "cell_type": "code",
   "execution_count": 2,
   "metadata": {
    "id": "vuH4WG-Axu-L",
    "tags": []
   },
   "outputs": [],
   "source": [
    "import os \n",
    "\n",
    "from d2l import torch as d2l\n",
    "import torch\n",
    "import torchvision\n",
    "from torch.utils.data import Dataset\n",
    "import torchvision.transforms as transforms\n",
    "from torchvision.transforms.functional import to_tensor, to_pil_image\n",
    "from torch import nn\n",
    "\n",
    "import numpy as np"
   ]
  },
  {
   "cell_type": "markdown",
   "metadata": {
    "id": "99RU6p7ensiO"
   },
   "source": [
    "# 1: The chicken localization dataset\n",
    "Let's download and inspect our data. \n",
    "* Run the following cell to download the required files. \n",
    "* When the cell finished, you can find a new folder `chicken_localization_dataset` in the Files (click folder icon on the left of the window to see it)"
   ]
  },
  {
   "cell_type": "code",
   "execution_count": 3,
   "metadata": {
    "colab": {
     "base_uri": "https://localhost:8080/"
    },
    "executionInfo": {
     "elapsed": 76363,
     "status": "ok",
     "timestamp": 1679990831305,
     "user": {
      "displayName": "Gert Kootstra",
      "userId": "13607590106681261247"
     },
     "user_tz": -120
    },
    "id": "MzwIXi-Ehvf_",
    "outputId": "b4fb0085-b6ff-446b-a9a1-a1dc7c16b9f1",
    "tags": []
   },
   "outputs": [
    {
     "name": "stdout",
     "output_type": "stream",
     "text": [
      "Cloning into 'chicken_localization_dataset'...\n",
      "remote: Enumerating objects: 15802, done.\u001b[K\n",
      "remote: Total 15802 (delta 0), reused 0 (delta 0), pack-reused 15802\u001b[K\n",
      "Receiving objects: 100% (15802/15802), 1.09 GiB | 15.82 MiB/s, done.\n",
      "Resolving deltas: 100% (56/56), done.\n",
      "Updating files: 100% (3322/3322), done.\n",
      "README.md                    annotations_train_subset.csv\n",
      "annotations_test.csv         \u001b[1m\u001b[36mbackgrounds\u001b[m\u001b[m\n",
      "annotations_test_subset.csv  generate_dataset.py\n",
      "annotations_train.csv        \u001b[1m\u001b[36mimages\u001b[m\u001b[m\n"
     ]
    }
   ],
   "source": [
    "# Download the data\n",
    "!git clone https://git.wur.nl/lampi002/chicken_localization_dataset.git\n",
    "!ls chicken_localization_dataset"
   ]
  },
  {
   "cell_type": "markdown",
   "metadata": {
    "id": "38l1QPGj5Hi_"
   },
   "source": [
    "Information about the training data is stored in the file ```annotations_train_subset.csv```. Per line in the file, it contains information about\n",
    "* The image filename\n",
    "* The class of the object (always class id 0 in this case as we only consider chickens)\n",
    "* The x,y,width,height coordinates of the bounding box (in pixels)\n",
    "\n",
    "Check the first 3 elements of the ```annotations_train_subset.csv``` file to see what it contains. \n",
    "\n"
   ]
  },
  {
   "cell_type": "code",
   "execution_count": 4,
   "metadata": {
    "colab": {
     "base_uri": "https://localhost:8080/"
    },
    "executionInfo": {
     "elapsed": 22,
     "status": "ok",
     "timestamp": 1679990831306,
     "user": {
      "displayName": "Gert Kootstra",
      "userId": "13607590106681261247"
     },
     "user_tz": -120
    },
    "id": "JItmW6MJ5UWp",
    "outputId": "cdce06ad-1e57-4153-ef31-db4b9e75c347",
    "tags": []
   },
   "outputs": [
    {
     "name": "stdout",
     "output_type": "stream",
     "text": [
      "img_name,label,x,y,w,h\n",
      "\n",
      "images/train_subset/0_0.png,0,76.5,64.5,101.0,79.0\n",
      "\n",
      "images/train_subset/1_0.png,0,64.0,64.5,94.0,75.0\n",
      "\n",
      "images/train_subset/1_1.png,0,64.5,64.5,119.0,85.0\n",
      "\n"
     ]
    }
   ],
   "source": [
    "with open('chicken_localization_dataset/annotations_train_subset.csv', 'r') as f:\n",
    "   for index, line in enumerate(f):\n",
    "     print(line)\n",
    "     if index == 3:\n",
    "            break"
   ]
  },
  {
   "cell_type": "markdown",
   "metadata": {
    "id": "VAgABhp3oBUv"
   },
   "source": [
    "As we are using custom image data, we also need to build a customized dataset class, similar to the dataset classes we have seen in previous notebooks.\n",
    "\n",
    "**Exercise:**\n",
    "* Study the code block below. \n",
    "* Where is the `annotations_train_subset.csv` or `annotations_test_subset.csv` used?\n",
    "* What does the `__getitem__` function do? \n",
    "\n",
    "\n",
    "\n",
    "\n",
    "\n"
   ]
  },
  {
   "cell_type": "code",
   "execution_count": 5,
   "metadata": {
    "id": "IeiH46zerIq0",
    "tags": []
   },
   "outputs": [],
   "source": [
    "class ChickenDataset(Dataset):\n",
    "    ## Constructor function loading filenames and labels for the training/test set\n",
    "    def __init__(self, is_train=True, transforms=None):\n",
    "        self.images = []\n",
    "        self.boxes = []\n",
    "        self.transforms = transforms\n",
    "        annotation_file = os.path.join('chicken_localization_dataset',\n",
    "                             'annotations_train_subset.csv' if is_train else 'annotations_test_subset.csv')\n",
    "    \n",
    "        with open(annotation_file, 'r') as file:\n",
    "              for index, line in enumerate(file):\n",
    "                  # Ignore first row as this contains the headers\n",
    "                  if index >0:\n",
    "                     annotation = line.rstrip().split(',')\n",
    "                     image_name = os.path.join('chicken_localization_dataset', annotation[0])\n",
    "                     box = [float(element) for element in annotation[2:]]\n",
    "                     \n",
    "                     # TODO: add your code here (~2 lines)\n",
    "                     self.images.append(image_name)\n",
    "                     self.boxes.append(box)\n",
    "\n",
    "    ## Function returning the number of samples in the dataset    \n",
    "    def __len__(self):\n",
    "        return len(self.images)\n",
    "\n",
    "    ## Function returning the sample (input,output) at index idx. Function loads the image as PIL image\n",
    "    def __getitem__(self, idx):\n",
    "        image = d2l.Image.open(self.images[idx])  # Load the image\n",
    "        box = torch.tensor(self.boxes[idx])       # Put the label (bbox coordinates) in a tensor\n",
    "     \n",
    "        if self.transforms is not None:\n",
    "            image, box = self.transforms(image, box) # Apply data transformations if provided\n",
    "\n",
    "        return image, box\n",
    "\n",
    "# Creating training and test datasets\n",
    "train_dataset = ChickenDataset(is_train=True)\n",
    "test_dataset = ChickenDataset(is_train=False)\n",
    "\n",
    "               "
   ]
  },
  {
   "cell_type": "markdown",
   "metadata": {
    "id": "vmH1i5NIpxC5"
   },
   "source": [
    "Let's get one sample from the training set to see what it is:"
   ]
  },
  {
   "cell_type": "code",
   "execution_count": 22,
   "metadata": {
    "colab": {
     "base_uri": "https://localhost:8080/",
     "height": 164
    },
    "executionInfo": {
     "elapsed": 9,
     "status": "ok",
     "timestamp": 1679996241179,
     "user": {
      "displayName": "Gert Kootstra",
      "userId": "13607590106681261247"
     },
     "user_tz": -120
    },
    "id": "C8Mgqg5Fp0K4",
    "outputId": "4e4ae18a-aa68-485b-b783-0d491de2ebaf",
    "tags": []
   },
   "outputs": [
    {
     "name": "stdout",
     "output_type": "stream",
     "text": [
      "Bounding box coordinates: tensor([64.0000, 64.5000, 94.0000, 69.0000])\n"
     ]
    },
    {
     "data": {
      "image/png": "[encoded data removed]",
      "text/plain": [
       "<Figure size 640x480 with 1 Axes>"
      ]
     },
     "metadata": {},
     "output_type": "display_data"
    }
   ],
   "source": [
    "%matplotlib inline\n",
    "import matplotlib.pyplot as plt\n",
    "\n",
    "img,bbox = train_dataset[10]\n",
    "\n",
    "plt.imshow(img)\n",
    "print('Bounding box coordinates:', bbox)"
   ]
  },
  {
   "cell_type": "markdown",
   "metadata": {
    "id": "moSyVmoerLEI"
   },
   "source": [
    "**Note:** This dataset is artificially created and designed for single object localization tasks. Some chicken images might appear partially visible due to the fact that they were extracted from images containing multiple animals.\n",
    "\n",
    "The following two functions will be used to plot images and bounding boxes, either for a single image or for a grid of multiple images from the dataset: \n",
    "\n",
    " \n",
    "\n"
   ]
  },
  {
   "cell_type": "code",
   "execution_count": 23,
   "metadata": {
    "id": "iP6vH_BPoMjo",
    "tags": []
   },
   "outputs": [],
   "source": [
    "def visualize_single_sample(image, bbox, title=\"\"):\n",
    "    \"\"\"\n",
    "    Visualize a single image and bounding box using matplotlib.\n",
    "    \n",
    "    Parameters:\n",
    "        image (PIL image): The input image.\n",
    "        bbox (list): A list containing the bounding box coordinates (x, y, w, h).\n",
    "    \"\"\"\n",
    "    fig, ax = d2l.plt.subplots()\n",
    "    ax.imshow(image)\n",
    "    x, y, w, h = bbox\n",
    "    rect = d2l.plt.Rectangle(xy=(x-w/2, y-h/2), width=w, height=h,\n",
    "                                fill=False, edgecolor='blue', linewidth=2)\n",
    "    ax.add_patch(rect)\n",
    "    if(title):\n",
    "      d2l.plt.title(title)\n",
    "    d2l.plt.show()\n",
    "\n",
    "\n",
    "def plot_samples(images, labels, nrows, ncols): \n",
    "  \"\"\"\n",
    "  This function plots a grid of images and their corresponding bounding boxes.\n",
    "  Parameters:\n",
    "        - images: list of images \n",
    "        - labels: list of bounding box coordinates in form [x, y, w, h] \n",
    "        - nrows: the number of rows in the grid\n",
    "        - ncols: the number of columns in the grid\n",
    "  \"\"\"\n",
    "\n",
    "  fig, axs = d2l.plt.subplots(nrows, ncols, figsize=(15, 6))\n",
    "  for i in range(ncols*nrows):\n",
    "      ax = axs[i // ncols][i % ncols]\n",
    "      image = images[i]\n",
    "      boxes = [labels[i]]\n",
    "      ax.imshow(image)\n",
    "      for box in boxes:\n",
    "          x, y, w, h = box\n",
    "          rect = d2l.plt.Rectangle(xy=(x-w/2, y-h/2), width=w, height=h,\n",
    "                                fill=False, edgecolor='blue', linewidth=2)\n",
    "          ax.add_patch(rect)\n",
    "      ax.axis('off')\n",
    "  d2l.plt.show()\n"
   ]
  },
  {
   "cell_type": "markdown",
   "metadata": {
    "id": "mLduy919zRcj"
   },
   "source": [
    "**Exercise:** \n",
    "* Use ```visualize_single_sample(image,bbox)``` to visualize the image with the annotated bounding box. Inspect several images from the training set.\n",
    "* Do the same for the test set\n",
    "* What differences do you see between the training set and the test set? How could this influence the performance of a neural network trained on the training dataset?\n"
   ]
  },
  {
   "cell_type": "code",
   "execution_count": 26,
   "metadata": {
    "colab": {
     "base_uri": "https://localhost:8080/",
     "height": 357
    },
    "executionInfo": {
     "elapsed": 10,
     "status": "ok",
     "timestamp": 1679996258317,
     "user": {
      "displayName": "Gert Kootstra",
      "userId": "13607590106681261247"
     },
     "user_tz": -120
    },
    "id": "r9kP-EBAq89Q",
    "outputId": "e6093eb6-4c0a-41a5-8c10-140957e06f4f",
    "tags": []
   },
   "outputs": [
    {
     "data": {
      "image/png": "[encoded data removed]",
      "text/plain": [
       "<Figure size 640x480 with 1 Axes>"
      ]
     },
     "metadata": {},
     "output_type": "display_data"
    }
   ],
   "source": [
    "## ANSWER ##\n",
    "img_id = np.random.randint(len(train_dataset))\n",
    "\n",
    "# Get image from train_dataset\n",
    "img,bbox = train_dataset[10]\n",
    "\n",
    "# Visualize\n",
    "\n",
    "visualize_single_sample(img, bbox)"
   ]
  },
  {
   "cell_type": "markdown",
   "metadata": {
    "id": "Folph0z3sWP2"
   },
   "source": [
    "**ANSWER:**\n",
    "* The chicken in the test set are much smaller than in the training set. This will likely result in a poor performance of the network on the test set if trained on this training set. \n",
    "* Later in the notebook, you will learn to apply data augmentation to deal with this"
   ]
  },
  {
   "cell_type": "markdown",
   "metadata": {
    "id": "8yPibolTrw_S"
   },
   "source": [
    "# 2: Object localization\n",
    "\n",
    "In this section, we will build a CNN for object localization. Remember from the MLP tutorial that the task for object localization is to predict the bounding box surrounding the object. A bounding box is determined by four coordinates, the position (x,y), widht, and height."
   ]
  },
  {
   "cell_type": "markdown",
   "metadata": {
    "id": "WKirAl6EsDLe"
   },
   "source": [
    "## 2.1: Build a CNN for object localization \n",
    "Now we will implement a convolutional neural network to predict bounding boxes. We will start with the familiar AlexNet model ([8.1 Deep Convolutional Neural Networks](https://d2l.ai/chapter_convolutional-modern/alexnet.html)) as a baseline.\n",
    "\n",
    "In the image below, you see the AlexNet network architecture modified to deal well with the 128 x 128 image resolution of the chicken dataset. It consists of a number of convolutional and pooling layers, and some fully connected layers at the end.  \n",
    "\n",
    "\n",
    "<center><img src=\"https://git.wur.nl/koots006/wias-course-image-and-video-analysis/-/raw/main/day3/alexnet.jpg\" width=500></center>\n",
    "\n",
    "<center><img src=\"https://git.wur.nl/koots006/wias-course-image-and-video-analysis/-/raw/main/day3/alexnet.png\" width=600\n",
    "00></center>\n",
    "\n",
    "**Exercise:** \n",
    "* Study the code below and compare the implemented network architecture with the one shown in the table and figure. Does it match?\n",
    "* Notice that the default AlexNet has 1000 output neurons and is made for classification. How should you adapt the network to predict the four coordinates of a bounding box (x,y,w,h)?\n",
    "* Change the code to do bounding-box regression"
   ]
  },
  {
   "cell_type": "markdown",
   "metadata": {
    "id": "XfoBo0zltgpR"
   },
   "source": [
    "| Input | Output |\n",
    "| --- | --- |"
   ]
  },
  {
   "cell_type": "code",
   "execution_count": 27,
   "metadata": {
    "colab": {
     "base_uri": "https://localhost:8080/"
    },
    "executionInfo": {
     "elapsed": 677,
     "status": "ok",
     "timestamp": 1679995336171,
     "user": {
      "displayName": "Gert Kootstra",
      "userId": "13607590106681261247"
     },
     "user_tz": -120
    },
    "id": "mja02pqKsDLg",
    "outputId": "65dca24b-665b-41bb-f9c9-cd9d7d2d6729",
    "tags": []
   },
   "outputs": [
    {
     "name": "stderr",
     "output_type": "stream",
     "text": [
      "/opt/homebrew/Caskroom/miniconda/base/envs/pytorch-env/lib/python3.10/site-packages/torch/nn/modules/lazy.py:180: UserWarning: Lazy modules are a new feature under heavy development so changes to the API or functionality can happen at any moment.\n",
      "  warnings.warn('Lazy modules are a new feature under heavy development '\n"
     ]
    }
   ],
   "source": [
    "alexnet = nn.Sequential(\n",
    "            nn.LazyConv2d(96, kernel_size=11, stride=4, padding=4),\n",
    "            nn.ReLU(), \n",
    "\n",
    "            nn.MaxPool2d(kernel_size=3, stride=2, padding=1),\n",
    "\n",
    "            nn.LazyConv2d(256, kernel_size=5, padding=2), \n",
    "            nn.ReLU(),\n",
    "\n",
    "            nn.MaxPool2d(kernel_size=3, stride=2, padding=1),\n",
    "\n",
    "            nn.LazyConv2d(384, kernel_size=3, padding=1), \n",
    "            nn.ReLU(),\n",
    "\n",
    "            nn.LazyConv2d(384, kernel_size=3, padding=1), \n",
    "            nn.ReLU(),\n",
    "\n",
    "            nn.LazyConv2d(256, kernel_size=3, padding=1), \n",
    "            nn.ReLU(),\n",
    "\n",
    "            nn.MaxPool2d(kernel_size=3, stride=2, padding=1), \n",
    "\n",
    "            nn.Flatten(),\n",
    "\n",
    "            nn.LazyLinear(4096), \n",
    "            nn.ReLU(), \n",
    "            nn.Dropout(p=0.5),\n",
    "\n",
    "            nn.LazyLinear(4096), \n",
    "            nn.ReLU(),\n",
    "            nn.Dropout(p=0.5),\n",
    "            \n",
    "            nn.LazyLinear(1000)\n",
    "          )"
   ]
  },
  {
   "cell_type": "markdown",
   "metadata": {
    "id": "MToM3tc9bOJn"
   },
   "source": [
    "**Exercise:**\n",
    "* After defining the axlexnet, we can make a summary of the network architecture using the following code block\n",
    "* Does the summary table match the table provided above? "
   ]
  },
  {
   "cell_type": "code",
   "execution_count": 28,
   "metadata": {
    "tags": []
   },
   "outputs": [],
   "source": [
    "!pip install torch-summary --quiet"
   ]
  },
  {
   "cell_type": "code",
   "execution_count": 29,
   "metadata": {
    "colab": {
     "base_uri": "https://localhost:8080/"
    },
    "executionInfo": {
     "elapsed": 1026,
     "status": "ok",
     "timestamp": 1679993520649,
     "user": {
      "displayName": "Gert Kootstra",
      "userId": "13607590106681261247"
     },
     "user_tz": -120
    },
    "id": "RcC1kdM2X1zF",
    "outputId": "32d892ae-b68b-4174-a546-4984327c3ab2",
    "tags": []
   },
   "outputs": [
    {
     "name": "stdout",
     "output_type": "stream",
     "text": [
      "==========================================================================================\n",
      "Layer (type:depth-idx)                   Output Shape              Param #\n",
      "==========================================================================================\n",
      "├─Conv2d: 1-1                            [-1, 96, 32, 32]          34,944\n",
      "├─ReLU: 1-2                              [-1, 96, 32, 32]          --\n",
      "├─MaxPool2d: 1-3                         [-1, 96, 16, 16]          --\n",
      "├─Conv2d: 1-4                            [-1, 256, 16, 16]         614,656\n",
      "├─ReLU: 1-5                              [-1, 256, 16, 16]         --\n",
      "├─MaxPool2d: 1-6                         [-1, 256, 8, 8]           --\n",
      "├─Conv2d: 1-7                            [-1, 384, 8, 8]           885,120\n",
      "├─ReLU: 1-8                              [-1, 384, 8, 8]           --\n",
      "├─Conv2d: 1-9                            [-1, 384, 8, 8]           1,327,488\n",
      "├─ReLU: 1-10                             [-1, 384, 8, 8]           --\n",
      "├─Conv2d: 1-11                           [-1, 256, 8, 8]           884,992\n",
      "├─ReLU: 1-12                             [-1, 256, 8, 8]           --\n",
      "├─MaxPool2d: 1-13                        [-1, 256, 4, 4]           --\n",
      "├─Flatten: 1-14                          [-1, 4096]                --\n",
      "├─Linear: 1-15                           [-1, 4096]                16,781,312\n",
      "├─ReLU: 1-16                             [-1, 4096]                --\n",
      "├─Dropout: 1-17                          [-1, 4096]                --\n",
      "├─Linear: 1-18                           [-1, 4096]                16,781,312\n",
      "├─ReLU: 1-19                             [-1, 4096]                --\n",
      "├─Dropout: 1-20                          [-1, 4096]                --\n",
      "├─Linear: 1-21                           [-1, 1000]                4,097,000\n",
      "==========================================================================================\n",
      "Total params: 41,406,824\n",
      "Trainable params: 41,406,824\n",
      "Non-trainable params: 0\n",
      "Total mult-adds (M): 428.80\n",
      "==========================================================================================\n",
      "Input size (MB): 0.19\n",
      "Forward/backward pass size (MB): 1.82\n",
      "Params size (MB): 157.95\n",
      "Estimated Total Size (MB): 159.96\n",
      "==========================================================================================\n"
     ]
    },
    {
     "data": {
      "text/plain": [
       "==========================================================================================\n",
       "Layer (type:depth-idx)                   Output Shape              Param #\n",
       "==========================================================================================\n",
       "├─Conv2d: 1-1                            [-1, 96, 32, 32]          34,944\n",
       "├─ReLU: 1-2                              [-1, 96, 32, 32]          --\n",
       "├─MaxPool2d: 1-3                         [-1, 96, 16, 16]          --\n",
       "├─Conv2d: 1-4                            [-1, 256, 16, 16]         614,656\n",
       "├─ReLU: 1-5                              [-1, 256, 16, 16]         --\n",
       "├─MaxPool2d: 1-6                         [-1, 256, 8, 8]           --\n",
       "├─Conv2d: 1-7                            [-1, 384, 8, 8]           885,120\n",
       "├─ReLU: 1-8                              [-1, 384, 8, 8]           --\n",
       "├─Conv2d: 1-9                            [-1, 384, 8, 8]           1,327,488\n",
       "├─ReLU: 1-10                             [-1, 384, 8, 8]           --\n",
       "├─Conv2d: 1-11                           [-1, 256, 8, 8]           884,992\n",
       "├─ReLU: 1-12                             [-1, 256, 8, 8]           --\n",
       "├─MaxPool2d: 1-13                        [-1, 256, 4, 4]           --\n",
       "├─Flatten: 1-14                          [-1, 4096]                --\n",
       "├─Linear: 1-15                           [-1, 4096]                16,781,312\n",
       "├─ReLU: 1-16                             [-1, 4096]                --\n",
       "├─Dropout: 1-17                          [-1, 4096]                --\n",
       "├─Linear: 1-18                           [-1, 4096]                16,781,312\n",
       "├─ReLU: 1-19                             [-1, 4096]                --\n",
       "├─Dropout: 1-20                          [-1, 4096]                --\n",
       "├─Linear: 1-21                           [-1, 1000]                4,097,000\n",
       "==========================================================================================\n",
       "Total params: 41,406,824\n",
       "Trainable params: 41,406,824\n",
       "Non-trainable params: 0\n",
       "Total mult-adds (M): 428.80\n",
       "==========================================================================================\n",
       "Input size (MB): 0.19\n",
       "Forward/backward pass size (MB): 1.82\n",
       "Params size (MB): 157.95\n",
       "Estimated Total Size (MB): 159.96\n",
       "=========================================================================================="
      ]
     },
     "execution_count": 29,
     "metadata": {},
     "output_type": "execute_result"
    }
   ],
   "source": [
    "from torchsummary import summary\n",
    "\n",
    "# We need to initialize the lazy modules\n",
    "alexnet(torch.randn(1,3,128,128))\n",
    "\n",
    "summary(alexnet, (3, 128, 128), device = 'cpu')"
   ]
  },
  {
   "cell_type": "markdown",
   "metadata": {
    "id": "xpl0stKZdDe2"
   },
   "source": [
    "Let's initialize the network with random weights:"
   ]
  },
  {
   "cell_type": "code",
   "execution_count": 43,
   "metadata": {
    "colab": {
     "base_uri": "https://localhost:8080/"
    },
    "executionInfo": {
     "elapsed": 312,
     "status": "ok",
     "timestamp": 1679997651117,
     "user": {
      "displayName": "Gert Kootstra",
      "userId": "13607590106681261247"
     },
     "user_tz": -120
    },
    "id": "ATZEP5IdcziJ",
    "outputId": "cdb2d3c6-7167-4bd2-fe45-c5468ee0a275",
    "tags": []
   },
   "outputs": [
    {
     "data": {
      "text/plain": [
       "Sequential(\n",
       "  (0): Conv2d(3, 96, kernel_size=(11, 11), stride=(4, 4), padding=(4, 4))\n",
       "  (1): ReLU()\n",
       "  (2): MaxPool2d(kernel_size=3, stride=2, padding=1, dilation=1, ceil_mode=False)\n",
       "  (3): Conv2d(96, 256, kernel_size=(5, 5), stride=(1, 1), padding=(2, 2))\n",
       "  (4): ReLU()\n",
       "  (5): MaxPool2d(kernel_size=3, stride=2, padding=1, dilation=1, ceil_mode=False)\n",
       "  (6): Conv2d(256, 384, kernel_size=(3, 3), stride=(1, 1), padding=(1, 1))\n",
       "  (7): ReLU()\n",
       "  (8): Conv2d(384, 384, kernel_size=(3, 3), stride=(1, 1), padding=(1, 1))\n",
       "  (9): ReLU()\n",
       "  (10): Conv2d(384, 256, kernel_size=(3, 3), stride=(1, 1), padding=(1, 1))\n",
       "  (11): ReLU()\n",
       "  (12): MaxPool2d(kernel_size=3, stride=2, padding=1, dilation=1, ceil_mode=False)\n",
       "  (13): Flatten(start_dim=1, end_dim=-1)\n",
       "  (14): Linear(in_features=4096, out_features=4096, bias=True)\n",
       "  (15): ReLU()\n",
       "  (16): Dropout(p=0.5, inplace=False)\n",
       "  (17): Linear(in_features=4096, out_features=4096, bias=True)\n",
       "  (18): ReLU()\n",
       "  (19): Dropout(p=0.5, inplace=False)\n",
       "  (20): Linear(in_features=4096, out_features=1000, bias=True)\n",
       ")"
      ]
     },
     "execution_count": 43,
     "metadata": {},
     "output_type": "execute_result"
    }
   ],
   "source": [
    "batch_size, device = 100, d2l.try_gpu()\n",
    "\n",
    "def init_weights(m):\n",
    "    if type(m) in [nn.Linear, nn.Conv2d]:\n",
    "        nn.init.xavier_uniform_(m.weight)\n",
    "\n",
    "alexnet.apply(init_weights)\n"
   ]
  },
  {
   "cell_type": "markdown",
   "metadata": {
    "id": "2lg0v82YbgbN"
   },
   "source": [
    "## 2.2: Training AlexNet"
   ]
  },
  {
   "cell_type": "markdown",
   "metadata": {
    "id": "eG7KrfeGcGYw"
   },
   "source": [
    "In the following code blocks, there are some functions defined to train the network. These are similar to what you have seen before. Some important points:\n",
    "\n",
    "* We define a class `NoTransform`, which makes sure that the PIL image is changed into a Torch tensor, so that the network can use it to train and predict.\n",
    "* Two functions to get the training and test dataloaders.\n",
    "* `train_batch` trains the network on one batch of images\n",
    "* `evaluate_loss` calculates the loss on the training/test data\n",
    "* `train` trains the network for `num_epoch` epochs\n",
    "\n",
    "**Do:**\n",
    "* Run the code blocks to load all functions\n"
   ]
  },
  {
   "cell_type": "code",
   "execution_count": 31,
   "metadata": {
    "id": "IVS-vl8BlRu4",
    "tags": []
   },
   "outputs": [],
   "source": [
    "class NoTransform:      \n",
    "    def __call__(self, img, box):\n",
    "        img_transformed = transforms.ToTensor()(img)\n",
    "        box_transformed = box\n",
    "\n",
    "        return img_transformed, box_transformed\n",
    "\n",
    "no_aug = NoTransform()"
   ]
  },
  {
   "cell_type": "code",
   "execution_count": 33,
   "metadata": {
    "id": "V4GMfs3nb38M",
    "tags": []
   },
   "outputs": [],
   "source": [
    "def load_train_data(augs, batch_size):\n",
    "    dataset = ChickenDataset(is_train=True,transforms=augs)\n",
    "    dataloader = torch.utils.data.DataLoader(dataset, batch_size=batch_size,\n",
    "                    shuffle=True, num_workers=d2l.get_dataloader_workers())\n",
    "    return dataloader\n",
    "\n",
    "def load_test_data(augs, batch_size):\n",
    "    dataset = ChickenDataset(is_train=False,transforms=augs)\n",
    "    dataloader = torch.utils.data.DataLoader(dataset, batch_size=batch_size,\n",
    "                    shuffle=False, num_workers=d2l.get_dataloader_workers())\n",
    "    return dataloader\n",
    "    "
   ]
  },
  {
   "cell_type": "code",
   "execution_count": 34,
   "metadata": {
    "id": "h4zyqKkacPlg",
    "tags": []
   },
   "outputs": [],
   "source": [
    "def train_batch(net, X, y, loss, trainer, device):\n",
    "    X = X.to(device)\n",
    "    y = y.to(device)\n",
    "    net.train()\n",
    "    trainer.zero_grad()\n",
    "    pred = net(X)\n",
    "    l = loss(pred, y)\n",
    "    l.sum().backward()\n",
    "    trainer.step()\n",
    "    train_loss_sum = l.sum()\n",
    "    return train_loss_sum\n",
    "\n",
    "def evaluate_loss(net, data_iter, loss, device):\n",
    "    \"\"\"Evaluate the loss of a model on the given dataset.\"\"\"\n",
    "    metric = d2l.Accumulator(2)\n",
    "    for X, y in data_iter:\n",
    "        X, y = X.to(device), y.to(device)\n",
    "        metric.add(loss(net(X), y), y.numel())\n",
    "        #print(metric[0] / metric[1])\n",
    "    return metric[0] / metric[1]"
   ]
  },
  {
   "cell_type": "code",
   "execution_count": 35,
   "metadata": {
    "id": "Uo1IQHlrcmZM",
    "tags": []
   },
   "outputs": [],
   "source": [
    "def train(net, train_iter, test_iter, loss, trainer, num_epochs,\n",
    "               device=d2l.try_gpu()):\n",
    "    timer, num_batches = d2l.Timer(), len(train_iter)\n",
    "    animator = d2l.Animator(xlabel='epoch', xlim=[1, num_epochs], ylim=[0, 5],\n",
    "                            legend=['train loss', 'test_loss'])\n",
    "    net.to(device)\n",
    "    for epoch in range(num_epochs):\n",
    "        # Store training_loss, num_examples, num_features\n",
    "        metric = d2l.Accumulator(3)\n",
    "        for i, (features, labels) in enumerate(train_iter):\n",
    "            timer.start()\n",
    "            l = train_batch(\n",
    "                net, features, labels, loss, trainer, device)\n",
    "            metric.add(l, labels.shape[0], labels.numel())\n",
    "            timer.stop()\n",
    "            if (i + 1) % (num_batches // 1) == 0 or i == num_batches - 1:\n",
    "                animator.add(epoch + (i + 1) / num_batches,\n",
    "                             (metric[0] / metric[2],\n",
    "                              None))\n",
    "                # Evaluate test loss at the end of each epoch\n",
    "                test_loss = evaluate_loss(net, test_iter, loss, device)\n",
    "                animator.add(epoch + (i + 1) / num_batches,(None, test_loss))\n",
    "    print(f'train_loss {metric[0] / metric[2]:.3f}')\n",
    "    print(f'test_loss {test_loss:.3f}')\n",
    "    print(f'{metric[2] * num_epochs / timer.sum():.1f} examples/sec on '\n",
    "          f'{str(device)}')"
   ]
  },
  {
   "cell_type": "markdown",
   "metadata": {
    "id": "LPfBrRt-cziI"
   },
   "source": [
    "**Exercise:**\n",
    "* Now, we are almost ready to train AlexNet...\n",
    "* ...but we still need to define the loss function to train the network for bounding box prediction. \n",
    "* In the function `train_net` below, define the loss function for bounding box regressie (check https://pytorch.org/docs/stable/nn.html#loss-functions if you forgot)\n"
   ]
  },
  {
   "cell_type": "code",
   "execution_count": 40,
   "metadata": {
    "id": "6mjxqtDRc57-",
    "tags": []
   },
   "outputs": [],
   "source": [
    "def train_net(net, train_augs, test_augs, lr=0.01, num_epochs=35):\n",
    "    train_loader = load_train_data(train_augs, batch_size)\n",
    "    test_loader = load_test_data(test_augs, batch_size)\n",
    "\n",
    "    # TODO: define the loss as it is different from classification:\n",
    "    loss = nn.CrossEntropyLoss()\n",
    "    \n",
    "    trainer = torch.optim.Adam(net.parameters(), lr=lr)\n",
    "    train(net, train_loader, test_loader, loss, trainer, num_epochs, device)"
   ]
  },
  {
   "cell_type": "markdown",
   "metadata": {
    "id": "1BeYkTZFcziK"
   },
   "source": [
    "Now, we are ready to train the network\n",
    "\n",
    "**Exercise:**\n",
    "* Run the code block below to train the network with a learning rate of 0.0001 for 35 epochs\n",
    "* Observe the development of the training and test loss. What do you see? Can the network generalize to the test data or is it overfitted on the training data?"
   ]
  },
  {
   "cell_type": "code",
   "execution_count": 44,
   "metadata": {
    "colab": {
     "base_uri": "https://localhost:8080/",
     "height": 324
    },
    "executionInfo": {
     "elapsed": 101160,
     "status": "ok",
     "timestamp": 1679998673839,
     "user": {
      "displayName": "Gert Kootstra",
      "userId": "13607590106681261247"
     },
     "user_tz": -120
    },
    "id": "kX5IZ0KfcziM",
    "outputId": "82b1745f-f73c-4012-fda1-34054c3504e6",
    "tags": []
   },
   "outputs": [
    {
     "name": "stderr",
     "output_type": "stream",
     "text": [
      "Traceback (most recent call last):\n",
      "  File \"<string>\", line 1, in <module>\n",
      "Traceback (most recent call last):\n",
      "  File \"/opt/homebrew/Caskroom/miniconda/base/envs/pytorch-env/lib/python3.10/multiprocessing/spawn.py\", line 116, in spawn_main\n",
      "  File \"<string>\", line 1, in <module>\n",
      "  File \"/opt/homebrew/Caskroom/miniconda/base/envs/pytorch-env/lib/python3.10/multiprocessing/spawn.py\", line 116, in spawn_main\n",
      "    exitcode = _main(fd, parent_sentinel)\n",
      "  File \"/opt/homebrew/Caskroom/miniconda/base/envs/pytorch-env/lib/python3.10/multiprocessing/spawn.py\", line 126, in _main\n",
      "    exitcode = _main(fd, parent_sentinel)\n",
      "  File \"/opt/homebrew/Caskroom/miniconda/base/envs/pytorch-env/lib/python3.10/multiprocessing/spawn.py\", line 126, in _main\n",
      "    self = reduction.pickle.load(from_parent)\n",
      "AttributeError: Can't get attribute 'ChickenDataset' on <module '__main__' (built-in)>\n",
      "    self = reduction.pickle.load(from_parent)\n",
      "AttributeError: Can't get attribute 'ChickenDataset' on <module '__main__' (built-in)>\n",
      "Traceback (most recent call last):\n",
      "  File \"<string>\", line 1, in <module>\n",
      "  File \"/opt/homebrew/Caskroom/miniconda/base/envs/pytorch-env/lib/python3.10/multiprocessing/spawn.py\", line 116, in spawn_main\n",
      "    exitcode = _main(fd, parent_sentinel)\n",
      "  File \"/opt/homebrew/Caskroom/miniconda/base/envs/pytorch-env/lib/python3.10/multiprocessing/spawn.py\", line 126, in _main\n",
      "    self = reduction.pickle.load(from_parent)\n",
      "AttributeError: Can't get attribute 'ChickenDataset' on <module '__main__' (built-in)>\n",
      "Traceback (most recent call last):\n",
      "  File \"<string>\", line 1, in <module>\n",
      "  File \"/opt/homebrew/Caskroom/miniconda/base/envs/pytorch-env/lib/python3.10/multiprocessing/spawn.py\", line 116, in spawn_main\n",
      "    exitcode = _main(fd, parent_sentinel)\n",
      "  File \"/opt/homebrew/Caskroom/miniconda/base/envs/pytorch-env/lib/python3.10/multiprocessing/spawn.py\", line 126, in _main\n",
      "    self = reduction.pickle.load(from_parent)\n",
      "AttributeError: Can't get attribute 'ChickenDataset' on <module '__main__' (built-in)>\n"
     ]
    },
    {
     "ename": "RuntimeError",
     "evalue": "DataLoader worker (pid(s) 70087, 70088) exited unexpectedly",
     "output_type": "error",
     "traceback": [
      "\u001b[0;31m---------------------------------------------------------------------------\u001b[0m",
      "\u001b[0;31mRuntimeError\u001b[0m                              Traceback (most recent call last)",
      "File \u001b[0;32m/opt/homebrew/Caskroom/miniconda/base/envs/pytorch-env/lib/python3.10/site-packages/torch/utils/data/dataloader.py:1135\u001b[0m, in \u001b[0;36m_MultiProcessingDataLoaderIter._try_get_data\u001b[0;34m(self, timeout)\u001b[0m\n\u001b[1;32m   1134\u001b[0m \u001b[38;5;28;01mtry\u001b[39;00m:\n\u001b[0;32m-> 1135\u001b[0m     data \u001b[38;5;241m=\u001b[39m \u001b[38;5;28;43mself\u001b[39;49m\u001b[38;5;241;43m.\u001b[39;49m\u001b[43m_data_queue\u001b[49m\u001b[38;5;241;43m.\u001b[39;49m\u001b[43mget\u001b[49m\u001b[43m(\u001b[49m\u001b[43mtimeout\u001b[49m\u001b[38;5;241;43m=\u001b[39;49m\u001b[43mtimeout\u001b[49m\u001b[43m)\u001b[49m\n\u001b[1;32m   1136\u001b[0m     \u001b[38;5;28;01mreturn\u001b[39;00m (\u001b[38;5;28;01mTrue\u001b[39;00m, data)\n",
      "File \u001b[0;32m/opt/homebrew/Caskroom/miniconda/base/envs/pytorch-env/lib/python3.10/multiprocessing/queues.py:113\u001b[0m, in \u001b[0;36mQueue.get\u001b[0;34m(self, block, timeout)\u001b[0m\n\u001b[1;32m    112\u001b[0m timeout \u001b[38;5;241m=\u001b[39m deadline \u001b[38;5;241m-\u001b[39m time\u001b[38;5;241m.\u001b[39mmonotonic()\n\u001b[0;32m--> 113\u001b[0m \u001b[38;5;28;01mif\u001b[39;00m \u001b[38;5;129;01mnot\u001b[39;00m \u001b[38;5;28;43mself\u001b[39;49m\u001b[38;5;241;43m.\u001b[39;49m\u001b[43m_poll\u001b[49m\u001b[43m(\u001b[49m\u001b[43mtimeout\u001b[49m\u001b[43m)\u001b[49m:\n\u001b[1;32m    114\u001b[0m     \u001b[38;5;28;01mraise\u001b[39;00m Empty\n",
      "File \u001b[0;32m/opt/homebrew/Caskroom/miniconda/base/envs/pytorch-env/lib/python3.10/multiprocessing/connection.py:262\u001b[0m, in \u001b[0;36m_ConnectionBase.poll\u001b[0;34m(self, timeout)\u001b[0m\n\u001b[1;32m    261\u001b[0m \u001b[38;5;28mself\u001b[39m\u001b[38;5;241m.\u001b[39m_check_readable()\n\u001b[0;32m--> 262\u001b[0m \u001b[38;5;28;01mreturn\u001b[39;00m \u001b[38;5;28;43mself\u001b[39;49m\u001b[38;5;241;43m.\u001b[39;49m\u001b[43m_poll\u001b[49m\u001b[43m(\u001b[49m\u001b[43mtimeout\u001b[49m\u001b[43m)\u001b[49m\n",
      "File \u001b[0;32m/opt/homebrew/Caskroom/miniconda/base/envs/pytorch-env/lib/python3.10/multiprocessing/connection.py:429\u001b[0m, in \u001b[0;36mConnection._poll\u001b[0;34m(self, timeout)\u001b[0m\n\u001b[1;32m    428\u001b[0m \u001b[38;5;28;01mdef\u001b[39;00m \u001b[38;5;21m_poll\u001b[39m(\u001b[38;5;28mself\u001b[39m, timeout):\n\u001b[0;32m--> 429\u001b[0m     r \u001b[38;5;241m=\u001b[39m \u001b[43mwait\u001b[49m\u001b[43m(\u001b[49m\u001b[43m[\u001b[49m\u001b[38;5;28;43mself\u001b[39;49m\u001b[43m]\u001b[49m\u001b[43m,\u001b[49m\u001b[43m \u001b[49m\u001b[43mtimeout\u001b[49m\u001b[43m)\u001b[49m\n\u001b[1;32m    430\u001b[0m     \u001b[38;5;28;01mreturn\u001b[39;00m \u001b[38;5;28mbool\u001b[39m(r)\n",
      "File \u001b[0;32m/opt/homebrew/Caskroom/miniconda/base/envs/pytorch-env/lib/python3.10/multiprocessing/connection.py:936\u001b[0m, in \u001b[0;36mwait\u001b[0;34m(object_list, timeout)\u001b[0m\n\u001b[1;32m    935\u001b[0m \u001b[38;5;28;01mwhile\u001b[39;00m \u001b[38;5;28;01mTrue\u001b[39;00m:\n\u001b[0;32m--> 936\u001b[0m     ready \u001b[38;5;241m=\u001b[39m \u001b[43mselector\u001b[49m\u001b[38;5;241;43m.\u001b[39;49m\u001b[43mselect\u001b[49m\u001b[43m(\u001b[49m\u001b[43mtimeout\u001b[49m\u001b[43m)\u001b[49m\n\u001b[1;32m    937\u001b[0m     \u001b[38;5;28;01mif\u001b[39;00m ready:\n",
      "File \u001b[0;32m/opt/homebrew/Caskroom/miniconda/base/envs/pytorch-env/lib/python3.10/selectors.py:416\u001b[0m, in \u001b[0;36m_PollLikeSelector.select\u001b[0;34m(self, timeout)\u001b[0m\n\u001b[1;32m    415\u001b[0m \u001b[38;5;28;01mtry\u001b[39;00m:\n\u001b[0;32m--> 416\u001b[0m     fd_event_list \u001b[38;5;241m=\u001b[39m \u001b[38;5;28;43mself\u001b[39;49m\u001b[38;5;241;43m.\u001b[39;49m\u001b[43m_selector\u001b[49m\u001b[38;5;241;43m.\u001b[39;49m\u001b[43mpoll\u001b[49m\u001b[43m(\u001b[49m\u001b[43mtimeout\u001b[49m\u001b[43m)\u001b[49m\n\u001b[1;32m    417\u001b[0m \u001b[38;5;28;01mexcept\u001b[39;00m \u001b[38;5;167;01mInterruptedError\u001b[39;00m:\n",
      "File \u001b[0;32m/opt/homebrew/Caskroom/miniconda/base/envs/pytorch-env/lib/python3.10/site-packages/torch/utils/data/_utils/signal_handling.py:66\u001b[0m, in \u001b[0;36m_set_SIGCHLD_handler.<locals>.handler\u001b[0;34m(signum, frame)\u001b[0m\n\u001b[1;32m     63\u001b[0m \u001b[38;5;28;01mdef\u001b[39;00m \u001b[38;5;21mhandler\u001b[39m(signum, frame):\n\u001b[1;32m     64\u001b[0m     \u001b[38;5;66;03m# This following call uses `waitid` with WNOHANG from C side. Therefore,\u001b[39;00m\n\u001b[1;32m     65\u001b[0m     \u001b[38;5;66;03m# Python can still get and update the process status successfully.\u001b[39;00m\n\u001b[0;32m---> 66\u001b[0m     \u001b[43m_error_if_any_worker_fails\u001b[49m\u001b[43m(\u001b[49m\u001b[43m)\u001b[49m\n\u001b[1;32m     67\u001b[0m     \u001b[38;5;28;01mif\u001b[39;00m previous_handler \u001b[38;5;129;01mis\u001b[39;00m \u001b[38;5;129;01mnot\u001b[39;00m \u001b[38;5;28;01mNone\u001b[39;00m:\n",
      "\u001b[0;31mRuntimeError\u001b[0m: DataLoader worker (pid 70087) exited unexpectedly with exit code 1. Details are lost due to multiprocessing. Rerunning with num_workers=0 may give better error trace.",
      "\nThe above exception was the direct cause of the following exception:\n",
      "\u001b[0;31mRuntimeError\u001b[0m                              Traceback (most recent call last)",
      "Cell \u001b[0;32mIn[44], line 5\u001b[0m\n\u001b[1;32m      2\u001b[0m alexnet\u001b[38;5;241m.\u001b[39mapply(init_weights)\n\u001b[1;32m      4\u001b[0m \u001b[38;5;66;03m# Train the network\u001b[39;00m\n\u001b[0;32m----> 5\u001b[0m \u001b[43mtrain_net\u001b[49m\u001b[43m(\u001b[49m\u001b[43malexnet\u001b[49m\u001b[43m,\u001b[49m\u001b[43m \u001b[49m\u001b[43mno_aug\u001b[49m\u001b[43m,\u001b[49m\u001b[43m \u001b[49m\u001b[43mno_aug\u001b[49m\u001b[43m,\u001b[49m\u001b[43m \u001b[49m\u001b[43mlr\u001b[49m\u001b[38;5;241;43m=\u001b[39;49m\u001b[38;5;241;43m0.0001\u001b[39;49m\u001b[43m,\u001b[49m\u001b[43m \u001b[49m\u001b[43mnum_epochs\u001b[49m\u001b[38;5;241;43m=\u001b[39;49m\u001b[38;5;241;43m35\u001b[39;49m\u001b[43m)\u001b[49m\n",
      "Cell \u001b[0;32mIn[40], line 9\u001b[0m, in \u001b[0;36mtrain_net\u001b[0;34m(net, train_augs, test_augs, lr, num_epochs)\u001b[0m\n\u001b[1;32m      6\u001b[0m loss \u001b[38;5;241m=\u001b[39m nn\u001b[38;5;241m.\u001b[39mCrossEntropyLoss()\n\u001b[1;32m      8\u001b[0m trainer \u001b[38;5;241m=\u001b[39m torch\u001b[38;5;241m.\u001b[39moptim\u001b[38;5;241m.\u001b[39mAdam(net\u001b[38;5;241m.\u001b[39mparameters(), lr\u001b[38;5;241m=\u001b[39mlr)\n\u001b[0;32m----> 9\u001b[0m \u001b[43mtrain\u001b[49m\u001b[43m(\u001b[49m\u001b[43mnet\u001b[49m\u001b[43m,\u001b[49m\u001b[43m \u001b[49m\u001b[43mtrain_loader\u001b[49m\u001b[43m,\u001b[49m\u001b[43m \u001b[49m\u001b[43mtest_loader\u001b[49m\u001b[43m,\u001b[49m\u001b[43m \u001b[49m\u001b[43mloss\u001b[49m\u001b[43m,\u001b[49m\u001b[43m \u001b[49m\u001b[43mtrainer\u001b[49m\u001b[43m,\u001b[49m\u001b[43m \u001b[49m\u001b[43mnum_epochs\u001b[49m\u001b[43m,\u001b[49m\u001b[43m \u001b[49m\u001b[43mdevice\u001b[49m\u001b[43m)\u001b[49m\n",
      "Cell \u001b[0;32mIn[35], line 10\u001b[0m, in \u001b[0;36mtrain\u001b[0;34m(net, train_iter, test_iter, loss, trainer, num_epochs, device)\u001b[0m\n\u001b[1;32m      7\u001b[0m \u001b[38;5;28;01mfor\u001b[39;00m epoch \u001b[38;5;129;01min\u001b[39;00m \u001b[38;5;28mrange\u001b[39m(num_epochs):\n\u001b[1;32m      8\u001b[0m     \u001b[38;5;66;03m# Store training_loss, num_examples, num_features\u001b[39;00m\n\u001b[1;32m      9\u001b[0m     metric \u001b[38;5;241m=\u001b[39m d2l\u001b[38;5;241m.\u001b[39mAccumulator(\u001b[38;5;241m3\u001b[39m)\n\u001b[0;32m---> 10\u001b[0m     \u001b[38;5;28;01mfor\u001b[39;00m i, (features, labels) \u001b[38;5;129;01min\u001b[39;00m \u001b[38;5;28menumerate\u001b[39m(train_iter):\n\u001b[1;32m     11\u001b[0m         timer\u001b[38;5;241m.\u001b[39mstart()\n\u001b[1;32m     12\u001b[0m         l \u001b[38;5;241m=\u001b[39m train_batch(\n\u001b[1;32m     13\u001b[0m             net, features, labels, loss, trainer, device)\n",
      "File \u001b[0;32m/opt/homebrew/Caskroom/miniconda/base/envs/pytorch-env/lib/python3.10/site-packages/torch/utils/data/dataloader.py:633\u001b[0m, in \u001b[0;36m_BaseDataLoaderIter.__next__\u001b[0;34m(self)\u001b[0m\n\u001b[1;32m    630\u001b[0m \u001b[38;5;28;01mif\u001b[39;00m \u001b[38;5;28mself\u001b[39m\u001b[38;5;241m.\u001b[39m_sampler_iter \u001b[38;5;129;01mis\u001b[39;00m \u001b[38;5;28;01mNone\u001b[39;00m:\n\u001b[1;32m    631\u001b[0m     \u001b[38;5;66;03m# TODO(https://github.com/pytorch/pytorch/issues/76750)\u001b[39;00m\n\u001b[1;32m    632\u001b[0m     \u001b[38;5;28mself\u001b[39m\u001b[38;5;241m.\u001b[39m_reset()  \u001b[38;5;66;03m# type: ignore[call-arg]\u001b[39;00m\n\u001b[0;32m--> 633\u001b[0m data \u001b[38;5;241m=\u001b[39m \u001b[38;5;28;43mself\u001b[39;49m\u001b[38;5;241;43m.\u001b[39;49m\u001b[43m_next_data\u001b[49m\u001b[43m(\u001b[49m\u001b[43m)\u001b[49m\n\u001b[1;32m    634\u001b[0m \u001b[38;5;28mself\u001b[39m\u001b[38;5;241m.\u001b[39m_num_yielded \u001b[38;5;241m+\u001b[39m\u001b[38;5;241m=\u001b[39m \u001b[38;5;241m1\u001b[39m\n\u001b[1;32m    635\u001b[0m \u001b[38;5;28;01mif\u001b[39;00m \u001b[38;5;28mself\u001b[39m\u001b[38;5;241m.\u001b[39m_dataset_kind \u001b[38;5;241m==\u001b[39m _DatasetKind\u001b[38;5;241m.\u001b[39mIterable \u001b[38;5;129;01mand\u001b[39;00m \\\n\u001b[1;32m    636\u001b[0m         \u001b[38;5;28mself\u001b[39m\u001b[38;5;241m.\u001b[39m_IterableDataset_len_called \u001b[38;5;129;01mis\u001b[39;00m \u001b[38;5;129;01mnot\u001b[39;00m \u001b[38;5;28;01mNone\u001b[39;00m \u001b[38;5;129;01mand\u001b[39;00m \\\n\u001b[1;32m    637\u001b[0m         \u001b[38;5;28mself\u001b[39m\u001b[38;5;241m.\u001b[39m_num_yielded \u001b[38;5;241m>\u001b[39m \u001b[38;5;28mself\u001b[39m\u001b[38;5;241m.\u001b[39m_IterableDataset_len_called:\n",
      "File \u001b[0;32m/opt/homebrew/Caskroom/miniconda/base/envs/pytorch-env/lib/python3.10/site-packages/torch/utils/data/dataloader.py:1331\u001b[0m, in \u001b[0;36m_MultiProcessingDataLoaderIter._next_data\u001b[0;34m(self)\u001b[0m\n\u001b[1;32m   1328\u001b[0m     \u001b[38;5;28;01mreturn\u001b[39;00m \u001b[38;5;28mself\u001b[39m\u001b[38;5;241m.\u001b[39m_process_data(data)\n\u001b[1;32m   1330\u001b[0m \u001b[38;5;28;01massert\u001b[39;00m \u001b[38;5;129;01mnot\u001b[39;00m \u001b[38;5;28mself\u001b[39m\u001b[38;5;241m.\u001b[39m_shutdown \u001b[38;5;129;01mand\u001b[39;00m \u001b[38;5;28mself\u001b[39m\u001b[38;5;241m.\u001b[39m_tasks_outstanding \u001b[38;5;241m>\u001b[39m \u001b[38;5;241m0\u001b[39m\n\u001b[0;32m-> 1331\u001b[0m idx, data \u001b[38;5;241m=\u001b[39m \u001b[38;5;28;43mself\u001b[39;49m\u001b[38;5;241;43m.\u001b[39;49m\u001b[43m_get_data\u001b[49m\u001b[43m(\u001b[49m\u001b[43m)\u001b[49m\n\u001b[1;32m   1332\u001b[0m \u001b[38;5;28mself\u001b[39m\u001b[38;5;241m.\u001b[39m_tasks_outstanding \u001b[38;5;241m-\u001b[39m\u001b[38;5;241m=\u001b[39m \u001b[38;5;241m1\u001b[39m\n\u001b[1;32m   1333\u001b[0m \u001b[38;5;28;01mif\u001b[39;00m \u001b[38;5;28mself\u001b[39m\u001b[38;5;241m.\u001b[39m_dataset_kind \u001b[38;5;241m==\u001b[39m _DatasetKind\u001b[38;5;241m.\u001b[39mIterable:\n\u001b[1;32m   1334\u001b[0m     \u001b[38;5;66;03m# Check for _IterableDatasetStopIteration\u001b[39;00m\n",
      "File \u001b[0;32m/opt/homebrew/Caskroom/miniconda/base/envs/pytorch-env/lib/python3.10/site-packages/torch/utils/data/dataloader.py:1297\u001b[0m, in \u001b[0;36m_MultiProcessingDataLoaderIter._get_data\u001b[0;34m(self)\u001b[0m\n\u001b[1;32m   1293\u001b[0m     \u001b[38;5;66;03m# In this case, `self._data_queue` is a `queue.Queue`,. But we don't\u001b[39;00m\n\u001b[1;32m   1294\u001b[0m     \u001b[38;5;66;03m# need to call `.task_done()` because we don't use `.join()`.\u001b[39;00m\n\u001b[1;32m   1295\u001b[0m \u001b[38;5;28;01melse\u001b[39;00m:\n\u001b[1;32m   1296\u001b[0m     \u001b[38;5;28;01mwhile\u001b[39;00m \u001b[38;5;28;01mTrue\u001b[39;00m:\n\u001b[0;32m-> 1297\u001b[0m         success, data \u001b[38;5;241m=\u001b[39m \u001b[38;5;28;43mself\u001b[39;49m\u001b[38;5;241;43m.\u001b[39;49m\u001b[43m_try_get_data\u001b[49m\u001b[43m(\u001b[49m\u001b[43m)\u001b[49m\n\u001b[1;32m   1298\u001b[0m         \u001b[38;5;28;01mif\u001b[39;00m success:\n\u001b[1;32m   1299\u001b[0m             \u001b[38;5;28;01mreturn\u001b[39;00m data\n",
      "File \u001b[0;32m/opt/homebrew/Caskroom/miniconda/base/envs/pytorch-env/lib/python3.10/site-packages/torch/utils/data/dataloader.py:1148\u001b[0m, in \u001b[0;36m_MultiProcessingDataLoaderIter._try_get_data\u001b[0;34m(self, timeout)\u001b[0m\n\u001b[1;32m   1146\u001b[0m \u001b[38;5;28;01mif\u001b[39;00m \u001b[38;5;28mlen\u001b[39m(failed_workers) \u001b[38;5;241m>\u001b[39m \u001b[38;5;241m0\u001b[39m:\n\u001b[1;32m   1147\u001b[0m     pids_str \u001b[38;5;241m=\u001b[39m \u001b[38;5;124m'\u001b[39m\u001b[38;5;124m, \u001b[39m\u001b[38;5;124m'\u001b[39m\u001b[38;5;241m.\u001b[39mjoin(\u001b[38;5;28mstr\u001b[39m(w\u001b[38;5;241m.\u001b[39mpid) \u001b[38;5;28;01mfor\u001b[39;00m w \u001b[38;5;129;01min\u001b[39;00m failed_workers)\n\u001b[0;32m-> 1148\u001b[0m     \u001b[38;5;28;01mraise\u001b[39;00m \u001b[38;5;167;01mRuntimeError\u001b[39;00m(\u001b[38;5;124m'\u001b[39m\u001b[38;5;124mDataLoader worker (pid(s) \u001b[39m\u001b[38;5;132;01m{}\u001b[39;00m\u001b[38;5;124m) exited unexpectedly\u001b[39m\u001b[38;5;124m'\u001b[39m\u001b[38;5;241m.\u001b[39mformat(pids_str)) \u001b[38;5;28;01mfrom\u001b[39;00m \u001b[38;5;21;01me\u001b[39;00m\n\u001b[1;32m   1149\u001b[0m \u001b[38;5;28;01mif\u001b[39;00m \u001b[38;5;28misinstance\u001b[39m(e, queue\u001b[38;5;241m.\u001b[39mEmpty):\n\u001b[1;32m   1150\u001b[0m     \u001b[38;5;28;01mreturn\u001b[39;00m (\u001b[38;5;28;01mFalse\u001b[39;00m, \u001b[38;5;28;01mNone\u001b[39;00m)\n",
      "\u001b[0;31mRuntimeError\u001b[0m: DataLoader worker (pid(s) 70087, 70088) exited unexpectedly"
     ]
    },
    {
     "data": {
      "image/svg+xml": [
       "<?xml version=\"1.0\" encoding=\"utf-8\" standalone=\"no\"?>\n",
       "<!DOCTYPE svg PUBLIC \"-//W3C//DTD SVG 1.1//EN\"\n",
       "  \"http://www.w3.org/Graphics/SVG/1.1/DTD/svg11.dtd\">\n",
       "<svg xmlns:xlink=\"http://www.w3.org/1999/xlink\" width=\"240.554688pt\" height=\"173.477344pt\" viewBox=\"0 0 240.554688 173.477344\" xmlns=\"http://www.w3.org/2000/svg\" version=\"1.1\">\n",
       " <metadata>\n",
       "  <rdf:RDF xmlns:dc=\"http://purl.org/dc/elements/1.1/\" xmlns:cc=\"http://creativecommons.org/ns#\" xmlns:rdf=\"http://www.w3.org/1999/02/22-rdf-syntax-ns#\">\n",
       "   <cc:Work>\n",
       "    <dc:type rdf:resource=\"http://purl.org/dc/dcmitype/StillImage\"/>\n",
       "    <dc:date>2024-03-20T11:33:12.310539</dc:date>\n",
       "    <dc:format>image/svg+xml</dc:format>\n",
       "    <dc:creator>\n",
       "     <cc:Agent>\n",
       "      <dc:title>Matplotlib v3.7.2, https://matplotlib.org/</dc:title>\n",
       "     </cc:Agent>\n",
       "    </dc:creator>\n",
       "   </cc:Work>\n",
       "  </rdf:RDF>\n",
       " </metadata>\n",
       " <defs>\n",
       "  <style type=\"text/css\">*{stroke-linejoin: round; stroke-linecap: butt}</style>\n",
       " </defs>\n",
       " <g id=\"figure_1\">\n",
       "  <g id=\"patch_1\">\n",
       "   <path d=\"M 0 173.477344 \n",
       "L 240.554688 173.477344 \n",
       "L 240.554688 0 \n",
       "L 0 0 \n",
       "z\n",
       "\" style=\"fill: #ffffff\"/>\n",
       "  </g>\n",
       "  <g id=\"axes_1\">\n",
       "   <g id=\"patch_2\">\n",
       "    <path d=\"M 30.103125 149.599219 \n",
       "L 225.403125 149.599219 \n",
       "L 225.403125 10.999219 \n",
       "L 30.103125 10.999219 \n",
       "z\n",
       "\" style=\"fill: #ffffff\"/>\n",
       "   </g>\n",
       "   <g id=\"matplotlib.axis_1\">\n",
       "    <g id=\"xtick_1\">\n",
       "     <g id=\"line2d_1\">\n",
       "      <defs>\n",
       "       <path id=\"m8439b962da\" d=\"M 0 0 \n",
       "L 0 3.5 \n",
       "\" style=\"stroke: #000000; stroke-width: 0.8\"/>\n",
       "      </defs>\n",
       "      <g>\n",
       "       <use xlink:href=\"#m8439b962da\" x=\"30.103125\" y=\"149.599219\" style=\"stroke: #000000; stroke-width: 0.8\"/>\n",
       "      </g>\n",
       "     </g>\n",
       "     <g id=\"text_1\">\n",
       "      <!-- 0.0 -->\n",
       "      <g transform=\"translate(22.151563 164.197656) scale(0.1 -0.1)\">\n",
       "       <defs>\n",
       "        <path id=\"DejaVuSans-30\" d=\"M 2034 4250 \n",
       "Q 1547 4250 1301 3770 \n",
       "Q 1056 3291 1056 2328 \n",
       "Q 1056 1369 1301 889 \n",
       "Q 1547 409 2034 409 \n",
       "Q 2525 409 2770 889 \n",
       "Q 3016 1369 3016 2328 \n",
       "Q 3016 3291 2770 3770 \n",
       "Q 2525 4250 2034 4250 \n",
       "z\n",
       "M 2034 4750 \n",
       "Q 2819 4750 3233 4129 \n",
       "Q 3647 3509 3647 2328 \n",
       "Q 3647 1150 3233 529 \n",
       "Q 2819 -91 2034 -91 \n",
       "Q 1250 -91 836 529 \n",
       "Q 422 1150 422 2328 \n",
       "Q 422 3509 836 4129 \n",
       "Q 1250 4750 2034 4750 \n",
       "z\n",
       "\" transform=\"scale(0.015625)\"/>\n",
       "        <path id=\"DejaVuSans-2e\" d=\"M 684 794 \n",
       "L 1344 794 \n",
       "L 1344 0 \n",
       "L 684 0 \n",
       "L 684 794 \n",
       "z\n",
       "\" transform=\"scale(0.015625)\"/>\n",
       "       </defs>\n",
       "       <use xlink:href=\"#DejaVuSans-30\"/>\n",
       "       <use xlink:href=\"#DejaVuSans-2e\" x=\"63.623047\"/>\n",
       "       <use xlink:href=\"#DejaVuSans-30\" x=\"95.410156\"/>\n",
       "      </g>\n",
       "     </g>\n",
       "    </g>\n",
       "    <g id=\"xtick_2\">\n",
       "     <g id=\"line2d_2\">\n",
       "      <g>\n",
       "       <use xlink:href=\"#m8439b962da\" x=\"69.163125\" y=\"149.599219\" style=\"stroke: #000000; stroke-width: 0.8\"/>\n",
       "      </g>\n",
       "     </g>\n",
       "     <g id=\"text_2\">\n",
       "      <!-- 0.2 -->\n",
       "      <g transform=\"translate(61.211563 164.197656) scale(0.1 -0.1)\">\n",
       "       <defs>\n",
       "        <path id=\"DejaVuSans-32\" d=\"M 1228 531 \n",
       "L 3431 531 \n",
       "L 3431 0 \n",
       "L 469 0 \n",
       "L 469 531 \n",
       "Q 828 903 1448 1529 \n",
       "Q 2069 2156 2228 2338 \n",
       "Q 2531 2678 2651 2914 \n",
       "Q 2772 3150 2772 3378 \n",
       "Q 2772 3750 2511 3984 \n",
       "Q 2250 4219 1831 4219 \n",
       "Q 1534 4219 1204 4116 \n",
       "Q 875 4013 500 3803 \n",
       "L 500 4441 \n",
       "Q 881 4594 1212 4672 \n",
       "Q 1544 4750 1819 4750 \n",
       "Q 2544 4750 2975 4387 \n",
       "Q 3406 4025 3406 3419 \n",
       "Q 3406 3131 3298 2873 \n",
       "Q 3191 2616 2906 2266 \n",
       "Q 2828 2175 2409 1742 \n",
       "Q 1991 1309 1228 531 \n",
       "z\n",
       "\" transform=\"scale(0.015625)\"/>\n",
       "       </defs>\n",
       "       <use xlink:href=\"#DejaVuSans-30\"/>\n",
       "       <use xlink:href=\"#DejaVuSans-2e\" x=\"63.623047\"/>\n",
       "       <use xlink:href=\"#DejaVuSans-32\" x=\"95.410156\"/>\n",
       "      </g>\n",
       "     </g>\n",
       "    </g>\n",
       "    <g id=\"xtick_3\">\n",
       "     <g id=\"line2d_3\">\n",
       "      <g>\n",
       "       <use xlink:href=\"#m8439b962da\" x=\"108.223125\" y=\"149.599219\" style=\"stroke: #000000; stroke-width: 0.8\"/>\n",
       "      </g>\n",
       "     </g>\n",
       "     <g id=\"text_3\">\n",
       "      <!-- 0.4 -->\n",
       "      <g transform=\"translate(100.271563 164.197656) scale(0.1 -0.1)\">\n",
       "       <defs>\n",
       "        <path id=\"DejaVuSans-34\" d=\"M 2419 4116 \n",
       "L 825 1625 \n",
       "L 2419 1625 \n",
       "L 2419 4116 \n",
       "z\n",
       "M 2253 4666 \n",
       "L 3047 4666 \n",
       "L 3047 1625 \n",
       "L 3713 1625 \n",
       "L 3713 1100 \n",
       "L 3047 1100 \n",
       "L 3047 0 \n",
       "L 2419 0 \n",
       "L 2419 1100 \n",
       "L 313 1100 \n",
       "L 313 1709 \n",
       "L 2253 4666 \n",
       "z\n",
       "\" transform=\"scale(0.015625)\"/>\n",
       "       </defs>\n",
       "       <use xlink:href=\"#DejaVuSans-30\"/>\n",
       "       <use xlink:href=\"#DejaVuSans-2e\" x=\"63.623047\"/>\n",
       "       <use xlink:href=\"#DejaVuSans-34\" x=\"95.410156\"/>\n",
       "      </g>\n",
       "     </g>\n",
       "    </g>\n",
       "    <g id=\"xtick_4\">\n",
       "     <g id=\"line2d_4\">\n",
       "      <g>\n",
       "       <use xlink:href=\"#m8439b962da\" x=\"147.283125\" y=\"149.599219\" style=\"stroke: #000000; stroke-width: 0.8\"/>\n",
       "      </g>\n",
       "     </g>\n",
       "     <g id=\"text_4\">\n",
       "      <!-- 0.6 -->\n",
       "      <g transform=\"translate(139.331563 164.197656) scale(0.1 -0.1)\">\n",
       "       <defs>\n",
       "        <path id=\"DejaVuSans-36\" d=\"M 2113 2584 \n",
       "Q 1688 2584 1439 2293 \n",
       "Q 1191 2003 1191 1497 \n",
       "Q 1191 994 1439 701 \n",
       "Q 1688 409 2113 409 \n",
       "Q 2538 409 2786 701 \n",
       "Q 3034 994 3034 1497 \n",
       "Q 3034 2003 2786 2293 \n",
       "Q 2538 2584 2113 2584 \n",
       "z\n",
       "M 3366 4563 \n",
       "L 3366 3988 \n",
       "Q 3128 4100 2886 4159 \n",
       "Q 2644 4219 2406 4219 \n",
       "Q 1781 4219 1451 3797 \n",
       "Q 1122 3375 1075 2522 \n",
       "Q 1259 2794 1537 2939 \n",
       "Q 1816 3084 2150 3084 \n",
       "Q 2853 3084 3261 2657 \n",
       "Q 3669 2231 3669 1497 \n",
       "Q 3669 778 3244 343 \n",
       "Q 2819 -91 2113 -91 \n",
       "Q 1303 -91 875 529 \n",
       "Q 447 1150 447 2328 \n",
       "Q 447 3434 972 4092 \n",
       "Q 1497 4750 2381 4750 \n",
       "Q 2619 4750 2861 4703 \n",
       "Q 3103 4656 3366 4563 \n",
       "z\n",
       "\" transform=\"scale(0.015625)\"/>\n",
       "       </defs>\n",
       "       <use xlink:href=\"#DejaVuSans-30\"/>\n",
       "       <use xlink:href=\"#DejaVuSans-2e\" x=\"63.623047\"/>\n",
       "       <use xlink:href=\"#DejaVuSans-36\" x=\"95.410156\"/>\n",
       "      </g>\n",
       "     </g>\n",
       "    </g>\n",
       "    <g id=\"xtick_5\">\n",
       "     <g id=\"line2d_5\">\n",
       "      <g>\n",
       "       <use xlink:href=\"#m8439b962da\" x=\"186.343125\" y=\"149.599219\" style=\"stroke: #000000; stroke-width: 0.8\"/>\n",
       "      </g>\n",
       "     </g>\n",
       "     <g id=\"text_5\">\n",
       "      <!-- 0.8 -->\n",
       "      <g transform=\"translate(178.391563 164.197656) scale(0.1 -0.1)\">\n",
       "       <defs>\n",
       "        <path id=\"DejaVuSans-38\" d=\"M 2034 2216 \n",
       "Q 1584 2216 1326 1975 \n",
       "Q 1069 1734 1069 1313 \n",
       "Q 1069 891 1326 650 \n",
       "Q 1584 409 2034 409 \n",
       "Q 2484 409 2743 651 \n",
       "Q 3003 894 3003 1313 \n",
       "Q 3003 1734 2745 1975 \n",
       "Q 2488 2216 2034 2216 \n",
       "z\n",
       "M 1403 2484 \n",
       "Q 997 2584 770 2862 \n",
       "Q 544 3141 544 3541 \n",
       "Q 544 4100 942 4425 \n",
       "Q 1341 4750 2034 4750 \n",
       "Q 2731 4750 3128 4425 \n",
       "Q 3525 4100 3525 3541 \n",
       "Q 3525 3141 3298 2862 \n",
       "Q 3072 2584 2669 2484 \n",
       "Q 3125 2378 3379 2068 \n",
       "Q 3634 1759 3634 1313 \n",
       "Q 3634 634 3220 271 \n",
       "Q 2806 -91 2034 -91 \n",
       "Q 1263 -91 848 271 \n",
       "Q 434 634 434 1313 \n",
       "Q 434 1759 690 2068 \n",
       "Q 947 2378 1403 2484 \n",
       "z\n",
       "M 1172 3481 \n",
       "Q 1172 3119 1398 2916 \n",
       "Q 1625 2713 2034 2713 \n",
       "Q 2441 2713 2670 2916 \n",
       "Q 2900 3119 2900 3481 \n",
       "Q 2900 3844 2670 4047 \n",
       "Q 2441 4250 2034 4250 \n",
       "Q 1625 4250 1398 4047 \n",
       "Q 1172 3844 1172 3481 \n",
       "z\n",
       "\" transform=\"scale(0.015625)\"/>\n",
       "       </defs>\n",
       "       <use xlink:href=\"#DejaVuSans-30\"/>\n",
       "       <use xlink:href=\"#DejaVuSans-2e\" x=\"63.623047\"/>\n",
       "       <use xlink:href=\"#DejaVuSans-38\" x=\"95.410156\"/>\n",
       "      </g>\n",
       "     </g>\n",
       "    </g>\n",
       "    <g id=\"xtick_6\">\n",
       "     <g id=\"line2d_6\">\n",
       "      <g>\n",
       "       <use xlink:href=\"#m8439b962da\" x=\"225.403125\" y=\"149.599219\" style=\"stroke: #000000; stroke-width: 0.8\"/>\n",
       "      </g>\n",
       "     </g>\n",
       "     <g id=\"text_6\">\n",
       "      <!-- 1.0 -->\n",
       "      <g transform=\"translate(217.451563 164.197656) scale(0.1 -0.1)\">\n",
       "       <defs>\n",
       "        <path id=\"DejaVuSans-31\" d=\"M 794 531 \n",
       "L 1825 531 \n",
       "L 1825 4091 \n",
       "L 703 3866 \n",
       "L 703 4441 \n",
       "L 1819 4666 \n",
       "L 2450 4666 \n",
       "L 2450 531 \n",
       "L 3481 531 \n",
       "L 3481 0 \n",
       "L 794 0 \n",
       "L 794 531 \n",
       "z\n",
       "\" transform=\"scale(0.015625)\"/>\n",
       "       </defs>\n",
       "       <use xlink:href=\"#DejaVuSans-31\"/>\n",
       "       <use xlink:href=\"#DejaVuSans-2e\" x=\"63.623047\"/>\n",
       "       <use xlink:href=\"#DejaVuSans-30\" x=\"95.410156\"/>\n",
       "      </g>\n",
       "     </g>\n",
       "    </g>\n",
       "   </g>\n",
       "   <g id=\"matplotlib.axis_2\">\n",
       "    <g id=\"ytick_1\">\n",
       "     <g id=\"line2d_7\">\n",
       "      <defs>\n",
       "       <path id=\"md0315c0f2c\" d=\"M 0 0 \n",
       "L -3.5 0 \n",
       "\" style=\"stroke: #000000; stroke-width: 0.8\"/>\n",
       "      </defs>\n",
       "      <g>\n",
       "       <use xlink:href=\"#md0315c0f2c\" x=\"30.103125\" y=\"149.599219\" style=\"stroke: #000000; stroke-width: 0.8\"/>\n",
       "      </g>\n",
       "     </g>\n",
       "     <g id=\"text_7\">\n",
       "      <!-- 0.0 -->\n",
       "      <g transform=\"translate(7.2 153.398438) scale(0.1 -0.1)\">\n",
       "       <use xlink:href=\"#DejaVuSans-30\"/>\n",
       "       <use xlink:href=\"#DejaVuSans-2e\" x=\"63.623047\"/>\n",
       "       <use xlink:href=\"#DejaVuSans-30\" x=\"95.410156\"/>\n",
       "      </g>\n",
       "     </g>\n",
       "    </g>\n",
       "    <g id=\"ytick_2\">\n",
       "     <g id=\"line2d_8\">\n",
       "      <g>\n",
       "       <use xlink:href=\"#md0315c0f2c\" x=\"30.103125\" y=\"121.879219\" style=\"stroke: #000000; stroke-width: 0.8\"/>\n",
       "      </g>\n",
       "     </g>\n",
       "     <g id=\"text_8\">\n",
       "      <!-- 0.2 -->\n",
       "      <g transform=\"translate(7.2 125.678438) scale(0.1 -0.1)\">\n",
       "       <use xlink:href=\"#DejaVuSans-30\"/>\n",
       "       <use xlink:href=\"#DejaVuSans-2e\" x=\"63.623047\"/>\n",
       "       <use xlink:href=\"#DejaVuSans-32\" x=\"95.410156\"/>\n",
       "      </g>\n",
       "     </g>\n",
       "    </g>\n",
       "    <g id=\"ytick_3\">\n",
       "     <g id=\"line2d_9\">\n",
       "      <g>\n",
       "       <use xlink:href=\"#md0315c0f2c\" x=\"30.103125\" y=\"94.159219\" style=\"stroke: #000000; stroke-width: 0.8\"/>\n",
       "      </g>\n",
       "     </g>\n",
       "     <g id=\"text_9\">\n",
       "      <!-- 0.4 -->\n",
       "      <g transform=\"translate(7.2 97.958438) scale(0.1 -0.1)\">\n",
       "       <use xlink:href=\"#DejaVuSans-30\"/>\n",
       "       <use xlink:href=\"#DejaVuSans-2e\" x=\"63.623047\"/>\n",
       "       <use xlink:href=\"#DejaVuSans-34\" x=\"95.410156\"/>\n",
       "      </g>\n",
       "     </g>\n",
       "    </g>\n",
       "    <g id=\"ytick_4\">\n",
       "     <g id=\"line2d_10\">\n",
       "      <g>\n",
       "       <use xlink:href=\"#md0315c0f2c\" x=\"30.103125\" y=\"66.439219\" style=\"stroke: #000000; stroke-width: 0.8\"/>\n",
       "      </g>\n",
       "     </g>\n",
       "     <g id=\"text_10\">\n",
       "      <!-- 0.6 -->\n",
       "      <g transform=\"translate(7.2 70.238438) scale(0.1 -0.1)\">\n",
       "       <use xlink:href=\"#DejaVuSans-30\"/>\n",
       "       <use xlink:href=\"#DejaVuSans-2e\" x=\"63.623047\"/>\n",
       "       <use xlink:href=\"#DejaVuSans-36\" x=\"95.410156\"/>\n",
       "      </g>\n",
       "     </g>\n",
       "    </g>\n",
       "    <g id=\"ytick_5\">\n",
       "     <g id=\"line2d_11\">\n",
       "      <g>\n",
       "       <use xlink:href=\"#md0315c0f2c\" x=\"30.103125\" y=\"38.719219\" style=\"stroke: #000000; stroke-width: 0.8\"/>\n",
       "      </g>\n",
       "     </g>\n",
       "     <g id=\"text_11\">\n",
       "      <!-- 0.8 -->\n",
       "      <g transform=\"translate(7.2 42.518438) scale(0.1 -0.1)\">\n",
       "       <use xlink:href=\"#DejaVuSans-30\"/>\n",
       "       <use xlink:href=\"#DejaVuSans-2e\" x=\"63.623047\"/>\n",
       "       <use xlink:href=\"#DejaVuSans-38\" x=\"95.410156\"/>\n",
       "      </g>\n",
       "     </g>\n",
       "    </g>\n",
       "    <g id=\"ytick_6\">\n",
       "     <g id=\"line2d_12\">\n",
       "      <g>\n",
       "       <use xlink:href=\"#md0315c0f2c\" x=\"30.103125\" y=\"10.999219\" style=\"stroke: #000000; stroke-width: 0.8\"/>\n",
       "      </g>\n",
       "     </g>\n",
       "     <g id=\"text_12\">\n",
       "      <!-- 1.0 -->\n",
       "      <g transform=\"translate(7.2 14.798438) scale(0.1 -0.1)\">\n",
       "       <use xlink:href=\"#DejaVuSans-31\"/>\n",
       "       <use xlink:href=\"#DejaVuSans-2e\" x=\"63.623047\"/>\n",
       "       <use xlink:href=\"#DejaVuSans-30\" x=\"95.410156\"/>\n",
       "      </g>\n",
       "     </g>\n",
       "    </g>\n",
       "   </g>\n",
       "   <g id=\"patch_3\">\n",
       "    <path d=\"M 30.103125 149.599219 \n",
       "L 30.103125 10.999219 \n",
       "\" style=\"fill: none; stroke: #000000; stroke-width: 0.8; stroke-linejoin: miter; stroke-linecap: square\"/>\n",
       "   </g>\n",
       "   <g id=\"patch_4\">\n",
       "    <path d=\"M 225.403125 149.599219 \n",
       "L 225.403125 10.999219 \n",
       "\" style=\"fill: none; stroke: #000000; stroke-width: 0.8; stroke-linejoin: miter; stroke-linecap: square\"/>\n",
       "   </g>\n",
       "   <g id=\"patch_5\">\n",
       "    <path d=\"M 30.103125 149.599219 \n",
       "L 225.403125 149.599219 \n",
       "\" style=\"fill: none; stroke: #000000; stroke-width: 0.8; stroke-linejoin: miter; stroke-linecap: square\"/>\n",
       "   </g>\n",
       "   <g id=\"patch_6\">\n",
       "    <path d=\"M 30.103125 10.999219 \n",
       "L 225.403125 10.999219 \n",
       "\" style=\"fill: none; stroke: #000000; stroke-width: 0.8; stroke-linejoin: miter; stroke-linecap: square\"/>\n",
       "   </g>\n",
       "  </g>\n",
       " </g>\n",
       "</svg>\n"
      ],
      "text/plain": [
       "<Figure size 350x250 with 1 Axes>"
      ]
     },
     "metadata": {},
     "output_type": "display_data"
    }
   ],
   "source": [
    "# Make sure the network weights are reset to small random values\n",
    "alexnet.apply(init_weights)\n",
    "\n",
    "# Train the network\n",
    "train_net(alexnet, no_aug, no_aug, lr=0.0001, num_epochs=35)"
   ]
  },
  {
   "cell_type": "markdown",
   "metadata": {
    "id": "besc5FFEcziN"
   },
   "source": [
    "## 2.3: Evaluation\n",
    "Let's have a look at the predictions made by the network on the test data\n",
    "\n",
    "**Exercise:**\n",
    "* Run the two code blocks below to get the predictions on 10 training images\n",
    "* What do you think of the quality of the bbox predictions?\n",
    "* No change the second code block to evaluated on the test data instead.\n",
    "* What do you think of the quality of the predictions on the test set? \n",
    "* How can you explain the observations?"
   ]
  },
  {
   "cell_type": "code",
   "execution_count": null,
   "metadata": {
    "id": "2bwBj3TNcziN"
   },
   "outputs": [],
   "source": [
    "def predict(net, X):\n",
    "    net.eval()\n",
    "    output = net(X.to(device))\n",
    "    return output"
   ]
  },
  {
   "cell_type": "code",
   "execution_count": null,
   "metadata": {
    "colab": {
     "base_uri": "https://localhost:8080/",
     "height": 471
    },
    "executionInfo": {
     "elapsed": 1435,
     "status": "ok",
     "timestamp": 1679998742250,
     "user": {
      "displayName": "Gert Kootstra",
      "userId": "13607590106681261247"
     },
     "user_tz": -120
    },
    "id": "2lP5pO5wcziP",
    "outputId": "8670dcbf-8971-45d4-f943-57aa1fb41546"
   },
   "outputs": [],
   "source": [
    "## TODO: change this to load the test data for evaluation\n",
    "eval_loader = load_train_data(no_aug, batch_size=1)\n",
    "\n",
    "imgs= []\n",
    "outputs = []\n",
    "\n",
    "for index, (img, labels) in enumerate(eval_loader):\n",
    "  pred_box = predict(alexnet, img)[0]\n",
    "  # detach the tensor from the computational graph:\n",
    "  box = pred_box.detach().cpu()\n",
    "  outputs.append(box)\n",
    "  imgs.append(to_pil_image(img[0]))\n",
    "  if index == 10:\n",
    "    break\n",
    "\n",
    "plot_samples(imgs, outputs, 2, 5) "
   ]
  },
  {
   "cell_type": "markdown",
   "metadata": {
    "id": "SMaRfPX9qLXT"
   },
   "source": [
    "# 3: Data augmentation \n",
    "\n",
    "It is clear that the training data and the test data are quite different. The chicken in the test data are much smaller than in the training data. In other words, **the training data is not representative for the test data**. As we have seen in the previous notebook, we can solve this using **data augmentation**.\n",
    "\n",
    "**Exercise:**\n",
    "* What kind of image augmentations would you propose to apply to the images in the training set?\n"
   ]
  },
  {
   "cell_type": "markdown",
   "metadata": {
    "id": "j3TgV8U9zEHt"
   },
   "source": [
    "##3.1: Image augmentation\n",
    "\n",
    "Previously, we learned how to apply one or multiple augmentation methods to images only. In this tutorial, we will extend our knowledge and explore how to use image augmentations for both images and their corresponding bounding box annotations, to train a neural network.\n",
    "\n",
    "\n",
    "**Exercise:**\n",
    "* Standard torchvision transformations are limited to image transformation. Now, we will create our own class for custom augmentations.\n",
    "* Study the code in the following block\n",
    "* Look in lines 55-64. Which image transformations are applied to the image data? Do you think this will help to close the gap between training and test data?\n",
    "* In line 35-53, a few random components are determined that are parameters of the image transformations. Which are these?\n",
    "\n"
   ]
  },
  {
   "cell_type": "code",
   "execution_count": null,
   "metadata": {
    "id": "8OSqzPPUwGpN"
   },
   "outputs": [],
   "source": [
    "import random \n",
    "class CustomTransform:\n",
    "    \"\"\"\n",
    "    Applies custom transformations to an image and its bounding box.\n",
    "    \"\"\"\n",
    "    def __init__(self, p=0.5):\n",
    "        \"\"\"\n",
    "        Initializes the transform.\n",
    "        Args:\n",
    "            p: float, probability of applying the transform (default: 0.5)\n",
    "        \"\"\"\n",
    "        self.p = p\n",
    "    \n",
    "    def __call__(self, img, box):\n",
    "        \"\"\"\n",
    "        Applies the transform to an image and its corresponding bounding box.\n",
    "        Args:\n",
    "            image: PIL.Image object, containing the original image.\n",
    "            box: bounding box coordinates in the format [x, y, width, height].\n",
    "        Returns:\n",
    "            image_transformed: Tensor, containing the transformed image.\n",
    "            box_transformed: the bounding box coordinates for the transformed box.\n",
    "        \"\"\"\n",
    "        # transform image to tensor, if no augmentation is applied\n",
    "        img_transformed = transforms.ToTensor()(img)\n",
    "        box_transformed = box\n",
    "\n",
    "        if random.random() < self.p:\n",
    "            ###################\n",
    "            # Get a few random components for transformations\n",
    "            ###################\n",
    "\n",
    "            # Apply a random scaling to the image, with a factor between 10-70% of the original\n",
    "            scale = random.uniform(0.1, 0.7)\n",
    "            new_height = new_width = int(img.size[0]*scale)\n",
    "            # make sure size is an even number (simplifies padding):\n",
    "            new_height = new_height if new_height % 2 == 0 else new_height+1\n",
    "            new_width = new_width if new_width % 2 == 0 else new_width+1\n",
    "            scale_adjusted = new_height/img.size[0]\n",
    "\n",
    "            # Pad the resized image to maintain original image size \n",
    "            # Apply random amount of padding to the top/bottom, to randomly position the resized image in the new image\n",
    "            padding = int((img.size[0]-new_height))\n",
    "            padding_top = np.random.randint(padding)  \n",
    "            padding_bottom = padding - padding_top\n",
    "            padding_left = np.random.randint(padding)\n",
    "            padding_right = padding - padding_left\n",
    "            pad = [padding_left, padding_top, padding_right, padding_bottom]\n",
    "\n",
    "            # In 50% of the cases (random) apply a horizontal flip\n",
    "            do_flip = 1 if np.random.rand() > 0.5 else 0\n",
    "\n",
    "            ###################\n",
    "            # Apply the transformations:\n",
    "            ###################\n",
    "            image_transform = transforms.Compose([\n",
    "              torchvision.transforms.ColorJitter(brightness=0.5, contrast=0.5, saturation=0.5, hue=0.1),\n",
    "              torchvision.transforms.Resize((new_height, new_width)),\n",
    "              torchvision.transforms.Pad(pad),\n",
    "              transforms.RandomHorizontalFlip(p=do_flip),\n",
    "              transforms.ToTensor()\n",
    "            ])\n",
    "\n",
    "            img_transformed = image_transform(img)\n",
    "            box_transformed = box\n",
    "\n",
    "        return img_transformed, box_transformed"
   ]
  },
  {
   "cell_type": "markdown",
   "metadata": {
    "id": "fMDIPvviw6Ma"
   },
   "source": [
    "Let's apply the custom augmentation to a random image of the training set. \n",
    "\n",
    "**Exercise:**\n",
    "* Run the code below a few times to see results\n",
    "* What do you think of the augmentations? Did we forget something?"
   ]
  },
  {
   "cell_type": "code",
   "execution_count": null,
   "metadata": {
    "colab": {
     "base_uri": "https://localhost:8080/",
     "height": 730
    },
    "executionInfo": {
     "elapsed": 420,
     "status": "ok",
     "timestamp": 1679999853966,
     "user": {
      "displayName": "Gert Kootstra",
      "userId": "13607590106681261247"
     },
     "user_tz": -120
    },
    "id": "L88GecWHw6Mb",
    "outputId": "489b1942-ff40-4caa-8770-04a5074ff0da"
   },
   "outputs": [],
   "source": [
    "img_id = np.random.randint(len(train_dataset))\n",
    "\n",
    "# Load and show the original image\n",
    "image, box = train_dataset[img_id]\n",
    "visualize_single_sample(image, box, \"Original\")\n",
    "\n",
    "# Apply the image augmentation. Set probability of augmentation to 1, to make sure we see it\n",
    "custom_transform = CustomTransform(p=1)\n",
    "transformed_dataset = ChickenDataset(is_train=True,transforms=custom_transform)\n",
    "\n",
    "# Visualize the results\n",
    "image_transformed, box_transformed = transformed_dataset[img_id]\n",
    "visualize_single_sample(to_pil_image(image_transformed), box_transformed, \"Augmented\")"
   ]
  },
  {
   "cell_type": "markdown",
   "metadata": {
    "id": "fjrDnhMry4DV"
   },
   "source": [
    "## 3.2: Image and label augmentation\n",
    "\n",
    "For image classificaiton, the augmentation applied to the image had no effect on the class. Hence, we did not need to change the label of the augmented training data. However, for **object localization, some image augmentations have an effect on the bounding-box coordinates**. \n",
    "\n",
    "**Exercise:**\n",
    "* Look back in the augmentation that we applied in the `CustomTransform` class. Which of these transformation have an effect on the bbox coordinates and which do not?"
   ]
  },
  {
   "cell_type": "markdown",
   "metadata": {
    "id": "dP3QtdlZz_Al"
   },
   "source": [
    "**ANSWER:**\n",
    "* The color jitter does not have an effect on the bounding box\n",
    "* The random scaling, padding and flipping does change the coordinates of the bounding box."
   ]
  },
  {
   "cell_type": "markdown",
   "metadata": {
    "id": "7zF9iqImw2UY"
   },
   "source": [
    "We will define a new `CustomTransform` class to deal correctly with the bounding-box coordiantes. In the folowing code block, a skeleton of that class is provided. We now added the function `bbox_transform`.  \n",
    "\n",
    "**Excercise:**\n",
    "* Note that the following elements are important to consider\n",
    "  * The bounding box coordinates in `transformed_box` and `box`:\n",
    "    * `box[0]` is the x-position\n",
    "    * `box[1]` is the y-position\n",
    "    * `box[2]` is the width\n",
    "    * `box[3]` is the height\n",
    "  * The width of the image is in the variable `image_width`\n",
    "  * The scaling factor applied in in the variable `scale`\n",
    "  * The random padding is in the list `pad` important to consider are\n",
    "    * `pad[0]`, the padding applied to the left side \n",
    "    * `pad[1]`, the padding applied to the top side\n",
    "  * The variable `do_flip` is 1 if the horizontal flip was applied and other wise 0\n",
    "* Complete the code of the ```bbox_transform``` function to transform the bounding boxes according to the given image transformation \n",
    "\n"
   ]
  },
  {
   "cell_type": "code",
   "execution_count": null,
   "metadata": {
    "id": "B_75YGVAF6W8"
   },
   "outputs": [],
   "source": [
    "import random \n",
    "class CustomTransform:\n",
    "    \"\"\"\n",
    "    Applies custom transformations to an image and its bounding box.\n",
    "    \"\"\"\n",
    "    def __init__(self, p=0.5):\n",
    "        \"\"\"\n",
    "        Initializes the transform.\n",
    "        Args:\n",
    "            p: float, probability of applying the transform (default: 0.5)\n",
    "        \"\"\"\n",
    "        self.p = p\n",
    "\n",
    "    def bbox_transform(self, box, image_size, scale, pad, do_flip):\n",
    "      \"\"\"\n",
    "        Transforms the bounding box coordinates.\n",
    "        Args:\n",
    "            box: bounding box coordinates in the format [x, y, width, height].\n",
    "            image_size: size of the original image in the format (width, height).\n",
    "            scale: scaling factor applied to the image.\n",
    "            padding: amount of padding applied to the resized image.\n",
    "        Returns:\n",
    "            transformed_box: transformed bounding box coordinates.\n",
    "        \"\"\"\n",
    "      # TODO: your custom bounding box transform code goes here:\n",
    "      transformed_box = box \n",
    "      image_width, _ = image.size\n",
    "\n",
    "      # Resize the boxes:\n",
    "      transformed_box[0] = ..\n",
    "      transformed_box[1] = ..\n",
    "      transformed_box[2] = ..\n",
    "      transformed_box[3] = ..\n",
    "\n",
    "      #Flip the boxes:\n",
    "      if(do_flip):\n",
    "        transformed_box[0]  = ..\n",
    "\n",
    "      return transformed_box\n",
    "\n",
    "    def __call__(self, img, box):\n",
    "        \"\"\"\n",
    "        Applies the transform to an image and its corresponding bounding box.\n",
    "        Args:\n",
    "            image: PIL.Image object, containing the original image.\n",
    "            box: bounding box coordinates in the format [x, y, width, height].\n",
    "        Returns:\n",
    "            image_transformed: Tensor, containing the transformed image.\n",
    "            box_transformed: the bounding box coordinates for the transformed box.\n",
    "        \"\"\"\n",
    "        # transform image to tensor, if no augmentation is applied\n",
    "        img_transformed = transforms.ToTensor()(img)\n",
    "        box_transformed = box\n",
    "\n",
    "        if random.random() < self.p:\n",
    "            ###################\n",
    "            # Get a few random components for transformations\n",
    "            ###################\n",
    "\n",
    "            # Apply a random scaling to the image, with a factor between 10-70% of the original\n",
    "            scale = random.uniform(0.1, 0.7)\n",
    "            new_height = new_width = int(img.size[0]*scale)\n",
    "            # make sure size is an even number (simplifies padding):\n",
    "            new_height = new_height if new_height % 2 == 0 else new_height+1\n",
    "            new_width = new_width if new_width % 2 == 0 else new_width+1\n",
    "            scale_adjusted = new_height/img.size[0]\n",
    "\n",
    "            # Pad the resized image to maintain original image size \n",
    "            # Apply random amount of padding to the top/bottom, to randomly position the resized image in the new image\n",
    "            padding = int((img.size[0]-new_height))\n",
    "            padding_top = np.random.randint(padding)  \n",
    "            padding_bottom = padding - padding_top\n",
    "            padding_left = np.random.randint(padding)\n",
    "            padding_right = padding - padding_left\n",
    "            pad = [padding_left, padding_top, padding_right, padding_bottom]\n",
    "\n",
    "            # In 50% of the cases (random) apply a horizontal flip\n",
    "            do_flip = 1 if np.random.rand() > 0.5 else 0\n",
    "\n",
    "            ###################\n",
    "            # Apply the transformations:\n",
    "            ###################\n",
    "            image_transform = transforms.Compose([\n",
    "              torchvision.transforms.ColorJitter(brightness=0.5, contrast=0.5, saturation=0.5, hue=0.1),\n",
    "              torchvision.transforms.Resize((new_height, new_width)),\n",
    "              torchvision.transforms.Pad(pad),\n",
    "              transforms.RandomHorizontalFlip(p=do_flip),\n",
    "              transforms.ToTensor()\n",
    "            ])\n",
    "\n",
    "            img_transformed = image_transform(img)\n",
    "            box_transformed = self.bbox_transform(box, img.size, scale_adjusted, pad, do_flip)  # transform bounding box\n",
    "\n",
    "        return img_transformed, box_transformed\n",
    "\n",
    "\n"
   ]
  },
  {
   "cell_type": "markdown",
   "metadata": {
    "id": "8IuwIu97fLFB"
   },
   "source": [
    "Now let's see if it is correct\n",
    "\n",
    "**Exercise:**\n",
    "* Run the code below a few times to make sure that your applied bbox transformation is correct."
   ]
  },
  {
   "cell_type": "code",
   "execution_count": null,
   "metadata": {
    "colab": {
     "base_uri": "https://localhost:8080/",
     "height": 730
    },
    "executionInfo": {
     "elapsed": 1282,
     "status": "ok",
     "timestamp": 1680000916143,
     "user": {
      "displayName": "Gert Kootstra",
      "userId": "13607590106681261247"
     },
     "user_tz": -120
    },
    "id": "wO9NH4RrGKFD",
    "outputId": "3d635825-b4a8-493e-beea-196e47d9ab12"
   },
   "outputs": [],
   "source": [
    "img_id = np.random.randint(len(train_dataset))\n",
    "\n",
    "# Load and show the original image\n",
    "image, box = train_dataset[img_id]\n",
    "visualize_single_sample(image, box, \"Original\")\n",
    "\n",
    "# Apply the image augmentation. Set probability of augmentation to 1, to make sure we see it\n",
    "custom_transform = CustomTransform(p=1)\n",
    "transformed_dataset = ChickenDataset(is_train=True,transforms=custom_transform)\n",
    "\n",
    "# Visualize the results\n",
    "image_transformed, box_transformed = transformed_dataset[img_id]\n",
    "visualize_single_sample(to_pil_image(image_transformed), box_transformed, \"Augmented\")"
   ]
  },
  {
   "cell_type": "markdown",
   "metadata": {
    "id": "yIIgeF2cYv9X"
   },
   "source": [
    "# 4: AlexNet with data augmentation\n",
    "\n",
    "## 4.1: Training\n",
    "Let's train AlexNet again, but with augmentation this time.\n",
    "\n",
    "We now have to load the CustomTransform class:"
   ]
  },
  {
   "cell_type": "code",
   "execution_count": null,
   "metadata": {
    "id": "wpPp1BwZnHnP"
   },
   "outputs": [],
   "source": [
    "train_augs = CustomTransform(p=1.0)\n",
    "test_augs = no_aug"
   ]
  },
  {
   "cell_type": "markdown",
   "metadata": {
    "id": "-D6K-z984Sze"
   },
   "source": [
    "And apply it during training.\n",
    "\n",
    "**Exercise:**\n",
    "* Train the network below\n",
    "* Observe the development of training and test loss. What is your conclusion about the data augmentation applied?"
   ]
  },
  {
   "cell_type": "code",
   "execution_count": null,
   "metadata": {
    "colab": {
     "base_uri": "https://localhost:8080/",
     "height": 324
    },
    "executionInfo": {
     "elapsed": 173826,
     "status": "ok",
     "timestamp": 1680001398943,
     "user": {
      "displayName": "Gert Kootstra",
      "userId": "13607590106681261247"
     },
     "user_tz": -120
    },
    "id": "MpRwT17-dNIw",
    "outputId": "20369f7c-53af-4ea1-f8e6-032caef3f95b"
   },
   "outputs": [],
   "source": [
    "# Make sure the network has freshly initialized weights\n",
    "alexnet.apply(init_weights)\n",
    "\n",
    "# Train with data aug\n",
    "train_net(alexnet, train_augs, test_augs, lr=0.0001, num_epochs=35)"
   ]
  },
  {
   "cell_type": "markdown",
   "metadata": {
    "id": "hbKc-r5Qo2fx"
   },
   "source": [
    "## 4.2: Predicting\n",
    "Let's have a look at the results\n",
    "\n",
    "**Exercise:**\n",
    "* Run the code below. What do you think of the predictions the network now makes?"
   ]
  },
  {
   "cell_type": "code",
   "execution_count": null,
   "metadata": {
    "colab": {
     "base_uri": "https://localhost:8080/",
     "height": 528
    },
    "executionInfo": {
     "elapsed": 1016,
     "status": "ok",
     "timestamp": 1680001411120,
     "user": {
      "displayName": "Gert Kootstra",
      "userId": "13607590106681261247"
     },
     "user_tz": -120
    },
    "id": "WwMLBlHG2O2O",
    "outputId": "5bcd493a-1395-4752-cfb0-41b2655c986e"
   },
   "outputs": [],
   "source": [
    "test_loader = load_test_data(test_augs, batch_size=1)\n",
    "imgs= []\n",
    "outputs = []\n",
    "\n",
    "for index, (img, labels) in enumerate(test_loader):\n",
    "  pred_box = predict(alexnet, img)[0]\n",
    "  # detach the tensor from the computational graph:\n",
    "  box = pred_box.detach().cpu()\n",
    "  outputs.append(box)\n",
    "  imgs.append(to_pil_image(img[0]))\n",
    "  if index == 10:\n",
    "    break\n",
    "\n",
    "plot_samples(imgs, outputs, 2, 5) "
   ]
  },
  {
   "cell_type": "markdown",
   "metadata": {
    "id": "dQSlS6gFOxIh"
   },
   "source": [
    "# 5: Conclusion\n",
    "\n",
    "You have seen that it is important that the training data resembles the test data. As in this examples, that was not the case, you needed to apply data augmentations to scale and translate the images. However, that influenced not only the input to the network, but also the data labels. Therefore, you needed to apply data augmentation to the bounding box coordinates as well. With that in place, you have seen that the AlexNet can learn to locate the chickens in the images. "
   ]
  },
  {
   "cell_type": "code",
   "execution_count": null,
   "metadata": {
    "id": "U8tIsKeYT5x3"
   },
   "outputs": [],
   "source": []
  }
 ],
 "metadata": {
  "accelerator": "GPU",
  "colab": {
   "provenance": [],
   "toc_visible": true
  },
  "gpuClass": "standard",
  "kernelspec": {
   "display_name": "Python [conda env:pytorch-env]",
   "language": "python",
   "name": "conda-env-pytorch-env-py"
  },
  "language_info": {
   "codemirror_mode": {
    "name": "ipython",
    "version": 3
   },
   "file_extension": ".py",
   "mimetype": "text/x-python",
   "name": "python",
   "nbconvert_exporter": "python",
   "pygments_lexer": "ipython3",
   "version": "3.10.4"
  }
 },
 "nbformat": 4,
 "nbformat_minor": 4
}
