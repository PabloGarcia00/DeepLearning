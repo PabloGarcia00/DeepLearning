{
 "cells": [
  {
   "cell_type": "markdown",
   "id": "d5312217-a246-4ab1-aeac-b9d682004ba1",
   "metadata": {},
   "source": [
    "# Tuesday: Overfitting and optimization\n",
    "\n",
    "## hyperparameters\n",
    "\n",
    "## weight decay \n",
    "\n",
    "weight decay is method to fight overfitting. It adds a penalty term as seen in machine learning (Lasso):\n",
    "* L1-norm regularization: uses absolute sum &rarr; higher tendency to force weights to zero.\n",
    "* L2-norm regularization &rarr; uses sum of quadratic weights &rarr; retains all the weights, but only. smaller\n",
    "\n",
    "## Batch normalization\n",
    "\n",
    "Apply the median normalization to all of the batches in the dataset during trianing. The batches will then have a mean of zero and a standard deviation of 1. The parameters $\\lambda$ and $\\beta$ are learned by the model and are introduced to stretch and shift the distribution respectively. This is necessary as normalizing everything to a sigmoid function it might put all the values in the region where the sigmoid behaves linearly i.e. you lose information that was present in the data.\n",
    "\n",
    "$$\\Large BN(x) = \\lambda \\circ \\frac{x-\\hat{\\mu}}{\\hat{\\hat{\\sigma}}}+\\beta$$\n",
    "\n",
    "Why do it:\n",
    "* more comparible due to similar levels.\n",
    "* when the values are more closely together, the weights need less tuning.\n",
    "* aids in the regularization process.\n",
    "* faster\n",
    "\n",
    "\n",
    "## dropout \n",
    "\n",
    "Dropping out neurons at random during the forward pass. Their are two values the neuron can take 0 or its current state ($h$) $\\large \\frac{h}{1-p}$, with $p$ being the dropout probability. The dropout probability is a hyperparameter.\n",
    "\n",
    "why: \n",
    "* the neurons attains different methods to get an output, as it can not always rely on the other neurons (similar to bagging).\n",
    "* simpler functions.\n",
    "* wisdom of the crowd idea.\n",
    "\n"
   ]
  },
  {
   "cell_type": "code",
   "execution_count": null,
   "id": "9b40ecc4-bb87-4e21-a999-1765eb670f4d",
   "metadata": {},
   "outputs": [],
   "source": []
  }
 ],
 "metadata": {
  "kernelspec": {
   "display_name": "Python [conda env:pytorch]",
   "language": "python",
   "name": "conda-env-pytorch-py"
  },
  "language_info": {
   "codemirror_mode": {
    "name": "ipython",
    "version": 3
   },
   "file_extension": ".py",
   "mimetype": "text/x-python",
   "name": "python",
   "nbconvert_exporter": "python",
   "pygments_lexer": "ipython3",
   "version": "3.11.3"
  }
 },
 "nbformat": 4,
 "nbformat_minor": 5
}
