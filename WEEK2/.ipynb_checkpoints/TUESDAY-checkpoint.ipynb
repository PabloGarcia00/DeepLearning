{
 "cells": [
  {
   "cell_type": "markdown",
   "id": "d5312217-a246-4ab1-aeac-b9d682004ba1",
   "metadata": {},
   "source": [
    "# Tuesday: Overfitting and optimization\n",
    "\n",
    "## hyperparameters\n",
    "\n",
    "## weight decay \n",
    "\n",
    "## Batch normalization\n",
    "\n",
    "## dropout \n"
   ]
  }
 ],
 "metadata": {
  "kernelspec": {
   "display_name": "Python [conda env:pytorch]",
   "language": "python",
   "name": "conda-env-pytorch-py"
  },
  "language_info": {
   "codemirror_mode": {
    "name": "ipython",
    "version": 3
   },
   "file_extension": ".py",
   "mimetype": "text/x-python",
   "name": "python",
   "nbconvert_exporter": "python",
   "pygments_lexer": "ipython3",
   "version": "3.11.3"
  }
 },
 "nbformat": 4,
 "nbformat_minor": 5
}
