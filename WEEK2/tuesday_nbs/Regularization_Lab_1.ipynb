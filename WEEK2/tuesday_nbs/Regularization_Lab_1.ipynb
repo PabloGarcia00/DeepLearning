{
 "cells": [
  {
   "cell_type": "markdown",
   "metadata": {
    "id": "_arhPUkn4yYA"
   },
   "source": [
    "# Regularizations with CNNs\n",
    "\n",
    "## Lab 1 Regularization by Weight Decay & Momentum\n",
    "\n",
    "Author: M. Rußwurm, 2024, based on notebooks from D.Tuia (2020)\n",
    "\n",
    "In this lab, we first explore the effect weight decay on training and model parameter. Then we improve training by adding a momentum term to the optimizer."
   ]
  },
  {
   "cell_type": "markdown",
   "metadata": {
    "collapsed": false,
    "jupyter": {
     "outputs_hidden": false
    }
   },
   "source": [
    "### Setup\n",
    "\n",
    "Let's get the required python packages\n",
    "\n",
    "**d2l** Package:\n",
    "The \"d2l\" (short for \"dive into deep learning\") package is a Python library designed to accompany the book \"Dive into Deep Learning\"\n",
    "\n",
    "**Pytoch**:\n",
    "Pytorch is an open-source machine learning library and scientific computing framework, primarily used for deep learning applications. \n",
    "\n",
    "**sklearn.metrics**:\n",
    "The \"sklearn.metrics\" module is part of the scikit-learn library, a popular machine learning library in Python. The metrics module specifically focuses on providing tools for evaluating the performance of machine learning models."
   ]
  },
  {
   "cell_type": "code",
   "execution_count": 14,
   "metadata": {
    "ExecuteTime": {
     "end_time": "2024-03-12T15:21:10.218157Z",
     "start_time": "2024-03-12T15:21:06.413021Z"
    },
    "collapsed": false,
    "jupyter": {
     "outputs_hidden": false
    }
   },
   "outputs": [
    {
     "name": "stdout",
     "output_type": "stream",
     "text": [
      "Requirement already satisfied: d2l in /home/llan/miniconda3/envs/pytorch/lib/python3.11/site-packages (0.16.1)\n",
      "Requirement already satisfied: jupyter in /home/llan/miniconda3/envs/pytorch/lib/python3.11/site-packages (from d2l) (1.0.0)\n",
      "Requirement already satisfied: numpy in /home/llan/miniconda3/envs/pytorch/lib/python3.11/site-packages (from d2l) (1.23.5)\n",
      "Requirement already satisfied: matplotlib in /home/llan/miniconda3/envs/pytorch/lib/python3.11/site-packages (from d2l) (3.7.2)\n",
      "Requirement already satisfied: pandas in /home/llan/miniconda3/envs/pytorch/lib/python3.11/site-packages (from d2l) (2.0.3)\n",
      "Requirement already satisfied: notebook in /home/llan/miniconda3/envs/pytorch/lib/python3.11/site-packages (from jupyter->d2l) (7.1.1)\n",
      "Requirement already satisfied: qtconsole in /home/llan/miniconda3/envs/pytorch/lib/python3.11/site-packages (from jupyter->d2l) (5.5.1)\n",
      "Requirement already satisfied: jupyter-console in /home/llan/miniconda3/envs/pytorch/lib/python3.11/site-packages (from jupyter->d2l) (6.6.3)\n",
      "Requirement already satisfied: nbconvert in /home/llan/miniconda3/envs/pytorch/lib/python3.11/site-packages (from jupyter->d2l) (7.16.2)\n",
      "Requirement already satisfied: ipykernel in /home/llan/miniconda3/envs/pytorch/lib/python3.11/site-packages (from jupyter->d2l) (6.29.3)\n",
      "Requirement already satisfied: ipywidgets in /home/llan/miniconda3/envs/pytorch/lib/python3.11/site-packages (from jupyter->d2l) (8.1.2)\n",
      "Requirement already satisfied: contourpy>=1.0.1 in /home/llan/miniconda3/envs/pytorch/lib/python3.11/site-packages (from matplotlib->d2l) (1.2.0)\n",
      "Requirement already satisfied: cycler>=0.10 in /home/llan/miniconda3/envs/pytorch/lib/python3.11/site-packages (from matplotlib->d2l) (0.12.1)\n",
      "Requirement already satisfied: fonttools>=4.22.0 in /home/llan/miniconda3/envs/pytorch/lib/python3.11/site-packages (from matplotlib->d2l) (4.49.0)\n",
      "Requirement already satisfied: kiwisolver>=1.0.1 in /home/llan/miniconda3/envs/pytorch/lib/python3.11/site-packages (from matplotlib->d2l) (1.4.5)\n",
      "Requirement already satisfied: packaging>=20.0 in /home/llan/miniconda3/envs/pytorch/lib/python3.11/site-packages (from matplotlib->d2l) (23.2)\n",
      "Requirement already satisfied: pillow>=6.2.0 in /home/llan/miniconda3/envs/pytorch/lib/python3.11/site-packages (from matplotlib->d2l) (10.2.0)\n",
      "Requirement already satisfied: pyparsing<3.1,>=2.3.1 in /home/llan/miniconda3/envs/pytorch/lib/python3.11/site-packages (from matplotlib->d2l) (3.0.9)\n",
      "Requirement already satisfied: python-dateutil>=2.7 in /home/llan/miniconda3/envs/pytorch/lib/python3.11/site-packages (from matplotlib->d2l) (2.8.2)\n",
      "Requirement already satisfied: pytz>=2020.1 in /home/llan/miniconda3/envs/pytorch/lib/python3.11/site-packages (from pandas->d2l) (2024.1)\n",
      "Requirement already satisfied: tzdata>=2022.1 in /home/llan/miniconda3/envs/pytorch/lib/python3.11/site-packages (from pandas->d2l) (2024.1)\n",
      "Requirement already satisfied: six>=1.5 in /home/llan/miniconda3/envs/pytorch/lib/python3.11/site-packages (from python-dateutil>=2.7->matplotlib->d2l) (1.16.0)\n",
      "Requirement already satisfied: comm>=0.1.1 in /home/llan/miniconda3/envs/pytorch/lib/python3.11/site-packages (from ipykernel->jupyter->d2l) (0.2.1)\n",
      "Requirement already satisfied: debugpy>=1.6.5 in /home/llan/miniconda3/envs/pytorch/lib/python3.11/site-packages (from ipykernel->jupyter->d2l) (1.8.1)\n",
      "Requirement already satisfied: ipython>=7.23.1 in /home/llan/miniconda3/envs/pytorch/lib/python3.11/site-packages (from ipykernel->jupyter->d2l) (8.22.2)\n",
      "Requirement already satisfied: jupyter-client>=6.1.12 in /home/llan/miniconda3/envs/pytorch/lib/python3.11/site-packages (from ipykernel->jupyter->d2l) (8.6.0)\n",
      "Requirement already satisfied: jupyter-core!=5.0.*,>=4.12 in /home/llan/miniconda3/envs/pytorch/lib/python3.11/site-packages (from ipykernel->jupyter->d2l) (5.7.1)\n",
      "Requirement already satisfied: matplotlib-inline>=0.1 in /home/llan/miniconda3/envs/pytorch/lib/python3.11/site-packages (from ipykernel->jupyter->d2l) (0.1.6)\n",
      "Requirement already satisfied: nest-asyncio in /home/llan/miniconda3/envs/pytorch/lib/python3.11/site-packages (from ipykernel->jupyter->d2l) (1.6.0)\n",
      "Requirement already satisfied: psutil in /home/llan/miniconda3/envs/pytorch/lib/python3.11/site-packages (from ipykernel->jupyter->d2l) (5.9.8)\n",
      "Requirement already satisfied: pyzmq>=24 in /home/llan/miniconda3/envs/pytorch/lib/python3.11/site-packages (from ipykernel->jupyter->d2l) (25.1.2)\n",
      "Requirement already satisfied: tornado>=6.1 in /home/llan/miniconda3/envs/pytorch/lib/python3.11/site-packages (from ipykernel->jupyter->d2l) (6.4)\n",
      "Requirement already satisfied: traitlets>=5.4.0 in /home/llan/miniconda3/envs/pytorch/lib/python3.11/site-packages (from ipykernel->jupyter->d2l) (5.14.1)\n",
      "Requirement already satisfied: widgetsnbextension~=4.0.10 in /home/llan/miniconda3/envs/pytorch/lib/python3.11/site-packages (from ipywidgets->jupyter->d2l) (4.0.10)\n",
      "Requirement already satisfied: jupyterlab-widgets~=3.0.10 in /home/llan/miniconda3/envs/pytorch/lib/python3.11/site-packages (from ipywidgets->jupyter->d2l) (3.0.10)\n",
      "Requirement already satisfied: prompt-toolkit>=3.0.30 in /home/llan/miniconda3/envs/pytorch/lib/python3.11/site-packages (from jupyter-console->jupyter->d2l) (3.0.43)\n",
      "Requirement already satisfied: pygments in /home/llan/miniconda3/envs/pytorch/lib/python3.11/site-packages (from jupyter-console->jupyter->d2l) (2.17.2)\n",
      "Requirement already satisfied: beautifulsoup4 in /home/llan/miniconda3/envs/pytorch/lib/python3.11/site-packages (from nbconvert->jupyter->d2l) (4.12.3)\n",
      "Requirement already satisfied: bleach!=5.0.0 in /home/llan/miniconda3/envs/pytorch/lib/python3.11/site-packages (from nbconvert->jupyter->d2l) (6.1.0)\n",
      "Requirement already satisfied: defusedxml in /home/llan/miniconda3/envs/pytorch/lib/python3.11/site-packages (from nbconvert->jupyter->d2l) (0.7.1)\n",
      "Requirement already satisfied: jinja2>=3.0 in /home/llan/miniconda3/envs/pytorch/lib/python3.11/site-packages (from nbconvert->jupyter->d2l) (3.1.2)\n",
      "Requirement already satisfied: jupyterlab-pygments in /home/llan/miniconda3/envs/pytorch/lib/python3.11/site-packages (from nbconvert->jupyter->d2l) (0.3.0)\n",
      "Requirement already satisfied: markupsafe>=2.0 in /home/llan/miniconda3/envs/pytorch/lib/python3.11/site-packages (from nbconvert->jupyter->d2l) (2.1.1)\n",
      "Requirement already satisfied: mistune<4,>=2.0.3 in /home/llan/miniconda3/envs/pytorch/lib/python3.11/site-packages (from nbconvert->jupyter->d2l) (3.0.2)\n",
      "Requirement already satisfied: nbclient>=0.5.0 in /home/llan/miniconda3/envs/pytorch/lib/python3.11/site-packages (from nbconvert->jupyter->d2l) (0.9.0)\n",
      "Requirement already satisfied: nbformat>=5.7 in /home/llan/miniconda3/envs/pytorch/lib/python3.11/site-packages (from nbconvert->jupyter->d2l) (5.9.2)\n",
      "Requirement already satisfied: pandocfilters>=1.4.1 in /home/llan/miniconda3/envs/pytorch/lib/python3.11/site-packages (from nbconvert->jupyter->d2l) (1.5.1)\n",
      "Requirement already satisfied: tinycss2 in /home/llan/miniconda3/envs/pytorch/lib/python3.11/site-packages (from nbconvert->jupyter->d2l) (1.2.1)\n",
      "Requirement already satisfied: jupyter-server<3,>=2.4.0 in /home/llan/miniconda3/envs/pytorch/lib/python3.11/site-packages (from notebook->jupyter->d2l) (2.13.0)\n",
      "Requirement already satisfied: jupyterlab-server<3,>=2.22.1 in /home/llan/miniconda3/envs/pytorch/lib/python3.11/site-packages (from notebook->jupyter->d2l) (2.25.3)\n",
      "Requirement already satisfied: jupyterlab<4.2,>=4.1.1 in /home/llan/miniconda3/envs/pytorch/lib/python3.11/site-packages (from notebook->jupyter->d2l) (4.1.4)\n",
      "Requirement already satisfied: notebook-shim<0.3,>=0.2 in /home/llan/miniconda3/envs/pytorch/lib/python3.11/site-packages (from notebook->jupyter->d2l) (0.2.4)\n",
      "Requirement already satisfied: qtpy>=2.4.0 in /home/llan/miniconda3/envs/pytorch/lib/python3.11/site-packages (from qtconsole->jupyter->d2l) (2.4.1)\n",
      "Requirement already satisfied: webencodings in /home/llan/miniconda3/envs/pytorch/lib/python3.11/site-packages (from bleach!=5.0.0->nbconvert->jupyter->d2l) (0.5.1)\n",
      "Requirement already satisfied: decorator in /home/llan/miniconda3/envs/pytorch/lib/python3.11/site-packages (from ipython>=7.23.1->ipykernel->jupyter->d2l) (5.1.1)\n",
      "Requirement already satisfied: jedi>=0.16 in /home/llan/miniconda3/envs/pytorch/lib/python3.11/site-packages (from ipython>=7.23.1->ipykernel->jupyter->d2l) (0.19.1)\n",
      "Requirement already satisfied: stack-data in /home/llan/miniconda3/envs/pytorch/lib/python3.11/site-packages (from ipython>=7.23.1->ipykernel->jupyter->d2l) (0.6.3)\n",
      "Requirement already satisfied: pexpect>4.3 in /home/llan/miniconda3/envs/pytorch/lib/python3.11/site-packages (from ipython>=7.23.1->ipykernel->jupyter->d2l) (4.9.0)\n",
      "Requirement already satisfied: platformdirs>=2.5 in /home/llan/miniconda3/envs/pytorch/lib/python3.11/site-packages (from jupyter-core!=5.0.*,>=4.12->ipykernel->jupyter->d2l) (4.2.0)\n",
      "Requirement already satisfied: anyio>=3.1.0 in /home/llan/miniconda3/envs/pytorch/lib/python3.11/site-packages (from jupyter-server<3,>=2.4.0->notebook->jupyter->d2l) (4.3.0)\n",
      "Requirement already satisfied: argon2-cffi in /home/llan/miniconda3/envs/pytorch/lib/python3.11/site-packages (from jupyter-server<3,>=2.4.0->notebook->jupyter->d2l) (23.1.0)\n",
      "Requirement already satisfied: jupyter-events>=0.9.0 in /home/llan/miniconda3/envs/pytorch/lib/python3.11/site-packages (from jupyter-server<3,>=2.4.0->notebook->jupyter->d2l) (0.9.0)\n",
      "Requirement already satisfied: jupyter-server-terminals in /home/llan/miniconda3/envs/pytorch/lib/python3.11/site-packages (from jupyter-server<3,>=2.4.0->notebook->jupyter->d2l) (0.5.2)\n",
      "Requirement already satisfied: overrides in /home/llan/miniconda3/envs/pytorch/lib/python3.11/site-packages (from jupyter-server<3,>=2.4.0->notebook->jupyter->d2l) (7.7.0)\n",
      "Requirement already satisfied: prometheus-client in /home/llan/miniconda3/envs/pytorch/lib/python3.11/site-packages (from jupyter-server<3,>=2.4.0->notebook->jupyter->d2l) (0.20.0)\n",
      "Requirement already satisfied: send2trash>=1.8.2 in /home/llan/miniconda3/envs/pytorch/lib/python3.11/site-packages (from jupyter-server<3,>=2.4.0->notebook->jupyter->d2l) (1.8.2)\n",
      "Requirement already satisfied: terminado>=0.8.3 in /home/llan/miniconda3/envs/pytorch/lib/python3.11/site-packages (from jupyter-server<3,>=2.4.0->notebook->jupyter->d2l) (0.18.0)\n",
      "Requirement already satisfied: websocket-client in /home/llan/miniconda3/envs/pytorch/lib/python3.11/site-packages (from jupyter-server<3,>=2.4.0->notebook->jupyter->d2l) (1.7.0)\n",
      "Requirement already satisfied: async-lru>=1.0.0 in /home/llan/miniconda3/envs/pytorch/lib/python3.11/site-packages (from jupyterlab<4.2,>=4.1.1->notebook->jupyter->d2l) (2.0.4)\n",
      "Requirement already satisfied: httpx>=0.25.0 in /home/llan/miniconda3/envs/pytorch/lib/python3.11/site-packages (from jupyterlab<4.2,>=4.1.1->notebook->jupyter->d2l) (0.27.0)\n",
      "Requirement already satisfied: jupyter-lsp>=2.0.0 in /home/llan/miniconda3/envs/pytorch/lib/python3.11/site-packages (from jupyterlab<4.2,>=4.1.1->notebook->jupyter->d2l) (2.2.4)\n",
      "Requirement already satisfied: babel>=2.10 in /home/llan/miniconda3/envs/pytorch/lib/python3.11/site-packages (from jupyterlab-server<3,>=2.22.1->notebook->jupyter->d2l) (2.14.0)\n",
      "Requirement already satisfied: json5>=0.9.0 in /home/llan/miniconda3/envs/pytorch/lib/python3.11/site-packages (from jupyterlab-server<3,>=2.22.1->notebook->jupyter->d2l) (0.9.22)\n",
      "Requirement already satisfied: jsonschema>=4.18.0 in /home/llan/miniconda3/envs/pytorch/lib/python3.11/site-packages (from jupyterlab-server<3,>=2.22.1->notebook->jupyter->d2l) (4.21.1)\n",
      "Requirement already satisfied: requests>=2.31 in /home/llan/miniconda3/envs/pytorch/lib/python3.11/site-packages (from jupyterlab-server<3,>=2.22.1->notebook->jupyter->d2l) (2.31.0)\n",
      "Requirement already satisfied: fastjsonschema in /home/llan/miniconda3/envs/pytorch/lib/python3.11/site-packages (from nbformat>=5.7->nbconvert->jupyter->d2l) (2.19.1)\n",
      "Requirement already satisfied: wcwidth in /home/llan/miniconda3/envs/pytorch/lib/python3.11/site-packages (from prompt-toolkit>=3.0.30->jupyter-console->jupyter->d2l) (0.2.13)\n",
      "Requirement already satisfied: soupsieve>1.2 in /home/llan/miniconda3/envs/pytorch/lib/python3.11/site-packages (from beautifulsoup4->nbconvert->jupyter->d2l) (2.5)\n",
      "Requirement already satisfied: idna>=2.8 in /home/llan/miniconda3/envs/pytorch/lib/python3.11/site-packages (from anyio>=3.1.0->jupyter-server<3,>=2.4.0->notebook->jupyter->d2l) (3.4)\n",
      "Requirement already satisfied: sniffio>=1.1 in /home/llan/miniconda3/envs/pytorch/lib/python3.11/site-packages (from anyio>=3.1.0->jupyter-server<3,>=2.4.0->notebook->jupyter->d2l) (1.3.1)\n",
      "Requirement already satisfied: certifi in /home/llan/miniconda3/envs/pytorch/lib/python3.11/site-packages (from httpx>=0.25.0->jupyterlab<4.2,>=4.1.1->notebook->jupyter->d2l) (2023.5.7)\n",
      "Requirement already satisfied: httpcore==1.* in /home/llan/miniconda3/envs/pytorch/lib/python3.11/site-packages (from httpx>=0.25.0->jupyterlab<4.2,>=4.1.1->notebook->jupyter->d2l) (1.0.4)\n",
      "Requirement already satisfied: h11<0.15,>=0.13 in /home/llan/miniconda3/envs/pytorch/lib/python3.11/site-packages (from httpcore==1.*->httpx>=0.25.0->jupyterlab<4.2,>=4.1.1->notebook->jupyter->d2l) (0.14.0)\n",
      "Requirement already satisfied: parso<0.9.0,>=0.8.3 in /home/llan/miniconda3/envs/pytorch/lib/python3.11/site-packages (from jedi>=0.16->ipython>=7.23.1->ipykernel->jupyter->d2l) (0.8.3)\n",
      "Requirement already satisfied: attrs>=22.2.0 in /home/llan/miniconda3/envs/pytorch/lib/python3.11/site-packages (from jsonschema>=4.18.0->jupyterlab-server<3,>=2.22.1->notebook->jupyter->d2l) (23.2.0)\n",
      "Requirement already satisfied: jsonschema-specifications>=2023.03.6 in /home/llan/miniconda3/envs/pytorch/lib/python3.11/site-packages (from jsonschema>=4.18.0->jupyterlab-server<3,>=2.22.1->notebook->jupyter->d2l) (2023.12.1)\n",
      "Requirement already satisfied: referencing>=0.28.4 in /home/llan/miniconda3/envs/pytorch/lib/python3.11/site-packages (from jsonschema>=4.18.0->jupyterlab-server<3,>=2.22.1->notebook->jupyter->d2l) (0.33.0)\n",
      "Requirement already satisfied: rpds-py>=0.7.1 in /home/llan/miniconda3/envs/pytorch/lib/python3.11/site-packages (from jsonschema>=4.18.0->jupyterlab-server<3,>=2.22.1->notebook->jupyter->d2l) (0.18.0)\n",
      "Requirement already satisfied: python-json-logger>=2.0.4 in /home/llan/miniconda3/envs/pytorch/lib/python3.11/site-packages (from jupyter-events>=0.9.0->jupyter-server<3,>=2.4.0->notebook->jupyter->d2l) (2.0.7)\n",
      "Requirement already satisfied: pyyaml>=5.3 in /home/llan/miniconda3/envs/pytorch/lib/python3.11/site-packages (from jupyter-events>=0.9.0->jupyter-server<3,>=2.4.0->notebook->jupyter->d2l) (6.0.1)\n",
      "Requirement already satisfied: rfc3339-validator in /home/llan/miniconda3/envs/pytorch/lib/python3.11/site-packages (from jupyter-events>=0.9.0->jupyter-server<3,>=2.4.0->notebook->jupyter->d2l) (0.1.4)\n",
      "Requirement already satisfied: rfc3986-validator>=0.1.1 in /home/llan/miniconda3/envs/pytorch/lib/python3.11/site-packages (from jupyter-events>=0.9.0->jupyter-server<3,>=2.4.0->notebook->jupyter->d2l) (0.1.1)\n",
      "Requirement already satisfied: ptyprocess>=0.5 in /home/llan/miniconda3/envs/pytorch/lib/python3.11/site-packages (from pexpect>4.3->ipython>=7.23.1->ipykernel->jupyter->d2l) (0.7.0)\n",
      "Requirement already satisfied: charset-normalizer<4,>=2 in /home/llan/miniconda3/envs/pytorch/lib/python3.11/site-packages (from requests>=2.31->jupyterlab-server<3,>=2.22.1->notebook->jupyter->d2l) (2.0.4)\n",
      "Requirement already satisfied: urllib3<3,>=1.21.1 in /home/llan/miniconda3/envs/pytorch/lib/python3.11/site-packages (from requests>=2.31->jupyterlab-server<3,>=2.22.1->notebook->jupyter->d2l) (1.26.16)\n",
      "Requirement already satisfied: argon2-cffi-bindings in /home/llan/miniconda3/envs/pytorch/lib/python3.11/site-packages (from argon2-cffi->jupyter-server<3,>=2.4.0->notebook->jupyter->d2l) (21.2.0)\n",
      "Requirement already satisfied: executing>=1.2.0 in /home/llan/miniconda3/envs/pytorch/lib/python3.11/site-packages (from stack-data->ipython>=7.23.1->ipykernel->jupyter->d2l) (2.0.1)\n",
      "Requirement already satisfied: asttokens>=2.1.0 in /home/llan/miniconda3/envs/pytorch/lib/python3.11/site-packages (from stack-data->ipython>=7.23.1->ipykernel->jupyter->d2l) (2.4.1)\n",
      "Requirement already satisfied: pure-eval in /home/llan/miniconda3/envs/pytorch/lib/python3.11/site-packages (from stack-data->ipython>=7.23.1->ipykernel->jupyter->d2l) (0.2.2)\n",
      "Requirement already satisfied: fqdn in /home/llan/miniconda3/envs/pytorch/lib/python3.11/site-packages (from jsonschema>=4.18.0->jupyterlab-server<3,>=2.22.1->notebook->jupyter->d2l) (1.5.1)\n",
      "Requirement already satisfied: isoduration in /home/llan/miniconda3/envs/pytorch/lib/python3.11/site-packages (from jsonschema>=4.18.0->jupyterlab-server<3,>=2.22.1->notebook->jupyter->d2l) (20.11.0)\n",
      "Requirement already satisfied: jsonpointer>1.13 in /home/llan/miniconda3/envs/pytorch/lib/python3.11/site-packages (from jsonschema>=4.18.0->jupyterlab-server<3,>=2.22.1->notebook->jupyter->d2l) (2.4)\n",
      "Requirement already satisfied: uri-template in /home/llan/miniconda3/envs/pytorch/lib/python3.11/site-packages (from jsonschema>=4.18.0->jupyterlab-server<3,>=2.22.1->notebook->jupyter->d2l) (1.3.0)\n",
      "Requirement already satisfied: webcolors>=1.11 in /home/llan/miniconda3/envs/pytorch/lib/python3.11/site-packages (from jsonschema>=4.18.0->jupyterlab-server<3,>=2.22.1->notebook->jupyter->d2l) (1.13)\n",
      "Requirement already satisfied: cffi>=1.0.1 in /home/llan/miniconda3/envs/pytorch/lib/python3.11/site-packages (from argon2-cffi-bindings->argon2-cffi->jupyter-server<3,>=2.4.0->notebook->jupyter->d2l) (1.15.1)\n",
      "Requirement already satisfied: pycparser in /home/llan/miniconda3/envs/pytorch/lib/python3.11/site-packages (from cffi>=1.0.1->argon2-cffi-bindings->argon2-cffi->jupyter-server<3,>=2.4.0->notebook->jupyter->d2l) (2.21)\n",
      "Requirement already satisfied: arrow>=0.15.0 in /home/llan/miniconda3/envs/pytorch/lib/python3.11/site-packages (from isoduration->jsonschema>=4.18.0->jupyterlab-server<3,>=2.22.1->notebook->jupyter->d2l) (1.3.0)\n",
      "Requirement already satisfied: types-python-dateutil>=2.8.10 in /home/llan/miniconda3/envs/pytorch/lib/python3.11/site-packages (from arrow>=0.15.0->isoduration->jsonschema>=4.18.0->jupyterlab-server<3,>=2.22.1->notebook->jupyter->d2l) (2.8.19.20240311)\n"
     ]
    }
   ],
   "source": [
    "!pip install  d2l\n",
    "\n",
    "import torch\n",
    "from torch import nn\n",
    "from d2l import torch as d2l\n",
    "from sklearn.metrics import classification_report"
   ]
  },
  {
   "cell_type": "markdown",
   "metadata": {
    "collapsed": false,
    "id": "TqGqJ5fk1f3U",
    "jupyter": {
     "outputs_hidden": false
    }
   },
   "source": [
    "## Data - FashionMNIST\n",
    "\n",
    "Let's start by loading FashionMNIST data\n",
    "\n",
    "Fashion MNIST is a dataset used in machine learning and computer vision, serving as a benchmark for image classification tasks. It consists of 70,000 grayscale images of clothing items, categorized into 10 classes such as t-shirts, dresses, and sneakers. Fashion MNIST is a popular alternative to the traditional handwritten digit MNIST dataset, providing a more complex challenge for developing and testing image recognition algorithms."
   ]
  },
  {
   "cell_type": "code",
   "execution_count": 15,
   "metadata": {
    "ExecuteTime": {
     "end_time": "2024-03-12T15:21:12.268119Z",
     "start_time": "2024-03-12T15:21:10.219359Z"
    },
    "colab": {
     "base_uri": "https://localhost:8080/",
     "height": 211
    },
    "id": "q0_l88B-bawo",
    "outputId": "f374a494-f053-4429-81c7-60414870a196"
   },
   "outputs": [
    {
     "ename": "AttributeError",
     "evalue": "module 'd2l.torch' has no attribute 'FashionMNIST'",
     "output_type": "error",
     "traceback": [
      "\u001b[0;31m---------------------------------------------------------------------------\u001b[0m",
      "\u001b[0;31mAttributeError\u001b[0m                            Traceback (most recent call last)",
      "Cell \u001b[0;32mIn[15], line 1\u001b[0m\n\u001b[0;32m----> 1\u001b[0m fashionMNIST \u001b[38;5;241m=\u001b[39m \u001b[43md2l\u001b[49m\u001b[38;5;241;43m.\u001b[39;49m\u001b[43mFashionMNIST\u001b[49m(batch_size\u001b[38;5;241m=\u001b[39m\u001b[38;5;241m128\u001b[39m)\n\u001b[1;32m      3\u001b[0m train_dataloader \u001b[38;5;241m=\u001b[39m fashionMNIST\u001b[38;5;241m.\u001b[39mget_dataloader(train\u001b[38;5;241m=\u001b[39m\u001b[38;5;28;01mTrue\u001b[39;00m)\n\u001b[1;32m      4\u001b[0m val_dataloader \u001b[38;5;241m=\u001b[39m fashionMNIST\u001b[38;5;241m.\u001b[39mget_dataloader(train\u001b[38;5;241m=\u001b[39m\u001b[38;5;28;01mFalse\u001b[39;00m)\n",
      "\u001b[0;31mAttributeError\u001b[0m: module 'd2l.torch' has no attribute 'FashionMNIST'"
     ]
    }
   ],
   "source": [
    "fashionMNIST = d2l.FashionMNIST(batch_size=128)\n",
    "\n",
    "train_dataloader = fashionMNIST.get_dataloader(train=True)\n",
    "val_dataloader = fashionMNIST.get_dataloader(train=False)\n",
    "\n",
    "text_labels = ['t-shirt', 'trouser', 'pullover', 'dress', 'coat',\n",
    "                   'sandal', 'shirt', 'sneaker', 'bag', 'ankle boot']\n",
    "\n",
    "for batch in train_dataloader:\n",
    "    X,y = batch\n",
    "    fashionMNIST.visualize(batch)\n",
    "    break"
   ]
  },
  {
   "cell_type": "code",
   "execution_count": null,
   "metadata": {
    "ExecuteTime": {
     "end_time": "2024-03-12T15:24:26.568376Z",
     "start_time": "2024-03-12T15:24:26.557488Z"
    },
    "collapsed": false,
    "jupyter": {
     "outputs_hidden": false
    }
   },
   "outputs": [],
   "source": [
    "@torch.no_grad()\n",
    "def validate(model, dataloader):\n",
    "    y_pred = []\n",
    "    y_true = []\n",
    "    for X,y in dataloader:\n",
    "        y_true.append(y)\n",
    "        y_pred.append(model(X).argmax(1))\n",
    "        \n",
    "    y_true = torch.hstack(y_true)\n",
    "    y_pred = torch.hstack(y_pred)\n",
    "    \n",
    "    print(classification_report(y_pred=y_pred.numpy(), y_true=y_true.numpy(), labels=torch.arange(10).numpy(), target_names=text_labels))\n",
    "    "
   ]
  },
  {
   "cell_type": "markdown",
   "metadata": {
    "id": "uOMGikUM4QaY"
   },
   "source": [
    "## Model - Multi-Layer Perceptron\n",
    "\n",
    "Let's create an 3-layer MLP for this lab\n",
    "\n",
    "**Task**\n",
    "* add a `lr` and `weight` to the `__init__` function and store their values in the instance using, for instance `self.lr = ..`. This allows us to modify learning rate and weight decay later without de-defining the entire `MLPModel(d2l.Classifier)` class\n",
    "* add the `torch.optim.SGD` optimizer to the `configure_optimizers(self)` member function of the classifier"
   ]
  },
  {
   "cell_type": "code",
   "execution_count": null,
   "metadata": {
    "ExecuteTime": {
     "end_time": "2024-03-12T15:24:27.167288Z",
     "start_time": "2024-03-12T15:24:27.165232Z"
    },
    "id": "b87FR4_m1f3V"
   },
   "outputs": [],
   "source": [
    "class MLPModel(d2l.Classifier):\n",
    "    \n",
    "    # TODO: add lr and weight decay parameters to the init\n",
    "    #def __init__(self, num_classes=10, ...):\n",
    "    #    super().__init__()\n",
    "    #    \n",
    "    #    self.lr = ...\n",
    "    #    self.weight_decay = ... \n",
    "    \n",
    "    \n",
    "        \n",
    "        self.net = nn.Sequential(\n",
    "            nn.Flatten(),\n",
    "            nn.LazyLinear(120), nn.Sigmoid(),\n",
    "            nn.LazyLinear(84), nn.Sigmoid(),\n",
    "            nn.LazyLinear(num_classes))\n",
    "        \n",
    "        self.save_hyperparameters()\n",
    "\n",
    "    def training_step(self, batch):\n",
    "        Y_hat = self(*batch[:-1])\n",
    "        loss = self.loss(Y_hat, batch[-1])\n",
    "        self.plot('loss', loss, train=True)\n",
    "        self.plot('acc', self.accuracy(Y_hat, batch[-1]), train=True)\n",
    "        return loss # the package takes care of the\n",
    "\n",
    "    def validation_step(self, batch):\n",
    "        Y_hat = self(*batch[:-1])\n",
    "        self.plot('loss', self.loss(Y_hat, batch[-1]), train=False)\n",
    "        self.plot('acc', self.accuracy(Y_hat, batch[-1]), train=False)\n",
    "        \n",
    "    def configure_optimizers(self):\n",
    "        # TODO: implement the torch.optim.SGD optimizer with the self.lr and self.weight_decay parameters that are passed from the init function\n",
    "        #optimizer = ...\n",
    "        \n",
    "        return optimizer"
   ]
  },
  {
   "cell_type": "markdown",
   "metadata": {
    "collapsed": false,
    "jupyter": {
     "outputs_hidden": false
    }
   },
   "source": [
    "## Model Run #1 - No Weight Decay\n",
    "\n",
    "**Tasks**:\n",
    "* initialize the model defined above with a 1 learning rate and 0 weight decay\n",
    "* fit the model to the trainer using the `trainer.fit()` function"
   ]
  },
  {
   "cell_type": "code",
   "execution_count": null,
   "metadata": {
    "colab": {
     "base_uri": "https://localhost:8080/"
    },
    "id": "BLIxJSVE1f3V",
    "outputId": "ce5dda6a-35a4-4e71-c211-393183fe8608"
   },
   "outputs": [],
   "source": [
    "# TODO: initialize an instance of the model with the learning rate and weight decay specified above\n",
    "# model = ...\n",
    "\n",
    "\n",
    "model.layer_summary(X_shape=X.shape)\n",
    "\n",
    "trainer = d2l.Trainer(max_epochs=5, num_gpus=1)\n",
    "\n",
    "# TODO: Fit the model\n",
    "# trainer.fit(...)\n",
    "\n",
    "\n",
    "validate(model, val_dataloader)"
   ]
  },
  {
   "cell_type": "markdown",
   "metadata": {
    "collapsed": false,
    "jupyter": {
     "outputs_hidden": false
    }
   },
   "source": [
    "The following code \n",
    "* iterates throgh all parameters, reshapes them to a vector, and stacks all weight vectors to one `w`. \n",
    "* calculates the L2-Norm"
   ]
  },
  {
   "cell_type": "code",
   "execution_count": null,
   "metadata": {
    "ExecuteTime": {
     "end_time": "2024-03-13T08:56:37.452178Z",
     "start_time": "2024-03-13T08:56:37.432753Z"
    },
    "collapsed": false,
    "jupyter": {
     "outputs_hidden": false
    }
   },
   "outputs": [],
   "source": [
    "w = torch.hstack([param.view(-1) for param in model.parameters() if param.requires_grad])\n",
    "l2_norm = torch.norm(w, p=2)\n",
    "print(\"L2 Norm of all parameters: {:.4f}\".format(l2_norm))"
   ]
  },
  {
   "cell_type": "markdown",
   "metadata": {
    "collapsed": false,
    "jupyter": {
     "outputs_hidden": false
    }
   },
   "source": [
    "## Model Run #2 - Weight decay 0.0001 (or 1e-4)\n",
    "\n",
    "**Tasks**\n",
    "* re-train the model from above with the weight decay"
   ]
  },
  {
   "cell_type": "code",
   "execution_count": null,
   "metadata": {
    "ExecuteTime": {
     "end_time": "2024-03-12T15:21:36.852396Z",
     "start_time": "2024-03-12T15:21:36.852260Z"
    },
    "collapsed": false,
    "jupyter": {
     "outputs_hidden": false
    }
   },
   "outputs": [],
   "source": [
    "# TODO retrain the model from above\n",
    "# ...\n",
    "\n",
    "\n",
    "\n",
    "w = torch.hstack([param.view(-1) for param in model.parameters() if param.requires_grad])\n",
    "l2_norm = torch.norm(w, p=2)\n",
    "print(\"L2 Norm of all parameters: {:.4f}\".format(l2_norm))\n",
    "\n",
    "validate(model, val_dataloader)"
   ]
  },
  {
   "cell_type": "markdown",
   "metadata": {
    "collapsed": false,
    "jupyter": {
     "outputs_hidden": false
    }
   },
   "source": [
    "## Model Run #3 - Weight decay 0.01 (or 1e-2)"
   ]
  },
  {
   "cell_type": "code",
   "execution_count": null,
   "metadata": {
    "ExecuteTime": {
     "start_time": "2024-03-12T15:21:36.854370Z"
    },
    "collapsed": false,
    "jupyter": {
     "outputs_hidden": false
    }
   },
   "outputs": [],
   "source": [
    "# TODO retrain the model with the weight decay above\n",
    "# ...\n",
    "\n",
    "\n",
    "\n",
    "w = torch.hstack([param.view(-1) for param in model.parameters() if param.requires_grad])\n",
    "l2_norm = torch.norm(w, p=2)\n",
    "print(\"L2 Norm of all parameters: {:.4f}\".format(l2_norm))\n",
    "\n",
    "validate(model, val_dataloader)"
   ]
  },
  {
   "cell_type": "markdown",
   "metadata": {
    "collapsed": false,
    "jupyter": {
     "outputs_hidden": false
    }
   },
   "source": [
    "## Model Run #4 - Weight decay 0.0001 & Momentum 0.5\n",
    "\n",
    "**Tasks**\n",
    "* add a momentum term to the init function as `self.momentum`\n",
    "* pass it to the optimizer in `def configure_optimizers`"
   ]
  },
  {
   "cell_type": "code",
   "execution_count": null,
   "metadata": {
    "ExecuteTime": {
     "start_time": "2024-03-12T15:21:36.856259Z"
    },
    "collapsed": false,
    "jupyter": {
     "outputs_hidden": false
    }
   },
   "outputs": [],
   "source": [
    "class MLPModel(d2l.Classifier):\n",
    "    \n",
    "    # TODO: add momentum to the init function\n",
    "    #def __init__(self, lr=0.1, weight_decay=1e-4, num_classes=10, ...):\n",
    "    #    super().__init__()\n",
    "    #    self.lr = lr\n",
    "    #    self.weight_decay = weight_decay\n",
    "    #    self.mometum = ...\n",
    "    \n",
    "        return optimizer"
   ]
  },
  {
   "cell_type": "code",
   "execution_count": null,
   "metadata": {
    "ExecuteTime": {
     "start_time": "2024-03-12T15:21:36.857092Z"
    },
    "collapsed": false,
    "jupyter": {
     "outputs_hidden": false
    }
   },
   "outputs": [],
   "source": [
    "model = MLPModel(lr=1, weight_decay=1e-4, momentum=0.5)\n",
    "model.layer_summary(X_shape=X.shape)\n",
    "\n",
    "trainer = d2l.Trainer(max_epochs=10, num_gpus=1)\n",
    "trainer.fit(model, fashionMNIST)\n",
    "\n",
    "w = torch.hstack([param.view(-1) for param in model.parameters() if param.requires_grad])\n",
    "l2_norm = torch.norm(w, p=2)\n",
    "print(\"L2 Norm of all parameters: {:.4f}\".format(l2_norm))\n",
    "\n",
    "validate(model, val_dataloader)"
   ]
  },
  {
   "cell_type": "markdown",
   "metadata": {
    "collapsed": false,
    "jupyter": {
     "outputs_hidden": false
    }
   },
   "source": [
    "## Questions\n",
    "\n",
    "1. How does L2-regularization (i.e., weight decay) in ridge regression affect the norm of parameters of a linear model?\n",
    "\n",
    "\n",
    "\n",
    "2. How does the weight decay parameter affect the L2 norm of the trained MLP model? Why is it different here?\n",
    "\n"
   ]
  }
 ],
 "metadata": {
  "accelerator": "GPU",
  "colab": {
   "provenance": [],
   "toc_visible": true
  },
  "kernelspec": {
   "display_name": "Python [conda env:pytorch]",
   "language": "python",
   "name": "conda-env-pytorch-py"
  },
  "language_info": {
   "codemirror_mode": {
    "name": "ipython",
    "version": 3
   },
   "file_extension": ".py",
   "mimetype": "text/x-python",
   "name": "python",
   "nbconvert_exporter": "python",
   "pygments_lexer": "ipython3",
   "version": "3.11.3"
  }
 },
 "nbformat": 4,
 "nbformat_minor": 4
}
